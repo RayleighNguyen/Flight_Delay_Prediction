{
 "cells": [
  {
   "cell_type": "code",
   "execution_count": 42,
   "id": "dfea9671",
   "metadata": {},
   "outputs": [],
   "source": [
    "import pandas as pd\n",
    "import matplotlib.pyplot as plt\n",
    "import seaborn as sns\n",
    "import numpy as np\n",
    "import collections"
   ]
  },
  {
   "cell_type": "code",
   "execution_count": 43,
   "id": "cfe97164",
   "metadata": {},
   "outputs": [],
   "source": [
    "df = pd.read_csv('data/train_data_raw.csv')"
   ]
  },
  {
   "cell_type": "code",
   "execution_count": 44,
   "id": "675e679a",
   "metadata": {
    "scrolled": true
   },
   "outputs": [
    {
     "data": {
      "text/plain": [
       "Index(['fl_date', 'mkt_unique_carrier', 'branded_code_share', 'mkt_carrier',\n",
       "       'mkt_carrier_fl_num', 'op_unique_carrier', 'tail_num',\n",
       "       'op_carrier_fl_num', 'origin_airport_id', 'origin', 'origin_city_name',\n",
       "       'dest_airport_id', 'dest', 'dest_city_name', 'crs_dep_time', 'dep_time',\n",
       "       'dep_delay', 'taxi_out', 'wheels_off', 'wheels_on', 'taxi_in',\n",
       "       'crs_arr_time', 'arr_time', 'arr_delay', 'cancelled',\n",
       "       'cancellation_code', 'diverted', 'dup', 'crs_elapsed_time',\n",
       "       'actual_elapsed_time', 'air_time', 'flights', 'distance',\n",
       "       'carrier_delay', 'weather_delay', 'nas_delay', 'security_delay',\n",
       "       'late_aircraft_delay', 'first_dep_time', 'total_add_gtime',\n",
       "       'longest_add_gtime'],\n",
       "      dtype='object')"
      ]
     },
     "execution_count": 44,
     "metadata": {},
     "output_type": "execute_result"
    }
   ],
   "source": [
    "df.columns"
   ]
  },
  {
   "cell_type": "code",
   "execution_count": 45,
   "id": "935f358b",
   "metadata": {
    "scrolled": true
   },
   "outputs": [
    {
     "data": {
      "text/plain": [
       "(300000, 41)"
      ]
     },
     "execution_count": 45,
     "metadata": {},
     "output_type": "execute_result"
    }
   ],
   "source": [
    "df.shape"
   ]
  },
  {
   "cell_type": "markdown",
   "id": "f8c2e2ba",
   "metadata": {},
   "source": [
    "__Dataframe detail:__\n",
    "- Each month (Jan - Dec) has randomly 25000 flights. \n",
    "- The data only take from 2019"
   ]
  },
  {
   "cell_type": "markdown",
   "id": "4ab17903",
   "metadata": {},
   "source": [
    "### Data Cleaning"
   ]
  },
  {
   "cell_type": "markdown",
   "id": "14557be7",
   "metadata": {},
   "source": [
    "__Check the ralation between cancelled and diverted with arr_delay__"
   ]
  },
  {
   "cell_type": "code",
   "execution_count": 46,
   "id": "53739df7",
   "metadata": {},
   "outputs": [
    {
     "data": {
      "text/plain": [
       "6554"
      ]
     },
     "execution_count": 46,
     "metadata": {},
     "output_type": "execute_result"
    }
   ],
   "source": [
    "df[(df['cancelled'] == 1) | (df['diverted'] == 1)]['arr_delay'].isna().sum()"
   ]
  },
  {
   "cell_type": "code",
   "execution_count": 47,
   "id": "44c347ba",
   "metadata": {},
   "outputs": [],
   "source": [
    "# If the flight is cancelled or diverted \n",
    "# => we dont have the value for arr_delay\n",
    "# => we remove the rows that the flights had beed cancelled or diverted"
   ]
  },
  {
   "cell_type": "code",
   "execution_count": 48,
   "id": "0a1dac7a",
   "metadata": {},
   "outputs": [],
   "source": [
    "df = df[df['cancelled'] != 1]\n",
    "df = df[df['diverted'] != 1]"
   ]
  },
  {
   "cell_type": "code",
   "execution_count": 49,
   "id": "d37cabad",
   "metadata": {},
   "outputs": [
    {
     "data": {
      "text/plain": [
       "(293446, 41)"
      ]
     },
     "execution_count": 49,
     "metadata": {},
     "output_type": "execute_result"
    }
   ],
   "source": [
    "df.shape"
   ]
  },
  {
   "cell_type": "markdown",
   "id": "2d22e48c",
   "metadata": {},
   "source": [
    "#### Table flights_test\n",
    "This table consists of subset of columns from table flights. It represents flights from January 2020 which will be used for evaluation. Therefore, we are missing some features that we are not suppossed to know before the flight lands.\n",
    "\n",
    "##### Variables:\n",
    "\n",
    "__fl_date__: Flight Date (yyyy-mm-dd)  \n",
    "__mkt_unique_carrier__: Unique Marketing Carrier Code. When the same code has been used by multiple carriers, a numeric suffix is used for earlier users, for example, PA, PA(1), PA(2). Use this field for analysis across a range of years.  \n",
    "__branded_code_share__: Reporting Carrier Operated or Branded Code Share Partners  \n",
    "__mkt_carrier__: Code assigned by IATA and commonly used to identify a carrier. As the same code may have been assigned to different carriers over time, the code is not always unique. For analysis, use the Unique Carrier Code.  \n",
    "__mkt_carrier_fl_num__: Flight Number  \n",
    "__op_unique_carrier__: Unique Scheduled Operating Carrier Code. When the same code has been used by multiple carriers, a numeric suffix is used for earlier users,for example, PA, PA(1), PA(2). Use this field for analysis across a range of years.  \n",
    "__tail_num__: Tail Number  \n",
    "__op_carrier_fl_num__: Flight Number  \n",
    "__origin_airport_id__: Origin Airport, Airport ID. An identification number assigned by US DOT to identify a unique airport. Use this field for airport analysis across a range of years because an airport can change its airport code and airport codes can be reused.  \n",
    "__origin__: Origin Airport  \n",
    "__origin_city_name__: Origin Airport, City Name  \n",
    "__dest_airport_id__: Destination Airport, Airport ID. An identification number assigned by US DOT to identify a unique airport. Use this field for airport analysis across a range of years because an airport can change its airport code and airport codes can be reused.  \n",
    "__dest__: Destination Airport  \n",
    "__dest_city_name__: Destination Airport, City Name  \n",
    "__crs_dep_time__: CRS Departure Time (local time: hhmm)  \n",
    "__crs_arr_time__: CRS Arrival Time (local time: hhmm)  \n",
    "__dup__: Duplicate flag marked Y if the flight is swapped based on Form-3A data  \n",
    "__crs_elapsed_time__: CRS Elapsed Time of Flight, in Minutes  \n",
    "__flights__: Number of Flights  \n",
    "__distance__: Distance between airports (miles)  "
   ]
  },
  {
   "cell_type": "markdown",
   "id": "3366ceee",
   "metadata": {},
   "source": [
    "#### _Discussion_\n",
    "- _We only have 19 features (columns) in the test data, so we try to use the same feature for our sample data for futher exploration_\n",
    "- _We add 1 more feature_ __arr_delay__ _is our target_\n",
    "- I will use 'carrier_delay','weather_delay','dep_delay' to convert categorical feature into ordinal features based on weight"
   ]
  },
  {
   "cell_type": "code",
   "execution_count": 50,
   "id": "fb26f22e",
   "metadata": {},
   "outputs": [],
   "source": [
    "df_flight = df[['fl_date', 'mkt_unique_carrier', 'branded_code_share', \n",
    "        'mkt_carrier', 'mkt_carrier_fl_num',\n",
    "        'op_unique_carrier', 'tail_num', 'op_carrier_fl_num', 'origin_airport_id',\n",
    "        'origin', 'origin_city_name', 'dest_airport_id', 'dest', 'dest_city_name',\n",
    "        'crs_dep_time', 'crs_arr_time', 'dup', 'crs_elapsed_time', 'flights', 'distance',\n",
    "        'arr_delay', 'carrier_delay','weather_delay','dep_delay', 'taxi_out', 'taxi_in']]\n",
    "# 'carrier_delay','weather_delay','dep_delay' is used to convert categorical feature into ordinal features based on weight"
   ]
  },
  {
   "cell_type": "code",
   "execution_count": 51,
   "id": "a5dbfd43",
   "metadata": {},
   "outputs": [],
   "source": [
    "df_flight_test = pd.read_csv('data/flights_test.csv')"
   ]
  },
  {
   "cell_type": "code",
   "execution_count": 52,
   "id": "8f55b72c",
   "metadata": {},
   "outputs": [
    {
     "name": "stdout",
     "output_type": "stream",
     "text": [
      "<class 'pandas.core.frame.DataFrame'>\n",
      "Int64Index: 293446 entries, 0 to 299999\n",
      "Data columns (total 26 columns):\n",
      " #   Column              Non-Null Count   Dtype  \n",
      "---  ------              --------------   -----  \n",
      " 0   fl_date             293446 non-null  object \n",
      " 1   mkt_unique_carrier  293446 non-null  object \n",
      " 2   branded_code_share  293446 non-null  object \n",
      " 3   mkt_carrier         293446 non-null  object \n",
      " 4   mkt_carrier_fl_num  293446 non-null  int64  \n",
      " 5   op_unique_carrier   293446 non-null  object \n",
      " 6   tail_num            293446 non-null  object \n",
      " 7   op_carrier_fl_num   293446 non-null  int64  \n",
      " 8   origin_airport_id   293446 non-null  int64  \n",
      " 9   origin              293446 non-null  object \n",
      " 10  origin_city_name    293446 non-null  object \n",
      " 11  dest_airport_id     293446 non-null  int64  \n",
      " 12  dest                293446 non-null  object \n",
      " 13  dest_city_name      293446 non-null  object \n",
      " 14  crs_dep_time        293446 non-null  int64  \n",
      " 15  crs_arr_time        293446 non-null  int64  \n",
      " 16  dup                 293446 non-null  object \n",
      " 17  crs_elapsed_time    293446 non-null  float64\n",
      " 18  flights             293446 non-null  float64\n",
      " 19  distance            293446 non-null  float64\n",
      " 20  arr_delay           293446 non-null  float64\n",
      " 21  carrier_delay       56793 non-null   float64\n",
      " 22  weather_delay       56793 non-null   float64\n",
      " 23  dep_delay           293446 non-null  float64\n",
      " 24  taxi_out            293446 non-null  float64\n",
      " 25  taxi_in             293446 non-null  float64\n",
      "dtypes: float64(9), int64(6), object(11)\n",
      "memory usage: 60.4+ MB\n"
     ]
    }
   ],
   "source": [
    "df_flight.info()"
   ]
  },
  {
   "cell_type": "code",
   "execution_count": 53,
   "id": "58af8212",
   "metadata": {},
   "outputs": [
    {
     "data": {
      "text/plain": [
       "fl_date                    0\n",
       "mkt_unique_carrier         0\n",
       "branded_code_share         0\n",
       "mkt_carrier                0\n",
       "mkt_carrier_fl_num         0\n",
       "op_unique_carrier          0\n",
       "tail_num                   0\n",
       "op_carrier_fl_num          0\n",
       "origin_airport_id          0\n",
       "origin                     0\n",
       "origin_city_name           0\n",
       "dest_airport_id            0\n",
       "dest                       0\n",
       "dest_city_name             0\n",
       "crs_dep_time               0\n",
       "crs_arr_time               0\n",
       "dup                        0\n",
       "crs_elapsed_time           0\n",
       "flights                    0\n",
       "distance                   0\n",
       "arr_delay                  0\n",
       "carrier_delay         236653\n",
       "weather_delay         236653\n",
       "dep_delay                  0\n",
       "taxi_out                   0\n",
       "taxi_in                    0\n",
       "dtype: int64"
      ]
     },
     "execution_count": 53,
     "metadata": {},
     "output_type": "execute_result"
    }
   ],
   "source": [
    "df_flight.isna().sum()"
   ]
  },
  {
   "cell_type": "code",
   "execution_count": 54,
   "id": "19501768",
   "metadata": {
    "scrolled": true
   },
   "outputs": [
    {
     "name": "stderr",
     "output_type": "stream",
     "text": [
      "C:\\Users\\nqhuy\\AppData\\Local\\Temp/ipykernel_18848/258140478.py:2: SettingWithCopyWarning: \n",
      "A value is trying to be set on a copy of a slice from a DataFrame.\n",
      "Try using .loc[row_indexer,col_indexer] = value instead\n",
      "\n",
      "See the caveats in the documentation: https://pandas.pydata.org/pandas-docs/stable/user_guide/indexing.html#returning-a-view-versus-a-copy\n",
      "  df_flight['fl_date'] = pd.to_datetime(df_flight['fl_date'])\n"
     ]
    },
    {
     "data": {
      "text/plain": [
       "dtype('<M8[ns]')"
      ]
     },
     "execution_count": 54,
     "metadata": {},
     "output_type": "execute_result"
    }
   ],
   "source": [
    "# transform the feature fl_date into datetime_type\n",
    "df_flight['fl_date'] = pd.to_datetime(df_flight['fl_date'])\n",
    "df_flight['fl_date'].dtypes"
   ]
  },
  {
   "cell_type": "code",
   "execution_count": 55,
   "id": "5e2b9c86",
   "metadata": {},
   "outputs": [
    {
     "data": {
      "text/plain": [
       "dtype('<M8[ns]')"
      ]
     },
     "execution_count": 55,
     "metadata": {},
     "output_type": "execute_result"
    }
   ],
   "source": [
    "df_flight_test['fl_date'] = pd.to_datetime(df_flight_test['fl_date'])\n",
    "df_flight_test['fl_date'].dtypes"
   ]
  },
  {
   "cell_type": "markdown",
   "id": "e7320f14",
   "metadata": {},
   "source": [
    "__Check the relation between ['mkt_unique_carrier', 'mkt_carrier', 'branded_code_share']__"
   ]
  },
  {
   "cell_type": "code",
   "execution_count": 56,
   "id": "a1b46119",
   "metadata": {},
   "outputs": [
    {
     "data": {
      "text/html": [
       "<div>\n",
       "<style scoped>\n",
       "    .dataframe tbody tr th:only-of-type {\n",
       "        vertical-align: middle;\n",
       "    }\n",
       "\n",
       "    .dataframe tbody tr th {\n",
       "        vertical-align: top;\n",
       "    }\n",
       "\n",
       "    .dataframe thead th {\n",
       "        text-align: right;\n",
       "    }\n",
       "</style>\n",
       "<table border=\"1\" class=\"dataframe\">\n",
       "  <thead>\n",
       "    <tr style=\"text-align: right;\">\n",
       "      <th></th>\n",
       "      <th>mkt_unique_carrier</th>\n",
       "      <th>mkt_carrier</th>\n",
       "      <th>branded_code_share</th>\n",
       "    </tr>\n",
       "  </thead>\n",
       "  <tbody>\n",
       "    <tr>\n",
       "      <th>0</th>\n",
       "      <td>DL</td>\n",
       "      <td>DL</td>\n",
       "      <td>DL</td>\n",
       "    </tr>\n",
       "    <tr>\n",
       "      <th>1</th>\n",
       "      <td>WN</td>\n",
       "      <td>WN</td>\n",
       "      <td>WN</td>\n",
       "    </tr>\n",
       "    <tr>\n",
       "      <th>2</th>\n",
       "      <td>AA</td>\n",
       "      <td>AA</td>\n",
       "      <td>AA</td>\n",
       "    </tr>\n",
       "    <tr>\n",
       "      <th>3</th>\n",
       "      <td>UA</td>\n",
       "      <td>UA</td>\n",
       "      <td>UA_CODESHARE</td>\n",
       "    </tr>\n",
       "    <tr>\n",
       "      <th>4</th>\n",
       "      <td>DL</td>\n",
       "      <td>DL</td>\n",
       "      <td>DL</td>\n",
       "    </tr>\n",
       "    <tr>\n",
       "      <th>...</th>\n",
       "      <td>...</td>\n",
       "      <td>...</td>\n",
       "      <td>...</td>\n",
       "    </tr>\n",
       "    <tr>\n",
       "      <th>299995</th>\n",
       "      <td>DL</td>\n",
       "      <td>DL</td>\n",
       "      <td>DL</td>\n",
       "    </tr>\n",
       "    <tr>\n",
       "      <th>299996</th>\n",
       "      <td>AA</td>\n",
       "      <td>AA</td>\n",
       "      <td>AA</td>\n",
       "    </tr>\n",
       "    <tr>\n",
       "      <th>299997</th>\n",
       "      <td>AA</td>\n",
       "      <td>AA</td>\n",
       "      <td>AA</td>\n",
       "    </tr>\n",
       "    <tr>\n",
       "      <th>299998</th>\n",
       "      <td>UA</td>\n",
       "      <td>UA</td>\n",
       "      <td>UA_CODESHARE</td>\n",
       "    </tr>\n",
       "    <tr>\n",
       "      <th>299999</th>\n",
       "      <td>NK</td>\n",
       "      <td>NK</td>\n",
       "      <td>NK</td>\n",
       "    </tr>\n",
       "  </tbody>\n",
       "</table>\n",
       "<p>293446 rows × 3 columns</p>\n",
       "</div>"
      ],
      "text/plain": [
       "       mkt_unique_carrier mkt_carrier branded_code_share\n",
       "0                      DL          DL                 DL\n",
       "1                      WN          WN                 WN\n",
       "2                      AA          AA                 AA\n",
       "3                      UA          UA       UA_CODESHARE\n",
       "4                      DL          DL                 DL\n",
       "...                   ...         ...                ...\n",
       "299995                 DL          DL                 DL\n",
       "299996                 AA          AA                 AA\n",
       "299997                 AA          AA                 AA\n",
       "299998                 UA          UA       UA_CODESHARE\n",
       "299999                 NK          NK                 NK\n",
       "\n",
       "[293446 rows x 3 columns]"
      ]
     },
     "execution_count": 56,
     "metadata": {},
     "output_type": "execute_result"
    }
   ],
   "source": [
    "df_flight[['mkt_unique_carrier', 'mkt_carrier', 'branded_code_share']]"
   ]
  },
  {
   "cell_type": "code",
   "execution_count": 57,
   "id": "1845d0cf",
   "metadata": {
    "scrolled": true
   },
   "outputs": [
    {
     "data": {
      "text/html": [
       "<div>\n",
       "<style scoped>\n",
       "    .dataframe tbody tr th:only-of-type {\n",
       "        vertical-align: middle;\n",
       "    }\n",
       "\n",
       "    .dataframe tbody tr th {\n",
       "        vertical-align: top;\n",
       "    }\n",
       "\n",
       "    .dataframe thead th {\n",
       "        text-align: right;\n",
       "    }\n",
       "</style>\n",
       "<table border=\"1\" class=\"dataframe\">\n",
       "  <thead>\n",
       "    <tr style=\"text-align: right;\">\n",
       "      <th></th>\n",
       "      <th>fl_date</th>\n",
       "      <th>mkt_unique_carrier</th>\n",
       "      <th>branded_code_share</th>\n",
       "      <th>mkt_carrier</th>\n",
       "      <th>mkt_carrier_fl_num</th>\n",
       "      <th>op_unique_carrier</th>\n",
       "      <th>tail_num</th>\n",
       "      <th>op_carrier_fl_num</th>\n",
       "      <th>origin_airport_id</th>\n",
       "      <th>origin</th>\n",
       "      <th>...</th>\n",
       "      <th>flights</th>\n",
       "      <th>distance</th>\n",
       "      <th>carrier_delay</th>\n",
       "      <th>weather_delay</th>\n",
       "      <th>nas_delay</th>\n",
       "      <th>security_delay</th>\n",
       "      <th>late_aircraft_delay</th>\n",
       "      <th>first_dep_time</th>\n",
       "      <th>total_add_gtime</th>\n",
       "      <th>longest_add_gtime</th>\n",
       "    </tr>\n",
       "  </thead>\n",
       "  <tbody>\n",
       "  </tbody>\n",
       "</table>\n",
       "<p>0 rows × 41 columns</p>\n",
       "</div>"
      ],
      "text/plain": [
       "Empty DataFrame\n",
       "Columns: [fl_date, mkt_unique_carrier, branded_code_share, mkt_carrier, mkt_carrier_fl_num, op_unique_carrier, tail_num, op_carrier_fl_num, origin_airport_id, origin, origin_city_name, dest_airport_id, dest, dest_city_name, crs_dep_time, dep_time, dep_delay, taxi_out, wheels_off, wheels_on, taxi_in, crs_arr_time, arr_time, arr_delay, cancelled, cancellation_code, diverted, dup, crs_elapsed_time, actual_elapsed_time, air_time, flights, distance, carrier_delay, weather_delay, nas_delay, security_delay, late_aircraft_delay, first_dep_time, total_add_gtime, longest_add_gtime]\n",
       "Index: []\n",
       "\n",
       "[0 rows x 41 columns]"
      ]
     },
     "execution_count": 57,
     "metadata": {},
     "output_type": "execute_result"
    }
   ],
   "source": [
    "df[df['mkt_unique_carrier'] != df['mkt_carrier']]"
   ]
  },
  {
   "cell_type": "code",
   "execution_count": 58,
   "id": "1eff764e",
   "metadata": {},
   "outputs": [
    {
     "data": {
      "text/plain": [
       "mkt_unique_carrier  mkt_carrier\n",
       "AA                  AA             76281\n",
       "DL                  DL             64773\n",
       "UA                  UA             56590\n",
       "WN                  WN             48898\n",
       "AS                  AS             16160\n",
       "B6                  B6             10944\n",
       "NK                  NK              7689\n",
       "F9                  F9              4820\n",
       "G4                  G4              3829\n",
       "HA                  HA              3462\n",
       "Name: arr_delay, dtype: int64"
      ]
     },
     "execution_count": 58,
     "metadata": {},
     "output_type": "execute_result"
    }
   ],
   "source": [
    "df_flight.groupby(['mkt_unique_carrier','mkt_carrier']).arr_delay.count().sort_values(ascending=False)\n",
    "# duplicate columns, use mkt_unique_carrier"
   ]
  },
  {
   "cell_type": "code",
   "execution_count": 59,
   "id": "1d8ee020",
   "metadata": {},
   "outputs": [],
   "source": [
    "df_flight = df_flight.drop(columns=['mkt_carrier'])"
   ]
  },
  {
   "cell_type": "code",
   "execution_count": 60,
   "id": "e764a13e",
   "metadata": {},
   "outputs": [],
   "source": [
    "df_flight_test = df_flight_test.drop(columns=['mkt_carrier'])"
   ]
  },
  {
   "cell_type": "code",
   "execution_count": 61,
   "id": "b57532d2",
   "metadata": {},
   "outputs": [
    {
     "data": {
      "text/html": [
       "<div>\n",
       "<style scoped>\n",
       "    .dataframe tbody tr th:only-of-type {\n",
       "        vertical-align: middle;\n",
       "    }\n",
       "\n",
       "    .dataframe tbody tr th {\n",
       "        vertical-align: top;\n",
       "    }\n",
       "\n",
       "    .dataframe thead th {\n",
       "        text-align: right;\n",
       "    }\n",
       "</style>\n",
       "<table border=\"1\" class=\"dataframe\">\n",
       "  <thead>\n",
       "    <tr style=\"text-align: right;\">\n",
       "      <th></th>\n",
       "      <th>mkt_unique_carrier</th>\n",
       "      <th>branded_code_share</th>\n",
       "    </tr>\n",
       "  </thead>\n",
       "  <tbody>\n",
       "    <tr>\n",
       "      <th>3</th>\n",
       "      <td>UA</td>\n",
       "      <td>UA_CODESHARE</td>\n",
       "    </tr>\n",
       "    <tr>\n",
       "      <th>6</th>\n",
       "      <td>AA</td>\n",
       "      <td>AA_CODESHARE</td>\n",
       "    </tr>\n",
       "    <tr>\n",
       "      <th>8</th>\n",
       "      <td>AA</td>\n",
       "      <td>AA_CODESHARE</td>\n",
       "    </tr>\n",
       "    <tr>\n",
       "      <th>10</th>\n",
       "      <td>UA</td>\n",
       "      <td>UA_CODESHARE</td>\n",
       "    </tr>\n",
       "    <tr>\n",
       "      <th>11</th>\n",
       "      <td>AA</td>\n",
       "      <td>AA_CODESHARE</td>\n",
       "    </tr>\n",
       "    <tr>\n",
       "      <th>...</th>\n",
       "      <td>...</td>\n",
       "      <td>...</td>\n",
       "    </tr>\n",
       "    <tr>\n",
       "      <th>299987</th>\n",
       "      <td>AA</td>\n",
       "      <td>AA_CODESHARE</td>\n",
       "    </tr>\n",
       "    <tr>\n",
       "      <th>299989</th>\n",
       "      <td>UA</td>\n",
       "      <td>UA_CODESHARE</td>\n",
       "    </tr>\n",
       "    <tr>\n",
       "      <th>299993</th>\n",
       "      <td>UA</td>\n",
       "      <td>UA_CODESHARE</td>\n",
       "    </tr>\n",
       "    <tr>\n",
       "      <th>299994</th>\n",
       "      <td>UA</td>\n",
       "      <td>UA_CODESHARE</td>\n",
       "    </tr>\n",
       "    <tr>\n",
       "      <th>299998</th>\n",
       "      <td>UA</td>\n",
       "      <td>UA_CODESHARE</td>\n",
       "    </tr>\n",
       "  </tbody>\n",
       "</table>\n",
       "<p>110661 rows × 2 columns</p>\n",
       "</div>"
      ],
      "text/plain": [
       "       mkt_unique_carrier branded_code_share\n",
       "3                      UA       UA_CODESHARE\n",
       "6                      AA       AA_CODESHARE\n",
       "8                      AA       AA_CODESHARE\n",
       "10                     UA       UA_CODESHARE\n",
       "11                     AA       AA_CODESHARE\n",
       "...                   ...                ...\n",
       "299987                 AA       AA_CODESHARE\n",
       "299989                 UA       UA_CODESHARE\n",
       "299993                 UA       UA_CODESHARE\n",
       "299994                 UA       UA_CODESHARE\n",
       "299998                 UA       UA_CODESHARE\n",
       "\n",
       "[110661 rows x 2 columns]"
      ]
     },
     "execution_count": 61,
     "metadata": {},
     "output_type": "execute_result"
    }
   ],
   "source": [
    "df_flight[df_flight['mkt_unique_carrier'] != df_flight['branded_code_share']]\\\n",
    "[['mkt_unique_carrier', 'branded_code_share']]"
   ]
  },
  {
   "cell_type": "markdown",
   "id": "300a52f7",
   "metadata": {},
   "source": [
    "__Discussion:__\n",
    "- We can see that there is no difference between 'mkt_unique_carrier' and 'mkt_carrier'\n",
    "- The differences between 'mkt_unique_carrier' and 'branded_code_share' is only the suffix _CODESHARE  \n",
    "=> So we can use only 1 feature among these 3 features:  (**'mkt_unique_carrier'**)"
   ]
  },
  {
   "cell_type": "code",
   "execution_count": 62,
   "id": "0db2feb7",
   "metadata": {},
   "outputs": [],
   "source": [
    "df_flight = df_flight.drop(columns=['branded_code_share'])"
   ]
  },
  {
   "cell_type": "code",
   "execution_count": 63,
   "id": "7f0cef0c",
   "metadata": {},
   "outputs": [],
   "source": [
    "df_flight_test = df_flight_test.drop(columns=['branded_code_share'])"
   ]
  },
  {
   "cell_type": "code",
   "execution_count": 64,
   "id": "13e2e385",
   "metadata": {
    "scrolled": true
   },
   "outputs": [
    {
     "data": {
      "text/plain": [
       "(293446, 24)"
      ]
     },
     "execution_count": 64,
     "metadata": {},
     "output_type": "execute_result"
    }
   ],
   "source": [
    "df_flight.shape"
   ]
  },
  {
   "cell_type": "code",
   "execution_count": 65,
   "id": "45f3c949",
   "metadata": {
    "scrolled": true
   },
   "outputs": [
    {
     "data": {
      "text/plain": [
       "(150623, 19)"
      ]
     },
     "execution_count": 65,
     "metadata": {},
     "output_type": "execute_result"
    }
   ],
   "source": [
    "df_flight_test.shape"
   ]
  },
  {
   "cell_type": "code",
   "execution_count": 66,
   "id": "da15ce10",
   "metadata": {},
   "outputs": [
    {
     "data": {
      "text/plain": [
       "Unnamed: 0              0\n",
       "fl_date                 0\n",
       "mkt_unique_carrier      0\n",
       "mkt_carrier_fl_num      0\n",
       "op_unique_carrier       0\n",
       "tail_num              124\n",
       "op_carrier_fl_num       0\n",
       "origin_airport_id       0\n",
       "origin                  0\n",
       "origin_city_name        0\n",
       "dest_airport_id         0\n",
       "dest                    0\n",
       "dest_city_name          0\n",
       "crs_dep_time            0\n",
       "crs_arr_time            0\n",
       "dup                     0\n",
       "crs_elapsed_time        0\n",
       "flights                 0\n",
       "distance                0\n",
       "dtype: int64"
      ]
     },
     "execution_count": 66,
     "metadata": {},
     "output_type": "execute_result"
    }
   ],
   "source": [
    "df_flight_test.isna().sum()"
   ]
  },
  {
   "cell_type": "markdown",
   "id": "4e39025c",
   "metadata": {},
   "source": [
    "### Flight_number \n",
    "__*a) Flight_number with high incidence of weather_delay*__"
   ]
  },
  {
   "cell_type": "code",
   "execution_count": 67,
   "id": "f25dc3b2",
   "metadata": {},
   "outputs": [
    {
     "data": {
      "text/plain": [
       "mkt_carrier_fl_num\n",
       "7414    597.0\n",
       "7375    568.0\n",
       "4685    466.0\n",
       "6283    383.0\n",
       "7369    242.0\n",
       "        ...  \n",
       "9372      NaN\n",
       "9385      NaN\n",
       "9386      NaN\n",
       "9387      NaN\n",
       "9390      NaN\n",
       "Name: weather_delay, Length: 6747, dtype: float64"
      ]
     },
     "execution_count": 67,
     "metadata": {},
     "output_type": "execute_result"
    }
   ],
   "source": [
    "bad_weather_airport = df_flight.groupby(['mkt_carrier_fl_num']).weather_delay.mean().round(0).sort_values(ascending=False)\n",
    "bad_weather_airport"
   ]
  },
  {
   "cell_type": "code",
   "execution_count": 68,
   "id": "82579dcc",
   "metadata": {},
   "outputs": [
    {
     "data": {
      "text/plain": [
       "dest\n",
       "ATY    294.0\n",
       "BRD    284.0\n",
       "BET    113.0\n",
       "CYS     81.0\n",
       "HGR     71.0\n",
       "       ...  \n",
       "DLG      NaN\n",
       "HIB      NaN\n",
       "IMT      NaN\n",
       "OGD      NaN\n",
       "PPG      NaN\n",
       "Name: weather_delay, Length: 373, dtype: float64"
      ]
     },
     "execution_count": 68,
     "metadata": {},
     "output_type": "execute_result"
    }
   ],
   "source": [
    "bad_weather_dest = df_flight.groupby(['dest']).weather_delay.mean().round(0).sort_values(ascending=False)\n",
    "bad_weather_dest"
   ]
  },
  {
   "cell_type": "code",
   "execution_count": 69,
   "id": "b3222387",
   "metadata": {
    "scrolled": true
   },
   "outputs": [
    {
     "data": {
      "text/html": [
       "<div>\n",
       "<style scoped>\n",
       "    .dataframe tbody tr th:only-of-type {\n",
       "        vertical-align: middle;\n",
       "    }\n",
       "\n",
       "    .dataframe tbody tr th {\n",
       "        vertical-align: top;\n",
       "    }\n",
       "\n",
       "    .dataframe thead th {\n",
       "        text-align: right;\n",
       "    }\n",
       "</style>\n",
       "<table border=\"1\" class=\"dataframe\">\n",
       "  <thead>\n",
       "    <tr style=\"text-align: right;\">\n",
       "      <th></th>\n",
       "      <th>mkt_carrier_fl_num</th>\n",
       "      <th>weather_delay</th>\n",
       "    </tr>\n",
       "  </thead>\n",
       "  <tbody>\n",
       "    <tr>\n",
       "      <th>0</th>\n",
       "      <td>7414</td>\n",
       "      <td>597.0</td>\n",
       "    </tr>\n",
       "    <tr>\n",
       "      <th>1</th>\n",
       "      <td>7375</td>\n",
       "      <td>568.0</td>\n",
       "    </tr>\n",
       "    <tr>\n",
       "      <th>2</th>\n",
       "      <td>4685</td>\n",
       "      <td>466.0</td>\n",
       "    </tr>\n",
       "    <tr>\n",
       "      <th>3</th>\n",
       "      <td>6283</td>\n",
       "      <td>383.0</td>\n",
       "    </tr>\n",
       "    <tr>\n",
       "      <th>4</th>\n",
       "      <td>7369</td>\n",
       "      <td>242.0</td>\n",
       "    </tr>\n",
       "    <tr>\n",
       "      <th>...</th>\n",
       "      <td>...</td>\n",
       "      <td>...</td>\n",
       "    </tr>\n",
       "    <tr>\n",
       "      <th>6742</th>\n",
       "      <td>9372</td>\n",
       "      <td>NaN</td>\n",
       "    </tr>\n",
       "    <tr>\n",
       "      <th>6743</th>\n",
       "      <td>9385</td>\n",
       "      <td>NaN</td>\n",
       "    </tr>\n",
       "    <tr>\n",
       "      <th>6744</th>\n",
       "      <td>9386</td>\n",
       "      <td>NaN</td>\n",
       "    </tr>\n",
       "    <tr>\n",
       "      <th>6745</th>\n",
       "      <td>9387</td>\n",
       "      <td>NaN</td>\n",
       "    </tr>\n",
       "    <tr>\n",
       "      <th>6746</th>\n",
       "      <td>9390</td>\n",
       "      <td>NaN</td>\n",
       "    </tr>\n",
       "  </tbody>\n",
       "</table>\n",
       "<p>6747 rows × 2 columns</p>\n",
       "</div>"
      ],
      "text/plain": [
       "      mkt_carrier_fl_num  weather_delay\n",
       "0                   7414          597.0\n",
       "1                   7375          568.0\n",
       "2                   4685          466.0\n",
       "3                   6283          383.0\n",
       "4                   7369          242.0\n",
       "...                  ...            ...\n",
       "6742                9372            NaN\n",
       "6743                9385            NaN\n",
       "6744                9386            NaN\n",
       "6745                9387            NaN\n",
       "6746                9390            NaN\n",
       "\n",
       "[6747 rows x 2 columns]"
      ]
     },
     "execution_count": 69,
     "metadata": {},
     "output_type": "execute_result"
    }
   ],
   "source": [
    "bad_weather_airport= bad_weather_airport.reset_index()\n",
    "bad_weather_airport"
   ]
  },
  {
   "cell_type": "code",
   "execution_count": 70,
   "id": "4f9dbc6e",
   "metadata": {},
   "outputs": [
    {
     "data": {
      "text/html": [
       "<div>\n",
       "<style scoped>\n",
       "    .dataframe tbody tr th:only-of-type {\n",
       "        vertical-align: middle;\n",
       "    }\n",
       "\n",
       "    .dataframe tbody tr th {\n",
       "        vertical-align: top;\n",
       "    }\n",
       "\n",
       "    .dataframe thead th {\n",
       "        text-align: right;\n",
       "    }\n",
       "</style>\n",
       "<table border=\"1\" class=\"dataframe\">\n",
       "  <thead>\n",
       "    <tr style=\"text-align: right;\">\n",
       "      <th></th>\n",
       "      <th>dest</th>\n",
       "      <th>weather_delay</th>\n",
       "    </tr>\n",
       "  </thead>\n",
       "  <tbody>\n",
       "    <tr>\n",
       "      <th>0</th>\n",
       "      <td>ATY</td>\n",
       "      <td>294.0</td>\n",
       "    </tr>\n",
       "    <tr>\n",
       "      <th>1</th>\n",
       "      <td>BRD</td>\n",
       "      <td>284.0</td>\n",
       "    </tr>\n",
       "    <tr>\n",
       "      <th>2</th>\n",
       "      <td>BET</td>\n",
       "      <td>113.0</td>\n",
       "    </tr>\n",
       "    <tr>\n",
       "      <th>3</th>\n",
       "      <td>CYS</td>\n",
       "      <td>81.0</td>\n",
       "    </tr>\n",
       "    <tr>\n",
       "      <th>4</th>\n",
       "      <td>HGR</td>\n",
       "      <td>71.0</td>\n",
       "    </tr>\n",
       "    <tr>\n",
       "      <th>...</th>\n",
       "      <td>...</td>\n",
       "      <td>...</td>\n",
       "    </tr>\n",
       "    <tr>\n",
       "      <th>368</th>\n",
       "      <td>DLG</td>\n",
       "      <td>NaN</td>\n",
       "    </tr>\n",
       "    <tr>\n",
       "      <th>369</th>\n",
       "      <td>HIB</td>\n",
       "      <td>NaN</td>\n",
       "    </tr>\n",
       "    <tr>\n",
       "      <th>370</th>\n",
       "      <td>IMT</td>\n",
       "      <td>NaN</td>\n",
       "    </tr>\n",
       "    <tr>\n",
       "      <th>371</th>\n",
       "      <td>OGD</td>\n",
       "      <td>NaN</td>\n",
       "    </tr>\n",
       "    <tr>\n",
       "      <th>372</th>\n",
       "      <td>PPG</td>\n",
       "      <td>NaN</td>\n",
       "    </tr>\n",
       "  </tbody>\n",
       "</table>\n",
       "<p>373 rows × 2 columns</p>\n",
       "</div>"
      ],
      "text/plain": [
       "    dest  weather_delay\n",
       "0    ATY          294.0\n",
       "1    BRD          284.0\n",
       "2    BET          113.0\n",
       "3    CYS           81.0\n",
       "4    HGR           71.0\n",
       "..   ...            ...\n",
       "368  DLG            NaN\n",
       "369  HIB            NaN\n",
       "370  IMT            NaN\n",
       "371  OGD            NaN\n",
       "372  PPG            NaN\n",
       "\n",
       "[373 rows x 2 columns]"
      ]
     },
     "execution_count": 70,
     "metadata": {},
     "output_type": "execute_result"
    }
   ],
   "source": [
    "bad_weather_dest= bad_weather_dest.reset_index()\n",
    "bad_weather_dest"
   ]
  },
  {
   "cell_type": "code",
   "execution_count": 71,
   "id": "f055fae9",
   "metadata": {},
   "outputs": [],
   "source": [
    "bad_weather_airport.fillna(bad_weather_airport['weather_delay'].mean(),inplace= True)"
   ]
  },
  {
   "cell_type": "code",
   "execution_count": 72,
   "id": "57a279f4",
   "metadata": {},
   "outputs": [],
   "source": [
    "bad_weather_dest.fillna(bad_weather_dest['weather_delay'].mean(),inplace= True)"
   ]
  },
  {
   "cell_type": "code",
   "execution_count": 73,
   "id": "9f3ecf37",
   "metadata": {},
   "outputs": [],
   "source": [
    "bad_weather_airport.columns= ['mkt_carrier_fl_num','mkt_carrier_fl_num_weather_delay']"
   ]
  },
  {
   "cell_type": "code",
   "execution_count": 74,
   "id": "d998a14a",
   "metadata": {},
   "outputs": [],
   "source": [
    "bad_weather_dest.columns= ['dest','dest_weather_delay']"
   ]
  },
  {
   "cell_type": "code",
   "execution_count": 75,
   "id": "632a2d26",
   "metadata": {
    "scrolled": false
   },
   "outputs": [
    {
     "data": {
      "text/html": [
       "<div>\n",
       "<style scoped>\n",
       "    .dataframe tbody tr th:only-of-type {\n",
       "        vertical-align: middle;\n",
       "    }\n",
       "\n",
       "    .dataframe tbody tr th {\n",
       "        vertical-align: top;\n",
       "    }\n",
       "\n",
       "    .dataframe thead th {\n",
       "        text-align: right;\n",
       "    }\n",
       "</style>\n",
       "<table border=\"1\" class=\"dataframe\">\n",
       "  <thead>\n",
       "    <tr style=\"text-align: right;\">\n",
       "      <th></th>\n",
       "      <th>mkt_carrier_fl_num</th>\n",
       "      <th>mkt_carrier_fl_num_weather_delay</th>\n",
       "    </tr>\n",
       "  </thead>\n",
       "  <tbody>\n",
       "    <tr>\n",
       "      <th>0</th>\n",
       "      <td>7414</td>\n",
       "      <td>597.0</td>\n",
       "    </tr>\n",
       "    <tr>\n",
       "      <th>1</th>\n",
       "      <td>7375</td>\n",
       "      <td>568.0</td>\n",
       "    </tr>\n",
       "    <tr>\n",
       "      <th>2</th>\n",
       "      <td>4685</td>\n",
       "      <td>466.0</td>\n",
       "    </tr>\n",
       "    <tr>\n",
       "      <th>3</th>\n",
       "      <td>6283</td>\n",
       "      <td>383.0</td>\n",
       "    </tr>\n",
       "    <tr>\n",
       "      <th>4</th>\n",
       "      <td>7369</td>\n",
       "      <td>242.0</td>\n",
       "    </tr>\n",
       "  </tbody>\n",
       "</table>\n",
       "</div>"
      ],
      "text/plain": [
       "   mkt_carrier_fl_num  mkt_carrier_fl_num_weather_delay\n",
       "0                7414                             597.0\n",
       "1                7375                             568.0\n",
       "2                4685                             466.0\n",
       "3                6283                             383.0\n",
       "4                7369                             242.0"
      ]
     },
     "execution_count": 75,
     "metadata": {},
     "output_type": "execute_result"
    }
   ],
   "source": [
    "bad_weather_airport.head()"
   ]
  },
  {
   "cell_type": "code",
   "execution_count": 76,
   "id": "427ee355",
   "metadata": {},
   "outputs": [
    {
     "data": {
      "text/html": [
       "<div>\n",
       "<style scoped>\n",
       "    .dataframe tbody tr th:only-of-type {\n",
       "        vertical-align: middle;\n",
       "    }\n",
       "\n",
       "    .dataframe tbody tr th {\n",
       "        vertical-align: top;\n",
       "    }\n",
       "\n",
       "    .dataframe thead th {\n",
       "        text-align: right;\n",
       "    }\n",
       "</style>\n",
       "<table border=\"1\" class=\"dataframe\">\n",
       "  <thead>\n",
       "    <tr style=\"text-align: right;\">\n",
       "      <th></th>\n",
       "      <th>dest</th>\n",
       "      <th>dest_weather_delay</th>\n",
       "    </tr>\n",
       "  </thead>\n",
       "  <tbody>\n",
       "    <tr>\n",
       "      <th>0</th>\n",
       "      <td>ATY</td>\n",
       "      <td>294.0</td>\n",
       "    </tr>\n",
       "    <tr>\n",
       "      <th>1</th>\n",
       "      <td>BRD</td>\n",
       "      <td>284.0</td>\n",
       "    </tr>\n",
       "    <tr>\n",
       "      <th>2</th>\n",
       "      <td>BET</td>\n",
       "      <td>113.0</td>\n",
       "    </tr>\n",
       "    <tr>\n",
       "      <th>3</th>\n",
       "      <td>CYS</td>\n",
       "      <td>81.0</td>\n",
       "    </tr>\n",
       "    <tr>\n",
       "      <th>4</th>\n",
       "      <td>HGR</td>\n",
       "      <td>71.0</td>\n",
       "    </tr>\n",
       "  </tbody>\n",
       "</table>\n",
       "</div>"
      ],
      "text/plain": [
       "  dest  dest_weather_delay\n",
       "0  ATY               294.0\n",
       "1  BRD               284.0\n",
       "2  BET               113.0\n",
       "3  CYS                81.0\n",
       "4  HGR                71.0"
      ]
     },
     "execution_count": 76,
     "metadata": {},
     "output_type": "execute_result"
    }
   ],
   "source": [
    "bad_weather_dest.head()"
   ]
  },
  {
   "cell_type": "markdown",
   "id": "2fbfe467",
   "metadata": {},
   "source": [
    "__*b) mkt_carrier_fl_num with high incidence of departure_delay*__"
   ]
  },
  {
   "cell_type": "code",
   "execution_count": 77,
   "id": "5315b62a",
   "metadata": {},
   "outputs": [],
   "source": [
    "departure_delay_airport= df_flight.groupby(['mkt_carrier_fl_num']).dep_delay.mean().round(0).sort_values(ascending=False)\n",
    "departure_delay_airport= departure_delay_airport.reset_index()"
   ]
  },
  {
   "cell_type": "code",
   "execution_count": 78,
   "id": "d38f0862",
   "metadata": {},
   "outputs": [],
   "source": [
    "departure_delay_dest= df_flight.groupby(['dest']).dep_delay.mean().round(0).sort_values(ascending=False)\n",
    "departure_delay_dest= departure_delay_dest.reset_index()"
   ]
  },
  {
   "cell_type": "code",
   "execution_count": 79,
   "id": "c3a3c11d",
   "metadata": {},
   "outputs": [
    {
     "data": {
      "text/html": [
       "<div>\n",
       "<style scoped>\n",
       "    .dataframe tbody tr th:only-of-type {\n",
       "        vertical-align: middle;\n",
       "    }\n",
       "\n",
       "    .dataframe tbody tr th {\n",
       "        vertical-align: top;\n",
       "    }\n",
       "\n",
       "    .dataframe thead th {\n",
       "        text-align: right;\n",
       "    }\n",
       "</style>\n",
       "<table border=\"1\" class=\"dataframe\">\n",
       "  <thead>\n",
       "    <tr style=\"text-align: right;\">\n",
       "      <th></th>\n",
       "      <th>mkt_carrier_fl_num</th>\n",
       "      <th>dep_delay</th>\n",
       "    </tr>\n",
       "  </thead>\n",
       "  <tbody>\n",
       "    <tr>\n",
       "      <th>0</th>\n",
       "      <td>9330</td>\n",
       "      <td>1111.0</td>\n",
       "    </tr>\n",
       "    <tr>\n",
       "      <th>1</th>\n",
       "      <td>6283</td>\n",
       "      <td>295.0</td>\n",
       "    </tr>\n",
       "    <tr>\n",
       "      <th>2</th>\n",
       "      <td>6717</td>\n",
       "      <td>222.0</td>\n",
       "    </tr>\n",
       "    <tr>\n",
       "      <th>3</th>\n",
       "      <td>6602</td>\n",
       "      <td>190.0</td>\n",
       "    </tr>\n",
       "    <tr>\n",
       "      <th>4</th>\n",
       "      <td>6499</td>\n",
       "      <td>146.0</td>\n",
       "    </tr>\n",
       "  </tbody>\n",
       "</table>\n",
       "</div>"
      ],
      "text/plain": [
       "   mkt_carrier_fl_num  dep_delay\n",
       "0                9330     1111.0\n",
       "1                6283      295.0\n",
       "2                6717      222.0\n",
       "3                6602      190.0\n",
       "4                6499      146.0"
      ]
     },
     "execution_count": 79,
     "metadata": {},
     "output_type": "execute_result"
    }
   ],
   "source": [
    "departure_delay_airport.head()"
   ]
  },
  {
   "cell_type": "code",
   "execution_count": 80,
   "id": "0a8f19d7",
   "metadata": {},
   "outputs": [
    {
     "data": {
      "text/html": [
       "<div>\n",
       "<style scoped>\n",
       "    .dataframe tbody tr th:only-of-type {\n",
       "        vertical-align: middle;\n",
       "    }\n",
       "\n",
       "    .dataframe tbody tr th {\n",
       "        vertical-align: top;\n",
       "    }\n",
       "\n",
       "    .dataframe thead th {\n",
       "        text-align: right;\n",
       "    }\n",
       "</style>\n",
       "<table border=\"1\" class=\"dataframe\">\n",
       "  <thead>\n",
       "    <tr style=\"text-align: right;\">\n",
       "      <th></th>\n",
       "      <th>dest</th>\n",
       "      <th>dep_delay</th>\n",
       "    </tr>\n",
       "  </thead>\n",
       "  <tbody>\n",
       "    <tr>\n",
       "      <th>0</th>\n",
       "      <td>OGS</td>\n",
       "      <td>97.0</td>\n",
       "    </tr>\n",
       "    <tr>\n",
       "      <th>1</th>\n",
       "      <td>HYA</td>\n",
       "      <td>58.0</td>\n",
       "    </tr>\n",
       "    <tr>\n",
       "      <th>2</th>\n",
       "      <td>CMX</td>\n",
       "      <td>56.0</td>\n",
       "    </tr>\n",
       "    <tr>\n",
       "      <th>3</th>\n",
       "      <td>ATY</td>\n",
       "      <td>52.0</td>\n",
       "    </tr>\n",
       "    <tr>\n",
       "      <th>4</th>\n",
       "      <td>STC</td>\n",
       "      <td>49.0</td>\n",
       "    </tr>\n",
       "  </tbody>\n",
       "</table>\n",
       "</div>"
      ],
      "text/plain": [
       "  dest  dep_delay\n",
       "0  OGS       97.0\n",
       "1  HYA       58.0\n",
       "2  CMX       56.0\n",
       "3  ATY       52.0\n",
       "4  STC       49.0"
      ]
     },
     "execution_count": 80,
     "metadata": {},
     "output_type": "execute_result"
    }
   ],
   "source": [
    "departure_delay_dest.head()"
   ]
  },
  {
   "cell_type": "code",
   "execution_count": 81,
   "id": "452a70b1",
   "metadata": {},
   "outputs": [],
   "source": [
    "departure_delay_airport.columns=['mkt_carrier_fl_num','mkt_carrier_fl_num_dep_delay']"
   ]
  },
  {
   "cell_type": "code",
   "execution_count": 82,
   "id": "0eef27bf",
   "metadata": {},
   "outputs": [],
   "source": [
    "departure_delay_dest.columns=['dest','dest_dep_delay']"
   ]
  },
  {
   "cell_type": "code",
   "execution_count": 83,
   "id": "72c0b073",
   "metadata": {
    "scrolled": true
   },
   "outputs": [
    {
     "data": {
      "text/html": [
       "<div>\n",
       "<style scoped>\n",
       "    .dataframe tbody tr th:only-of-type {\n",
       "        vertical-align: middle;\n",
       "    }\n",
       "\n",
       "    .dataframe tbody tr th {\n",
       "        vertical-align: top;\n",
       "    }\n",
       "\n",
       "    .dataframe thead th {\n",
       "        text-align: right;\n",
       "    }\n",
       "</style>\n",
       "<table border=\"1\" class=\"dataframe\">\n",
       "  <thead>\n",
       "    <tr style=\"text-align: right;\">\n",
       "      <th></th>\n",
       "      <th>mkt_carrier_fl_num</th>\n",
       "      <th>mkt_carrier_fl_num_dep_delay</th>\n",
       "    </tr>\n",
       "  </thead>\n",
       "  <tbody>\n",
       "    <tr>\n",
       "      <th>0</th>\n",
       "      <td>9330</td>\n",
       "      <td>1111.0</td>\n",
       "    </tr>\n",
       "    <tr>\n",
       "      <th>1</th>\n",
       "      <td>6283</td>\n",
       "      <td>295.0</td>\n",
       "    </tr>\n",
       "    <tr>\n",
       "      <th>2</th>\n",
       "      <td>6717</td>\n",
       "      <td>222.0</td>\n",
       "    </tr>\n",
       "    <tr>\n",
       "      <th>3</th>\n",
       "      <td>6602</td>\n",
       "      <td>190.0</td>\n",
       "    </tr>\n",
       "    <tr>\n",
       "      <th>4</th>\n",
       "      <td>6499</td>\n",
       "      <td>146.0</td>\n",
       "    </tr>\n",
       "  </tbody>\n",
       "</table>\n",
       "</div>"
      ],
      "text/plain": [
       "   mkt_carrier_fl_num  mkt_carrier_fl_num_dep_delay\n",
       "0                9330                        1111.0\n",
       "1                6283                         295.0\n",
       "2                6717                         222.0\n",
       "3                6602                         190.0\n",
       "4                6499                         146.0"
      ]
     },
     "execution_count": 83,
     "metadata": {},
     "output_type": "execute_result"
    }
   ],
   "source": [
    "departure_delay_airport.head()"
   ]
  },
  {
   "cell_type": "code",
   "execution_count": 84,
   "id": "2d4c4ca0",
   "metadata": {},
   "outputs": [
    {
     "data": {
      "text/html": [
       "<div>\n",
       "<style scoped>\n",
       "    .dataframe tbody tr th:only-of-type {\n",
       "        vertical-align: middle;\n",
       "    }\n",
       "\n",
       "    .dataframe tbody tr th {\n",
       "        vertical-align: top;\n",
       "    }\n",
       "\n",
       "    .dataframe thead th {\n",
       "        text-align: right;\n",
       "    }\n",
       "</style>\n",
       "<table border=\"1\" class=\"dataframe\">\n",
       "  <thead>\n",
       "    <tr style=\"text-align: right;\">\n",
       "      <th></th>\n",
       "      <th>dest</th>\n",
       "      <th>dest_dep_delay</th>\n",
       "    </tr>\n",
       "  </thead>\n",
       "  <tbody>\n",
       "    <tr>\n",
       "      <th>0</th>\n",
       "      <td>OGS</td>\n",
       "      <td>97.0</td>\n",
       "    </tr>\n",
       "    <tr>\n",
       "      <th>1</th>\n",
       "      <td>HYA</td>\n",
       "      <td>58.0</td>\n",
       "    </tr>\n",
       "    <tr>\n",
       "      <th>2</th>\n",
       "      <td>CMX</td>\n",
       "      <td>56.0</td>\n",
       "    </tr>\n",
       "    <tr>\n",
       "      <th>3</th>\n",
       "      <td>ATY</td>\n",
       "      <td>52.0</td>\n",
       "    </tr>\n",
       "    <tr>\n",
       "      <th>4</th>\n",
       "      <td>STC</td>\n",
       "      <td>49.0</td>\n",
       "    </tr>\n",
       "  </tbody>\n",
       "</table>\n",
       "</div>"
      ],
      "text/plain": [
       "  dest  dest_dep_delay\n",
       "0  OGS            97.0\n",
       "1  HYA            58.0\n",
       "2  CMX            56.0\n",
       "3  ATY            52.0\n",
       "4  STC            49.0"
      ]
     },
     "execution_count": 84,
     "metadata": {},
     "output_type": "execute_result"
    }
   ],
   "source": [
    "departure_delay_dest.head()"
   ]
  },
  {
   "cell_type": "markdown",
   "id": "6d57195d",
   "metadata": {},
   "source": [
    "__*c) mkt_carrier_fl_num with high incidence of arr_delay*__"
   ]
  },
  {
   "cell_type": "code",
   "execution_count": 85,
   "id": "60dc6b5b",
   "metadata": {},
   "outputs": [
    {
     "data": {
      "text/plain": [
       "mkt_carrier_fl_num\n",
       "9330    1092.0\n",
       "6283     299.0\n",
       "6717     233.0\n",
       "6602     189.0\n",
       "6499     156.0\n",
       "         ...  \n",
       "6701     -29.0\n",
       "6530     -29.0\n",
       "6714     -29.0\n",
       "6901     -32.0\n",
       "6699     -39.0\n",
       "Name: arr_delay, Length: 6747, dtype: float64"
      ]
     },
     "execution_count": 85,
     "metadata": {},
     "output_type": "execute_result"
    }
   ],
   "source": [
    "bad_delay_airport = df_flight.groupby(['mkt_carrier_fl_num']).arr_delay.mean().round(0).sort_values(ascending=False)\n",
    "bad_delay_airport"
   ]
  },
  {
   "cell_type": "code",
   "execution_count": 86,
   "id": "b3a52a84",
   "metadata": {},
   "outputs": [
    {
     "data": {
      "text/plain": [
       "dest\n",
       "OGS    99.0\n",
       "HYA    54.0\n",
       "CMX    54.0\n",
       "ATY    49.0\n",
       "STC    44.0\n",
       "       ... \n",
       "HIB   -14.0\n",
       "APN   -14.0\n",
       "RHI   -14.0\n",
       "ADK   -18.0\n",
       "PPG   -18.0\n",
       "Name: arr_delay, Length: 373, dtype: float64"
      ]
     },
     "execution_count": 86,
     "metadata": {},
     "output_type": "execute_result"
    }
   ],
   "source": [
    "bad_delay_dest = df_flight.groupby(['dest']).arr_delay.mean().round(0).sort_values(ascending=False)\n",
    "bad_delay_dest"
   ]
  },
  {
   "cell_type": "code",
   "execution_count": 87,
   "id": "89dc86e5",
   "metadata": {},
   "outputs": [
    {
     "data": {
      "text/html": [
       "<div>\n",
       "<style scoped>\n",
       "    .dataframe tbody tr th:only-of-type {\n",
       "        vertical-align: middle;\n",
       "    }\n",
       "\n",
       "    .dataframe tbody tr th {\n",
       "        vertical-align: top;\n",
       "    }\n",
       "\n",
       "    .dataframe thead th {\n",
       "        text-align: right;\n",
       "    }\n",
       "</style>\n",
       "<table border=\"1\" class=\"dataframe\">\n",
       "  <thead>\n",
       "    <tr style=\"text-align: right;\">\n",
       "      <th></th>\n",
       "      <th>mkt_carrier_fl_num</th>\n",
       "      <th>arr_delay</th>\n",
       "    </tr>\n",
       "  </thead>\n",
       "  <tbody>\n",
       "    <tr>\n",
       "      <th>0</th>\n",
       "      <td>9330</td>\n",
       "      <td>1092.0</td>\n",
       "    </tr>\n",
       "    <tr>\n",
       "      <th>1</th>\n",
       "      <td>6283</td>\n",
       "      <td>299.0</td>\n",
       "    </tr>\n",
       "    <tr>\n",
       "      <th>2</th>\n",
       "      <td>6717</td>\n",
       "      <td>233.0</td>\n",
       "    </tr>\n",
       "    <tr>\n",
       "      <th>3</th>\n",
       "      <td>6602</td>\n",
       "      <td>189.0</td>\n",
       "    </tr>\n",
       "    <tr>\n",
       "      <th>4</th>\n",
       "      <td>6499</td>\n",
       "      <td>156.0</td>\n",
       "    </tr>\n",
       "    <tr>\n",
       "      <th>...</th>\n",
       "      <td>...</td>\n",
       "      <td>...</td>\n",
       "    </tr>\n",
       "    <tr>\n",
       "      <th>6742</th>\n",
       "      <td>6701</td>\n",
       "      <td>-29.0</td>\n",
       "    </tr>\n",
       "    <tr>\n",
       "      <th>6743</th>\n",
       "      <td>6530</td>\n",
       "      <td>-29.0</td>\n",
       "    </tr>\n",
       "    <tr>\n",
       "      <th>6744</th>\n",
       "      <td>6714</td>\n",
       "      <td>-29.0</td>\n",
       "    </tr>\n",
       "    <tr>\n",
       "      <th>6745</th>\n",
       "      <td>6901</td>\n",
       "      <td>-32.0</td>\n",
       "    </tr>\n",
       "    <tr>\n",
       "      <th>6746</th>\n",
       "      <td>6699</td>\n",
       "      <td>-39.0</td>\n",
       "    </tr>\n",
       "  </tbody>\n",
       "</table>\n",
       "<p>6747 rows × 2 columns</p>\n",
       "</div>"
      ],
      "text/plain": [
       "      mkt_carrier_fl_num  arr_delay\n",
       "0                   9330     1092.0\n",
       "1                   6283      299.0\n",
       "2                   6717      233.0\n",
       "3                   6602      189.0\n",
       "4                   6499      156.0\n",
       "...                  ...        ...\n",
       "6742                6701      -29.0\n",
       "6743                6530      -29.0\n",
       "6744                6714      -29.0\n",
       "6745                6901      -32.0\n",
       "6746                6699      -39.0\n",
       "\n",
       "[6747 rows x 2 columns]"
      ]
     },
     "execution_count": 87,
     "metadata": {},
     "output_type": "execute_result"
    }
   ],
   "source": [
    "bad_delay_airport = bad_delay_airport.reset_index()\n",
    "bad_delay_airport"
   ]
  },
  {
   "cell_type": "code",
   "execution_count": 88,
   "id": "f72f9235",
   "metadata": {},
   "outputs": [],
   "source": [
    "bad_delay_dest = bad_delay_dest.reset_index()"
   ]
  },
  {
   "cell_type": "code",
   "execution_count": 89,
   "id": "10ca6a84",
   "metadata": {},
   "outputs": [],
   "source": [
    "bad_delay_airport.columns= ['mkt_carrier_fl_num','mkt_carrier_fl_num_arr_delay']"
   ]
  },
  {
   "cell_type": "code",
   "execution_count": 90,
   "id": "bc3a138f",
   "metadata": {},
   "outputs": [],
   "source": [
    "bad_delay_dest.columns= ['dest','dest_arr_delay']"
   ]
  },
  {
   "cell_type": "code",
   "execution_count": 91,
   "id": "0f7b4e7f",
   "metadata": {},
   "outputs": [
    {
     "data": {
      "text/html": [
       "<div>\n",
       "<style scoped>\n",
       "    .dataframe tbody tr th:only-of-type {\n",
       "        vertical-align: middle;\n",
       "    }\n",
       "\n",
       "    .dataframe tbody tr th {\n",
       "        vertical-align: top;\n",
       "    }\n",
       "\n",
       "    .dataframe thead th {\n",
       "        text-align: right;\n",
       "    }\n",
       "</style>\n",
       "<table border=\"1\" class=\"dataframe\">\n",
       "  <thead>\n",
       "    <tr style=\"text-align: right;\">\n",
       "      <th></th>\n",
       "      <th>mkt_carrier_fl_num</th>\n",
       "      <th>mkt_carrier_fl_num_arr_delay</th>\n",
       "    </tr>\n",
       "  </thead>\n",
       "  <tbody>\n",
       "    <tr>\n",
       "      <th>0</th>\n",
       "      <td>9330</td>\n",
       "      <td>1092.0</td>\n",
       "    </tr>\n",
       "    <tr>\n",
       "      <th>1</th>\n",
       "      <td>6283</td>\n",
       "      <td>299.0</td>\n",
       "    </tr>\n",
       "    <tr>\n",
       "      <th>2</th>\n",
       "      <td>6717</td>\n",
       "      <td>233.0</td>\n",
       "    </tr>\n",
       "    <tr>\n",
       "      <th>3</th>\n",
       "      <td>6602</td>\n",
       "      <td>189.0</td>\n",
       "    </tr>\n",
       "    <tr>\n",
       "      <th>4</th>\n",
       "      <td>6499</td>\n",
       "      <td>156.0</td>\n",
       "    </tr>\n",
       "  </tbody>\n",
       "</table>\n",
       "</div>"
      ],
      "text/plain": [
       "   mkt_carrier_fl_num  mkt_carrier_fl_num_arr_delay\n",
       "0                9330                        1092.0\n",
       "1                6283                         299.0\n",
       "2                6717                         233.0\n",
       "3                6602                         189.0\n",
       "4                6499                         156.0"
      ]
     },
     "execution_count": 91,
     "metadata": {},
     "output_type": "execute_result"
    }
   ],
   "source": [
    "bad_delay_airport.head()"
   ]
  },
  {
   "cell_type": "markdown",
   "id": "10fc0d23",
   "metadata": {},
   "source": [
    "__*d) mkt_carrier_fl_num with high incidence of taxi_out*__"
   ]
  },
  {
   "cell_type": "code",
   "execution_count": 92,
   "id": "b4f756da",
   "metadata": {},
   "outputs": [
    {
     "data": {
      "text/plain": [
       "mkt_carrier_fl_num\n",
       "6703    61.0\n",
       "7400    59.0\n",
       "9370    49.0\n",
       "6554    46.0\n",
       "7881    45.0\n",
       "        ... \n",
       "6693     7.0\n",
       "6675     6.0\n",
       "6678     6.0\n",
       "6501     6.0\n",
       "6701     6.0\n",
       "Name: taxi_out, Length: 6747, dtype: float64"
      ]
     },
     "execution_count": 92,
     "metadata": {},
     "output_type": "execute_result"
    }
   ],
   "source": [
    "taxi_out_airport = df_flight.groupby(['mkt_carrier_fl_num']).taxi_out.mean().round(0).sort_values(ascending=False)\n",
    "taxi_out_airport"
   ]
  },
  {
   "cell_type": "code",
   "execution_count": 93,
   "id": "2931808d",
   "metadata": {},
   "outputs": [
    {
     "data": {
      "text/html": [
       "<div>\n",
       "<style scoped>\n",
       "    .dataframe tbody tr th:only-of-type {\n",
       "        vertical-align: middle;\n",
       "    }\n",
       "\n",
       "    .dataframe tbody tr th {\n",
       "        vertical-align: top;\n",
       "    }\n",
       "\n",
       "    .dataframe thead th {\n",
       "        text-align: right;\n",
       "    }\n",
       "</style>\n",
       "<table border=\"1\" class=\"dataframe\">\n",
       "  <thead>\n",
       "    <tr style=\"text-align: right;\">\n",
       "      <th></th>\n",
       "      <th>mkt_carrier_fl_num</th>\n",
       "      <th>taxi_out</th>\n",
       "    </tr>\n",
       "  </thead>\n",
       "  <tbody>\n",
       "    <tr>\n",
       "      <th>0</th>\n",
       "      <td>6703</td>\n",
       "      <td>61.0</td>\n",
       "    </tr>\n",
       "    <tr>\n",
       "      <th>1</th>\n",
       "      <td>7400</td>\n",
       "      <td>59.0</td>\n",
       "    </tr>\n",
       "    <tr>\n",
       "      <th>2</th>\n",
       "      <td>9370</td>\n",
       "      <td>49.0</td>\n",
       "    </tr>\n",
       "    <tr>\n",
       "      <th>3</th>\n",
       "      <td>6554</td>\n",
       "      <td>46.0</td>\n",
       "    </tr>\n",
       "    <tr>\n",
       "      <th>4</th>\n",
       "      <td>7881</td>\n",
       "      <td>45.0</td>\n",
       "    </tr>\n",
       "    <tr>\n",
       "      <th>...</th>\n",
       "      <td>...</td>\n",
       "      <td>...</td>\n",
       "    </tr>\n",
       "    <tr>\n",
       "      <th>6742</th>\n",
       "      <td>6693</td>\n",
       "      <td>7.0</td>\n",
       "    </tr>\n",
       "    <tr>\n",
       "      <th>6743</th>\n",
       "      <td>6675</td>\n",
       "      <td>6.0</td>\n",
       "    </tr>\n",
       "    <tr>\n",
       "      <th>6744</th>\n",
       "      <td>6678</td>\n",
       "      <td>6.0</td>\n",
       "    </tr>\n",
       "    <tr>\n",
       "      <th>6745</th>\n",
       "      <td>6501</td>\n",
       "      <td>6.0</td>\n",
       "    </tr>\n",
       "    <tr>\n",
       "      <th>6746</th>\n",
       "      <td>6701</td>\n",
       "      <td>6.0</td>\n",
       "    </tr>\n",
       "  </tbody>\n",
       "</table>\n",
       "<p>6747 rows × 2 columns</p>\n",
       "</div>"
      ],
      "text/plain": [
       "      mkt_carrier_fl_num  taxi_out\n",
       "0                   6703      61.0\n",
       "1                   7400      59.0\n",
       "2                   9370      49.0\n",
       "3                   6554      46.0\n",
       "4                   7881      45.0\n",
       "...                  ...       ...\n",
       "6742                6693       7.0\n",
       "6743                6675       6.0\n",
       "6744                6678       6.0\n",
       "6745                6501       6.0\n",
       "6746                6701       6.0\n",
       "\n",
       "[6747 rows x 2 columns]"
      ]
     },
     "execution_count": 93,
     "metadata": {},
     "output_type": "execute_result"
    }
   ],
   "source": [
    "taxi_out_airport = taxi_out_airport.reset_index()\n",
    "taxi_out_airport"
   ]
  },
  {
   "cell_type": "code",
   "execution_count": 94,
   "id": "9530b124",
   "metadata": {},
   "outputs": [
    {
     "data": {
      "text/html": [
       "<div>\n",
       "<style scoped>\n",
       "    .dataframe tbody tr th:only-of-type {\n",
       "        vertical-align: middle;\n",
       "    }\n",
       "\n",
       "    .dataframe tbody tr th {\n",
       "        vertical-align: top;\n",
       "    }\n",
       "\n",
       "    .dataframe thead th {\n",
       "        text-align: right;\n",
       "    }\n",
       "</style>\n",
       "<table border=\"1\" class=\"dataframe\">\n",
       "  <thead>\n",
       "    <tr style=\"text-align: right;\">\n",
       "      <th></th>\n",
       "      <th>mkt_carrier_fl_num</th>\n",
       "      <th>mkt_carrier_fl_num_taxi_out</th>\n",
       "    </tr>\n",
       "  </thead>\n",
       "  <tbody>\n",
       "    <tr>\n",
       "      <th>0</th>\n",
       "      <td>6703</td>\n",
       "      <td>61.0</td>\n",
       "    </tr>\n",
       "    <tr>\n",
       "      <th>1</th>\n",
       "      <td>7400</td>\n",
       "      <td>59.0</td>\n",
       "    </tr>\n",
       "    <tr>\n",
       "      <th>2</th>\n",
       "      <td>9370</td>\n",
       "      <td>49.0</td>\n",
       "    </tr>\n",
       "    <tr>\n",
       "      <th>3</th>\n",
       "      <td>6554</td>\n",
       "      <td>46.0</td>\n",
       "    </tr>\n",
       "    <tr>\n",
       "      <th>4</th>\n",
       "      <td>7881</td>\n",
       "      <td>45.0</td>\n",
       "    </tr>\n",
       "    <tr>\n",
       "      <th>...</th>\n",
       "      <td>...</td>\n",
       "      <td>...</td>\n",
       "    </tr>\n",
       "    <tr>\n",
       "      <th>6742</th>\n",
       "      <td>6693</td>\n",
       "      <td>7.0</td>\n",
       "    </tr>\n",
       "    <tr>\n",
       "      <th>6743</th>\n",
       "      <td>6675</td>\n",
       "      <td>6.0</td>\n",
       "    </tr>\n",
       "    <tr>\n",
       "      <th>6744</th>\n",
       "      <td>6678</td>\n",
       "      <td>6.0</td>\n",
       "    </tr>\n",
       "    <tr>\n",
       "      <th>6745</th>\n",
       "      <td>6501</td>\n",
       "      <td>6.0</td>\n",
       "    </tr>\n",
       "    <tr>\n",
       "      <th>6746</th>\n",
       "      <td>6701</td>\n",
       "      <td>6.0</td>\n",
       "    </tr>\n",
       "  </tbody>\n",
       "</table>\n",
       "<p>6747 rows × 2 columns</p>\n",
       "</div>"
      ],
      "text/plain": [
       "      mkt_carrier_fl_num  mkt_carrier_fl_num_taxi_out\n",
       "0                   6703                         61.0\n",
       "1                   7400                         59.0\n",
       "2                   9370                         49.0\n",
       "3                   6554                         46.0\n",
       "4                   7881                         45.0\n",
       "...                  ...                          ...\n",
       "6742                6693                          7.0\n",
       "6743                6675                          6.0\n",
       "6744                6678                          6.0\n",
       "6745                6501                          6.0\n",
       "6746                6701                          6.0\n",
       "\n",
       "[6747 rows x 2 columns]"
      ]
     },
     "execution_count": 94,
     "metadata": {},
     "output_type": "execute_result"
    }
   ],
   "source": [
    "taxi_out_airport.columns = ['mkt_carrier_fl_num', 'mkt_carrier_fl_num_taxi_out']\n",
    "taxi_out_airport"
   ]
  },
  {
   "cell_type": "markdown",
   "id": "5d2db00e",
   "metadata": {},
   "source": [
    "__*e) mkt_carrier_fl_num with high incidence of taxi_in*__"
   ]
  },
  {
   "cell_type": "code",
   "execution_count": 95,
   "id": "fbc3ab4d",
   "metadata": {},
   "outputs": [
    {
     "data": {
      "text/plain": [
       "mkt_carrier_fl_num\n",
       "6928    27.0\n",
       "6499    26.0\n",
       "6913    26.0\n",
       "6460    21.0\n",
       "6736    20.0\n",
       "        ... \n",
       "7390     2.0\n",
       "6675     2.0\n",
       "6431     2.0\n",
       "6439     1.0\n",
       "6733     1.0\n",
       "Name: taxi_in, Length: 6747, dtype: float64"
      ]
     },
     "execution_count": 95,
     "metadata": {},
     "output_type": "execute_result"
    }
   ],
   "source": [
    "taxi_in_airport = df_flight.groupby(['mkt_carrier_fl_num']).taxi_in.mean().round(0).sort_values(ascending=False)\n",
    "taxi_in_airport"
   ]
  },
  {
   "cell_type": "code",
   "execution_count": 96,
   "id": "13b09f4e",
   "metadata": {},
   "outputs": [
    {
     "data": {
      "text/plain": [
       "dest\n",
       "ORD    14.0\n",
       "PPG    13.0\n",
       "CLT    13.0\n",
       "DFW    12.0\n",
       "JFK    11.0\n",
       "       ... \n",
       "HIB     3.0\n",
       "DUT     2.0\n",
       "MKK     2.0\n",
       "LNY     2.0\n",
       "JHM     2.0\n",
       "Name: taxi_in, Length: 373, dtype: float64"
      ]
     },
     "execution_count": 96,
     "metadata": {},
     "output_type": "execute_result"
    }
   ],
   "source": [
    "taxi_in_dest = df_flight.groupby(['dest']).taxi_in.mean().round(0).sort_values(ascending=False)\n",
    "taxi_in_dest"
   ]
  },
  {
   "cell_type": "code",
   "execution_count": 97,
   "id": "b8d92910",
   "metadata": {},
   "outputs": [
    {
     "data": {
      "text/html": [
       "<div>\n",
       "<style scoped>\n",
       "    .dataframe tbody tr th:only-of-type {\n",
       "        vertical-align: middle;\n",
       "    }\n",
       "\n",
       "    .dataframe tbody tr th {\n",
       "        vertical-align: top;\n",
       "    }\n",
       "\n",
       "    .dataframe thead th {\n",
       "        text-align: right;\n",
       "    }\n",
       "</style>\n",
       "<table border=\"1\" class=\"dataframe\">\n",
       "  <thead>\n",
       "    <tr style=\"text-align: right;\">\n",
       "      <th></th>\n",
       "      <th>mkt_carrier_fl_num</th>\n",
       "      <th>taxi_in</th>\n",
       "    </tr>\n",
       "  </thead>\n",
       "  <tbody>\n",
       "    <tr>\n",
       "      <th>0</th>\n",
       "      <td>6928</td>\n",
       "      <td>27.0</td>\n",
       "    </tr>\n",
       "    <tr>\n",
       "      <th>1</th>\n",
       "      <td>6499</td>\n",
       "      <td>26.0</td>\n",
       "    </tr>\n",
       "    <tr>\n",
       "      <th>2</th>\n",
       "      <td>6913</td>\n",
       "      <td>26.0</td>\n",
       "    </tr>\n",
       "    <tr>\n",
       "      <th>3</th>\n",
       "      <td>6460</td>\n",
       "      <td>21.0</td>\n",
       "    </tr>\n",
       "    <tr>\n",
       "      <th>4</th>\n",
       "      <td>6736</td>\n",
       "      <td>20.0</td>\n",
       "    </tr>\n",
       "    <tr>\n",
       "      <th>...</th>\n",
       "      <td>...</td>\n",
       "      <td>...</td>\n",
       "    </tr>\n",
       "    <tr>\n",
       "      <th>6742</th>\n",
       "      <td>7390</td>\n",
       "      <td>2.0</td>\n",
       "    </tr>\n",
       "    <tr>\n",
       "      <th>6743</th>\n",
       "      <td>6675</td>\n",
       "      <td>2.0</td>\n",
       "    </tr>\n",
       "    <tr>\n",
       "      <th>6744</th>\n",
       "      <td>6431</td>\n",
       "      <td>2.0</td>\n",
       "    </tr>\n",
       "    <tr>\n",
       "      <th>6745</th>\n",
       "      <td>6439</td>\n",
       "      <td>1.0</td>\n",
       "    </tr>\n",
       "    <tr>\n",
       "      <th>6746</th>\n",
       "      <td>6733</td>\n",
       "      <td>1.0</td>\n",
       "    </tr>\n",
       "  </tbody>\n",
       "</table>\n",
       "<p>6747 rows × 2 columns</p>\n",
       "</div>"
      ],
      "text/plain": [
       "      mkt_carrier_fl_num  taxi_in\n",
       "0                   6928     27.0\n",
       "1                   6499     26.0\n",
       "2                   6913     26.0\n",
       "3                   6460     21.0\n",
       "4                   6736     20.0\n",
       "...                  ...      ...\n",
       "6742                7390      2.0\n",
       "6743                6675      2.0\n",
       "6744                6431      2.0\n",
       "6745                6439      1.0\n",
       "6746                6733      1.0\n",
       "\n",
       "[6747 rows x 2 columns]"
      ]
     },
     "execution_count": 97,
     "metadata": {},
     "output_type": "execute_result"
    }
   ],
   "source": [
    "taxi_in_airport = taxi_in_airport.reset_index()\n",
    "taxi_in_airport"
   ]
  },
  {
   "cell_type": "code",
   "execution_count": 98,
   "id": "9565c20d",
   "metadata": {},
   "outputs": [],
   "source": [
    "taxi_in_dest = taxi_in_dest.reset_index()"
   ]
  },
  {
   "cell_type": "code",
   "execution_count": 99,
   "id": "e6368b74",
   "metadata": {},
   "outputs": [
    {
     "data": {
      "text/html": [
       "<div>\n",
       "<style scoped>\n",
       "    .dataframe tbody tr th:only-of-type {\n",
       "        vertical-align: middle;\n",
       "    }\n",
       "\n",
       "    .dataframe tbody tr th {\n",
       "        vertical-align: top;\n",
       "    }\n",
       "\n",
       "    .dataframe thead th {\n",
       "        text-align: right;\n",
       "    }\n",
       "</style>\n",
       "<table border=\"1\" class=\"dataframe\">\n",
       "  <thead>\n",
       "    <tr style=\"text-align: right;\">\n",
       "      <th></th>\n",
       "      <th>mkt_carrier_fl_num</th>\n",
       "      <th>mkt_carrier_fl_num_taxi_in</th>\n",
       "    </tr>\n",
       "  </thead>\n",
       "  <tbody>\n",
       "    <tr>\n",
       "      <th>0</th>\n",
       "      <td>6928</td>\n",
       "      <td>27.0</td>\n",
       "    </tr>\n",
       "    <tr>\n",
       "      <th>1</th>\n",
       "      <td>6499</td>\n",
       "      <td>26.0</td>\n",
       "    </tr>\n",
       "    <tr>\n",
       "      <th>2</th>\n",
       "      <td>6913</td>\n",
       "      <td>26.0</td>\n",
       "    </tr>\n",
       "    <tr>\n",
       "      <th>3</th>\n",
       "      <td>6460</td>\n",
       "      <td>21.0</td>\n",
       "    </tr>\n",
       "    <tr>\n",
       "      <th>4</th>\n",
       "      <td>6736</td>\n",
       "      <td>20.0</td>\n",
       "    </tr>\n",
       "    <tr>\n",
       "      <th>...</th>\n",
       "      <td>...</td>\n",
       "      <td>...</td>\n",
       "    </tr>\n",
       "    <tr>\n",
       "      <th>6742</th>\n",
       "      <td>7390</td>\n",
       "      <td>2.0</td>\n",
       "    </tr>\n",
       "    <tr>\n",
       "      <th>6743</th>\n",
       "      <td>6675</td>\n",
       "      <td>2.0</td>\n",
       "    </tr>\n",
       "    <tr>\n",
       "      <th>6744</th>\n",
       "      <td>6431</td>\n",
       "      <td>2.0</td>\n",
       "    </tr>\n",
       "    <tr>\n",
       "      <th>6745</th>\n",
       "      <td>6439</td>\n",
       "      <td>1.0</td>\n",
       "    </tr>\n",
       "    <tr>\n",
       "      <th>6746</th>\n",
       "      <td>6733</td>\n",
       "      <td>1.0</td>\n",
       "    </tr>\n",
       "  </tbody>\n",
       "</table>\n",
       "<p>6747 rows × 2 columns</p>\n",
       "</div>"
      ],
      "text/plain": [
       "      mkt_carrier_fl_num  mkt_carrier_fl_num_taxi_in\n",
       "0                   6928                        27.0\n",
       "1                   6499                        26.0\n",
       "2                   6913                        26.0\n",
       "3                   6460                        21.0\n",
       "4                   6736                        20.0\n",
       "...                  ...                         ...\n",
       "6742                7390                         2.0\n",
       "6743                6675                         2.0\n",
       "6744                6431                         2.0\n",
       "6745                6439                         1.0\n",
       "6746                6733                         1.0\n",
       "\n",
       "[6747 rows x 2 columns]"
      ]
     },
     "execution_count": 99,
     "metadata": {},
     "output_type": "execute_result"
    }
   ],
   "source": [
    "taxi_in_airport.columns = ['mkt_carrier_fl_num', 'mkt_carrier_fl_num_taxi_in']\n",
    "taxi_in_airport"
   ]
  },
  {
   "cell_type": "code",
   "execution_count": 100,
   "id": "4f24c71e",
   "metadata": {},
   "outputs": [],
   "source": [
    "taxi_in_dest.columns = ['dest', 'dest_taxi_in']"
   ]
  },
  {
   "cell_type": "code",
   "execution_count": 101,
   "id": "5002e94c",
   "metadata": {
    "scrolled": true
   },
   "outputs": [
    {
     "data": {
      "text/html": [
       "<div>\n",
       "<style scoped>\n",
       "    .dataframe tbody tr th:only-of-type {\n",
       "        vertical-align: middle;\n",
       "    }\n",
       "\n",
       "    .dataframe tbody tr th {\n",
       "        vertical-align: top;\n",
       "    }\n",
       "\n",
       "    .dataframe thead th {\n",
       "        text-align: right;\n",
       "    }\n",
       "</style>\n",
       "<table border=\"1\" class=\"dataframe\">\n",
       "  <thead>\n",
       "    <tr style=\"text-align: right;\">\n",
       "      <th></th>\n",
       "      <th>origin</th>\n",
       "      <th>origin_airport_id</th>\n",
       "      <th>origin_city_name</th>\n",
       "    </tr>\n",
       "  </thead>\n",
       "  <tbody>\n",
       "    <tr>\n",
       "      <th>0</th>\n",
       "      <td>BOS</td>\n",
       "      <td>10721</td>\n",
       "      <td>Boston, MA</td>\n",
       "    </tr>\n",
       "    <tr>\n",
       "      <th>1</th>\n",
       "      <td>TPA</td>\n",
       "      <td>15304</td>\n",
       "      <td>Tampa, FL</td>\n",
       "    </tr>\n",
       "    <tr>\n",
       "      <th>2</th>\n",
       "      <td>PHL</td>\n",
       "      <td>14100</td>\n",
       "      <td>Philadelphia, PA</td>\n",
       "    </tr>\n",
       "    <tr>\n",
       "      <th>3</th>\n",
       "      <td>MHT</td>\n",
       "      <td>13296</td>\n",
       "      <td>Manchester, NH</td>\n",
       "    </tr>\n",
       "    <tr>\n",
       "      <th>4</th>\n",
       "      <td>SLC</td>\n",
       "      <td>14869</td>\n",
       "      <td>Salt Lake City, UT</td>\n",
       "    </tr>\n",
       "    <tr>\n",
       "      <th>...</th>\n",
       "      <td>...</td>\n",
       "      <td>...</td>\n",
       "      <td>...</td>\n",
       "    </tr>\n",
       "    <tr>\n",
       "      <th>299995</th>\n",
       "      <td>LAX</td>\n",
       "      <td>12892</td>\n",
       "      <td>Los Angeles, CA</td>\n",
       "    </tr>\n",
       "    <tr>\n",
       "      <th>299996</th>\n",
       "      <td>PHX</td>\n",
       "      <td>14107</td>\n",
       "      <td>Phoenix, AZ</td>\n",
       "    </tr>\n",
       "    <tr>\n",
       "      <th>299997</th>\n",
       "      <td>CLT</td>\n",
       "      <td>11057</td>\n",
       "      <td>Charlotte, NC</td>\n",
       "    </tr>\n",
       "    <tr>\n",
       "      <th>299998</th>\n",
       "      <td>CWA</td>\n",
       "      <td>11203</td>\n",
       "      <td>Mosinee, WI</td>\n",
       "    </tr>\n",
       "    <tr>\n",
       "      <th>299999</th>\n",
       "      <td>DFW</td>\n",
       "      <td>11298</td>\n",
       "      <td>Dallas/Fort Worth, TX</td>\n",
       "    </tr>\n",
       "  </tbody>\n",
       "</table>\n",
       "<p>293446 rows × 3 columns</p>\n",
       "</div>"
      ],
      "text/plain": [
       "       origin  origin_airport_id       origin_city_name\n",
       "0         BOS              10721             Boston, MA\n",
       "1         TPA              15304              Tampa, FL\n",
       "2         PHL              14100       Philadelphia, PA\n",
       "3         MHT              13296         Manchester, NH\n",
       "4         SLC              14869     Salt Lake City, UT\n",
       "...       ...                ...                    ...\n",
       "299995    LAX              12892        Los Angeles, CA\n",
       "299996    PHX              14107            Phoenix, AZ\n",
       "299997    CLT              11057          Charlotte, NC\n",
       "299998    CWA              11203            Mosinee, WI\n",
       "299999    DFW              11298  Dallas/Fort Worth, TX\n",
       "\n",
       "[293446 rows x 3 columns]"
      ]
     },
     "execution_count": 101,
     "metadata": {},
     "output_type": "execute_result"
    }
   ],
   "source": [
    "df_flight[['origin', 'origin_airport_id', 'origin_city_name']]"
   ]
  },
  {
   "cell_type": "code",
   "execution_count": 102,
   "id": "d0fb634c",
   "metadata": {},
   "outputs": [
    {
     "data": {
      "text/plain": [
       "373"
      ]
     },
     "execution_count": 102,
     "metadata": {},
     "output_type": "execute_result"
    }
   ],
   "source": [
    "df_flight['origin'].nunique()"
   ]
  },
  {
   "cell_type": "code",
   "execution_count": 103,
   "id": "10bb125b",
   "metadata": {},
   "outputs": [
    {
     "data": {
      "text/plain": [
       "373"
      ]
     },
     "execution_count": 103,
     "metadata": {},
     "output_type": "execute_result"
    }
   ],
   "source": [
    "df_flight['origin_airport_id'].nunique()"
   ]
  },
  {
   "cell_type": "code",
   "execution_count": 104,
   "id": "c56990d3",
   "metadata": {},
   "outputs": [
    {
     "data": {
      "text/plain": [
       "365"
      ]
     },
     "execution_count": 104,
     "metadata": {},
     "output_type": "execute_result"
    }
   ],
   "source": [
    "df_flight['origin_city_name'].nunique()"
   ]
  },
  {
   "cell_type": "markdown",
   "id": "ea047d2c",
   "metadata": {},
   "source": [
    "- We can see that the 'origin' and 'origin_airport_id' have the same meaning\n",
    "- One city can have more than 1 airport\n",
    "=> we can only use the feature **origin** among 3 features \n",
    "\n",
    "- We can also use this filter for the destination"
   ]
  },
  {
   "cell_type": "code",
   "execution_count": 105,
   "id": "873a757f",
   "metadata": {},
   "outputs": [],
   "source": [
    "df_flight = df_flight.drop(columns=['origin_airport_id', 'origin_city_name'])"
   ]
  },
  {
   "cell_type": "code",
   "execution_count": 106,
   "id": "9c41f413",
   "metadata": {},
   "outputs": [],
   "source": [
    "df_flight_test = df_flight_test.drop(columns=['origin_airport_id', 'origin_city_name'])"
   ]
  },
  {
   "cell_type": "code",
   "execution_count": 107,
   "id": "dc2b20d4",
   "metadata": {},
   "outputs": [
    {
     "data": {
      "text/plain": [
       "(293446, 22)"
      ]
     },
     "execution_count": 107,
     "metadata": {},
     "output_type": "execute_result"
    }
   ],
   "source": [
    "df_flight.shape"
   ]
  },
  {
   "cell_type": "code",
   "execution_count": 108,
   "id": "c6b046a9",
   "metadata": {},
   "outputs": [
    {
     "data": {
      "text/plain": [
       "Index(['fl_date', 'mkt_unique_carrier', 'mkt_carrier_fl_num',\n",
       "       'op_unique_carrier', 'tail_num', 'op_carrier_fl_num', 'origin',\n",
       "       'dest_airport_id', 'dest', 'dest_city_name', 'crs_dep_time',\n",
       "       'crs_arr_time', 'dup', 'crs_elapsed_time', 'flights', 'distance',\n",
       "       'arr_delay', 'carrier_delay', 'weather_delay', 'dep_delay', 'taxi_out',\n",
       "       'taxi_in'],\n",
       "      dtype='object')"
      ]
     },
     "execution_count": 108,
     "metadata": {},
     "output_type": "execute_result"
    }
   ],
   "source": [
    "df_flight.columns"
   ]
  },
  {
   "cell_type": "code",
   "execution_count": 109,
   "id": "dde02132",
   "metadata": {},
   "outputs": [],
   "source": [
    "df_flight = df_flight.drop(columns=['dest_airport_id', 'dest_city_name'])"
   ]
  },
  {
   "cell_type": "code",
   "execution_count": 110,
   "id": "a84217f3",
   "metadata": {},
   "outputs": [
    {
     "data": {
      "text/plain": [
       "(150623, 17)"
      ]
     },
     "execution_count": 110,
     "metadata": {},
     "output_type": "execute_result"
    }
   ],
   "source": [
    "df_flight_test.shape"
   ]
  },
  {
   "cell_type": "code",
   "execution_count": 111,
   "id": "2a5968fa",
   "metadata": {},
   "outputs": [],
   "source": [
    "df_flight_test = df_flight_test.drop(columns=['dest_airport_id', 'dest_city_name'])"
   ]
  },
  {
   "cell_type": "code",
   "execution_count": 112,
   "id": "28858ce9",
   "metadata": {},
   "outputs": [
    {
     "data": {
      "text/plain": [
       "array(['N'], dtype=object)"
      ]
     },
     "execution_count": 112,
     "metadata": {},
     "output_type": "execute_result"
    }
   ],
   "source": [
    "# The dup column has only data 'N'\n",
    "df_flight['dup'].unique()"
   ]
  },
  {
   "cell_type": "code",
   "execution_count": 113,
   "id": "5c2a72df",
   "metadata": {},
   "outputs": [],
   "source": [
    "# remove the dup column\n",
    "df_flight = df_flight.drop(columns=['dup'])"
   ]
  },
  {
   "cell_type": "code",
   "execution_count": 114,
   "id": "385387b5",
   "metadata": {},
   "outputs": [],
   "source": [
    "df_flight_test = df_flight_test.drop(columns=['dup'])"
   ]
  },
  {
   "cell_type": "markdown",
   "id": "545ab294",
   "metadata": {},
   "source": [
    "### mkt carrier\n",
    "__a) *mkt carrier with high incidence of carrier_delay*__"
   ]
  },
  {
   "cell_type": "code",
   "execution_count": 115,
   "id": "0182d0e5",
   "metadata": {},
   "outputs": [
    {
     "data": {
      "text/plain": [
       "mkt_unique_carrier\n",
       "B6    28.0\n",
       "DL    25.0\n",
       "G4    24.0\n",
       "UA    22.0\n",
       "AA    21.0\n",
       "Name: carrier_delay, dtype: float64"
      ]
     },
     "execution_count": 115,
     "metadata": {},
     "output_type": "execute_result"
    }
   ],
   "source": [
    "delayed_mkt_carrier= df_flight.groupby(['mkt_unique_carrier']).carrier_delay.mean().round(0).sort_values(ascending=False)\n",
    "delayed_mkt_carrier.head()"
   ]
  },
  {
   "cell_type": "code",
   "execution_count": 116,
   "id": "cfe706f3",
   "metadata": {},
   "outputs": [],
   "source": [
    "delayed_mkt_carrier= delayed_mkt_carrier.reset_index()"
   ]
  },
  {
   "cell_type": "code",
   "execution_count": 117,
   "id": "4f358229",
   "metadata": {},
   "outputs": [
    {
     "data": {
      "text/html": [
       "<div>\n",
       "<style scoped>\n",
       "    .dataframe tbody tr th:only-of-type {\n",
       "        vertical-align: middle;\n",
       "    }\n",
       "\n",
       "    .dataframe tbody tr th {\n",
       "        vertical-align: top;\n",
       "    }\n",
       "\n",
       "    .dataframe thead th {\n",
       "        text-align: right;\n",
       "    }\n",
       "</style>\n",
       "<table border=\"1\" class=\"dataframe\">\n",
       "  <thead>\n",
       "    <tr style=\"text-align: right;\">\n",
       "      <th></th>\n",
       "      <th>mkt_unique_carrier</th>\n",
       "      <th>carrier_delay</th>\n",
       "    </tr>\n",
       "  </thead>\n",
       "  <tbody>\n",
       "    <tr>\n",
       "      <th>0</th>\n",
       "      <td>B6</td>\n",
       "      <td>28.0</td>\n",
       "    </tr>\n",
       "    <tr>\n",
       "      <th>1</th>\n",
       "      <td>DL</td>\n",
       "      <td>25.0</td>\n",
       "    </tr>\n",
       "    <tr>\n",
       "      <th>2</th>\n",
       "      <td>G4</td>\n",
       "      <td>24.0</td>\n",
       "    </tr>\n",
       "    <tr>\n",
       "      <th>3</th>\n",
       "      <td>UA</td>\n",
       "      <td>22.0</td>\n",
       "    </tr>\n",
       "    <tr>\n",
       "      <th>4</th>\n",
       "      <td>AA</td>\n",
       "      <td>21.0</td>\n",
       "    </tr>\n",
       "    <tr>\n",
       "      <th>5</th>\n",
       "      <td>HA</td>\n",
       "      <td>21.0</td>\n",
       "    </tr>\n",
       "    <tr>\n",
       "      <th>6</th>\n",
       "      <td>F9</td>\n",
       "      <td>18.0</td>\n",
       "    </tr>\n",
       "    <tr>\n",
       "      <th>7</th>\n",
       "      <td>WN</td>\n",
       "      <td>17.0</td>\n",
       "    </tr>\n",
       "    <tr>\n",
       "      <th>8</th>\n",
       "      <td>NK</td>\n",
       "      <td>16.0</td>\n",
       "    </tr>\n",
       "    <tr>\n",
       "      <th>9</th>\n",
       "      <td>AS</td>\n",
       "      <td>14.0</td>\n",
       "    </tr>\n",
       "  </tbody>\n",
       "</table>\n",
       "</div>"
      ],
      "text/plain": [
       "  mkt_unique_carrier  carrier_delay\n",
       "0                 B6           28.0\n",
       "1                 DL           25.0\n",
       "2                 G4           24.0\n",
       "3                 UA           22.0\n",
       "4                 AA           21.0\n",
       "5                 HA           21.0\n",
       "6                 F9           18.0\n",
       "7                 WN           17.0\n",
       "8                 NK           16.0\n",
       "9                 AS           14.0"
      ]
     },
     "execution_count": 117,
     "metadata": {},
     "output_type": "execute_result"
    }
   ],
   "source": [
    "delayed_mkt_carrier"
   ]
  },
  {
   "cell_type": "code",
   "execution_count": 118,
   "id": "7af1157e",
   "metadata": {},
   "outputs": [],
   "source": [
    "delayed_mkt_carrier.columns= ['mkt_unique_carrier','mkt_carrier_delay']"
   ]
  },
  {
   "cell_type": "code",
   "execution_count": 119,
   "id": "2dd0f8bd",
   "metadata": {},
   "outputs": [
    {
     "data": {
      "text/html": [
       "<div>\n",
       "<style scoped>\n",
       "    .dataframe tbody tr th:only-of-type {\n",
       "        vertical-align: middle;\n",
       "    }\n",
       "\n",
       "    .dataframe tbody tr th {\n",
       "        vertical-align: top;\n",
       "    }\n",
       "\n",
       "    .dataframe thead th {\n",
       "        text-align: right;\n",
       "    }\n",
       "</style>\n",
       "<table border=\"1\" class=\"dataframe\">\n",
       "  <thead>\n",
       "    <tr style=\"text-align: right;\">\n",
       "      <th></th>\n",
       "      <th>mkt_unique_carrier</th>\n",
       "      <th>mkt_carrier_delay</th>\n",
       "    </tr>\n",
       "  </thead>\n",
       "  <tbody>\n",
       "    <tr>\n",
       "      <th>0</th>\n",
       "      <td>B6</td>\n",
       "      <td>28.0</td>\n",
       "    </tr>\n",
       "    <tr>\n",
       "      <th>1</th>\n",
       "      <td>DL</td>\n",
       "      <td>25.0</td>\n",
       "    </tr>\n",
       "    <tr>\n",
       "      <th>2</th>\n",
       "      <td>G4</td>\n",
       "      <td>24.0</td>\n",
       "    </tr>\n",
       "    <tr>\n",
       "      <th>3</th>\n",
       "      <td>UA</td>\n",
       "      <td>22.0</td>\n",
       "    </tr>\n",
       "    <tr>\n",
       "      <th>4</th>\n",
       "      <td>AA</td>\n",
       "      <td>21.0</td>\n",
       "    </tr>\n",
       "  </tbody>\n",
       "</table>\n",
       "</div>"
      ],
      "text/plain": [
       "  mkt_unique_carrier  mkt_carrier_delay\n",
       "0                 B6               28.0\n",
       "1                 DL               25.0\n",
       "2                 G4               24.0\n",
       "3                 UA               22.0\n",
       "4                 AA               21.0"
      ]
     },
     "execution_count": 119,
     "metadata": {},
     "output_type": "execute_result"
    }
   ],
   "source": [
    "delayed_mkt_carrier.head()"
   ]
  },
  {
   "cell_type": "markdown",
   "id": "754e0c07",
   "metadata": {},
   "source": [
    "__*b) mkt_unique_carrier with high incidence of departure delay*__"
   ]
  },
  {
   "cell_type": "code",
   "execution_count": 120,
   "id": "ffb16c31",
   "metadata": {},
   "outputs": [],
   "source": [
    "departure_delay_mkt_carrier= df_flight.groupby(['mkt_unique_carrier']).dep_delay.mean().round(0).sort_values(ascending=False)\n",
    "departure_delay_mkt_carrier= departure_delay_mkt_carrier.reset_index()"
   ]
  },
  {
   "cell_type": "code",
   "execution_count": 121,
   "id": "27c1b852",
   "metadata": {},
   "outputs": [
    {
     "data": {
      "text/html": [
       "<div>\n",
       "<style scoped>\n",
       "    .dataframe tbody tr th:only-of-type {\n",
       "        vertical-align: middle;\n",
       "    }\n",
       "\n",
       "    .dataframe tbody tr th {\n",
       "        vertical-align: top;\n",
       "    }\n",
       "\n",
       "    .dataframe thead th {\n",
       "        text-align: right;\n",
       "    }\n",
       "</style>\n",
       "<table border=\"1\" class=\"dataframe\">\n",
       "  <thead>\n",
       "    <tr style=\"text-align: right;\">\n",
       "      <th></th>\n",
       "      <th>mkt_unique_carrier</th>\n",
       "      <th>dep_delay</th>\n",
       "    </tr>\n",
       "  </thead>\n",
       "  <tbody>\n",
       "    <tr>\n",
       "      <th>0</th>\n",
       "      <td>B6</td>\n",
       "      <td>18.0</td>\n",
       "    </tr>\n",
       "    <tr>\n",
       "      <th>1</th>\n",
       "      <td>F9</td>\n",
       "      <td>15.0</td>\n",
       "    </tr>\n",
       "    <tr>\n",
       "      <th>2</th>\n",
       "      <td>UA</td>\n",
       "      <td>15.0</td>\n",
       "    </tr>\n",
       "    <tr>\n",
       "      <th>3</th>\n",
       "      <td>NK</td>\n",
       "      <td>11.0</td>\n",
       "    </tr>\n",
       "    <tr>\n",
       "      <th>4</th>\n",
       "      <td>AA</td>\n",
       "      <td>10.0</td>\n",
       "    </tr>\n",
       "    <tr>\n",
       "      <th>5</th>\n",
       "      <td>DL</td>\n",
       "      <td>10.0</td>\n",
       "    </tr>\n",
       "    <tr>\n",
       "      <th>6</th>\n",
       "      <td>G4</td>\n",
       "      <td>10.0</td>\n",
       "    </tr>\n",
       "    <tr>\n",
       "      <th>7</th>\n",
       "      <td>WN</td>\n",
       "      <td>10.0</td>\n",
       "    </tr>\n",
       "    <tr>\n",
       "      <th>8</th>\n",
       "      <td>AS</td>\n",
       "      <td>4.0</td>\n",
       "    </tr>\n",
       "    <tr>\n",
       "      <th>9</th>\n",
       "      <td>HA</td>\n",
       "      <td>2.0</td>\n",
       "    </tr>\n",
       "  </tbody>\n",
       "</table>\n",
       "</div>"
      ],
      "text/plain": [
       "  mkt_unique_carrier  dep_delay\n",
       "0                 B6       18.0\n",
       "1                 F9       15.0\n",
       "2                 UA       15.0\n",
       "3                 NK       11.0\n",
       "4                 AA       10.0\n",
       "5                 DL       10.0\n",
       "6                 G4       10.0\n",
       "7                 WN       10.0\n",
       "8                 AS        4.0\n",
       "9                 HA        2.0"
      ]
     },
     "execution_count": 121,
     "metadata": {},
     "output_type": "execute_result"
    }
   ],
   "source": [
    "departure_delay_mkt_carrier"
   ]
  },
  {
   "cell_type": "code",
   "execution_count": 122,
   "id": "7519dc9e",
   "metadata": {},
   "outputs": [],
   "source": [
    "departure_delay_mkt_carrier.columns=['mkt_unique_carrier','mkt_carrier_dep_delay']"
   ]
  },
  {
   "cell_type": "code",
   "execution_count": 123,
   "id": "2cacd0f5",
   "metadata": {},
   "outputs": [
    {
     "data": {
      "text/html": [
       "<div>\n",
       "<style scoped>\n",
       "    .dataframe tbody tr th:only-of-type {\n",
       "        vertical-align: middle;\n",
       "    }\n",
       "\n",
       "    .dataframe tbody tr th {\n",
       "        vertical-align: top;\n",
       "    }\n",
       "\n",
       "    .dataframe thead th {\n",
       "        text-align: right;\n",
       "    }\n",
       "</style>\n",
       "<table border=\"1\" class=\"dataframe\">\n",
       "  <thead>\n",
       "    <tr style=\"text-align: right;\">\n",
       "      <th></th>\n",
       "      <th>mkt_unique_carrier</th>\n",
       "      <th>mkt_carrier_dep_delay</th>\n",
       "    </tr>\n",
       "  </thead>\n",
       "  <tbody>\n",
       "    <tr>\n",
       "      <th>0</th>\n",
       "      <td>B6</td>\n",
       "      <td>18.0</td>\n",
       "    </tr>\n",
       "    <tr>\n",
       "      <th>1</th>\n",
       "      <td>F9</td>\n",
       "      <td>15.0</td>\n",
       "    </tr>\n",
       "    <tr>\n",
       "      <th>2</th>\n",
       "      <td>UA</td>\n",
       "      <td>15.0</td>\n",
       "    </tr>\n",
       "    <tr>\n",
       "      <th>3</th>\n",
       "      <td>NK</td>\n",
       "      <td>11.0</td>\n",
       "    </tr>\n",
       "    <tr>\n",
       "      <th>4</th>\n",
       "      <td>AA</td>\n",
       "      <td>10.0</td>\n",
       "    </tr>\n",
       "  </tbody>\n",
       "</table>\n",
       "</div>"
      ],
      "text/plain": [
       "  mkt_unique_carrier  mkt_carrier_dep_delay\n",
       "0                 B6                   18.0\n",
       "1                 F9                   15.0\n",
       "2                 UA                   15.0\n",
       "3                 NK                   11.0\n",
       "4                 AA                   10.0"
      ]
     },
     "execution_count": 123,
     "metadata": {},
     "output_type": "execute_result"
    }
   ],
   "source": [
    "departure_delay_mkt_carrier.head()"
   ]
  },
  {
   "cell_type": "code",
   "execution_count": null,
   "id": "7d1bcf3b",
   "metadata": {},
   "outputs": [],
   "source": []
  },
  {
   "cell_type": "code",
   "execution_count": 124,
   "id": "801725d1",
   "metadata": {
    "scrolled": true
   },
   "outputs": [
    {
     "data": {
      "text/plain": [
       "fl_date               110661\n",
       "mkt_unique_carrier    110661\n",
       "mkt_carrier_fl_num    110661\n",
       "op_unique_carrier     110661\n",
       "tail_num              110661\n",
       "op_carrier_fl_num     110661\n",
       "origin                110661\n",
       "dest                  110661\n",
       "crs_dep_time          110661\n",
       "crs_arr_time          110661\n",
       "crs_elapsed_time      110661\n",
       "flights               110661\n",
       "distance              110661\n",
       "arr_delay             110661\n",
       "carrier_delay          22289\n",
       "weather_delay          22289\n",
       "dep_delay             110661\n",
       "taxi_out              110661\n",
       "taxi_in               110661\n",
       "dtype: int64"
      ]
     },
     "execution_count": 124,
     "metadata": {},
     "output_type": "execute_result"
    }
   ],
   "source": [
    "# very high number of difference between mkt_unique_carrier and op_unique_carrier\n",
    "df_flight[df_flight['mkt_unique_carrier'] != df_flight['op_unique_carrier']].count()"
   ]
  },
  {
   "cell_type": "markdown",
   "id": "95f39c33",
   "metadata": {},
   "source": [
    "__c) *mkt carrier with high incidence of arr_delay*__"
   ]
  },
  {
   "cell_type": "code",
   "execution_count": 125,
   "id": "3e03fe40",
   "metadata": {},
   "outputs": [
    {
     "data": {
      "text/plain": [
       "mkt_unique_carrier\n",
       "B6    12.0\n",
       "UA    11.0\n",
       "F9     9.0\n",
       "G4     9.0\n",
       "AA     6.0\n",
       "Name: arr_delay, dtype: float64"
      ]
     },
     "execution_count": 125,
     "metadata": {},
     "output_type": "execute_result"
    }
   ],
   "source": [
    "delayed_mkt_arr= df_flight.groupby(['mkt_unique_carrier']).arr_delay.mean().round(0).sort_values(ascending=False)\n",
    "delayed_mkt_arr.head()"
   ]
  },
  {
   "cell_type": "code",
   "execution_count": 126,
   "id": "b9d0f2ee",
   "metadata": {},
   "outputs": [],
   "source": [
    "delayed_mkt_arr= delayed_mkt_arr.reset_index()"
   ]
  },
  {
   "cell_type": "code",
   "execution_count": 127,
   "id": "cf95588d",
   "metadata": {
    "scrolled": true
   },
   "outputs": [
    {
     "data": {
      "text/html": [
       "<div>\n",
       "<style scoped>\n",
       "    .dataframe tbody tr th:only-of-type {\n",
       "        vertical-align: middle;\n",
       "    }\n",
       "\n",
       "    .dataframe tbody tr th {\n",
       "        vertical-align: top;\n",
       "    }\n",
       "\n",
       "    .dataframe thead th {\n",
       "        text-align: right;\n",
       "    }\n",
       "</style>\n",
       "<table border=\"1\" class=\"dataframe\">\n",
       "  <thead>\n",
       "    <tr style=\"text-align: right;\">\n",
       "      <th></th>\n",
       "      <th>mkt_unique_carrier</th>\n",
       "      <th>arr_delay</th>\n",
       "    </tr>\n",
       "  </thead>\n",
       "  <tbody>\n",
       "    <tr>\n",
       "      <th>0</th>\n",
       "      <td>B6</td>\n",
       "      <td>12.0</td>\n",
       "    </tr>\n",
       "    <tr>\n",
       "      <th>1</th>\n",
       "      <td>UA</td>\n",
       "      <td>11.0</td>\n",
       "    </tr>\n",
       "    <tr>\n",
       "      <th>2</th>\n",
       "      <td>F9</td>\n",
       "      <td>9.0</td>\n",
       "    </tr>\n",
       "    <tr>\n",
       "      <th>3</th>\n",
       "      <td>G4</td>\n",
       "      <td>9.0</td>\n",
       "    </tr>\n",
       "    <tr>\n",
       "      <th>4</th>\n",
       "      <td>AA</td>\n",
       "      <td>6.0</td>\n",
       "    </tr>\n",
       "    <tr>\n",
       "      <th>5</th>\n",
       "      <td>NK</td>\n",
       "      <td>5.0</td>\n",
       "    </tr>\n",
       "    <tr>\n",
       "      <th>6</th>\n",
       "      <td>DL</td>\n",
       "      <td>3.0</td>\n",
       "    </tr>\n",
       "    <tr>\n",
       "      <th>7</th>\n",
       "      <td>WN</td>\n",
       "      <td>2.0</td>\n",
       "    </tr>\n",
       "    <tr>\n",
       "      <th>8</th>\n",
       "      <td>AS</td>\n",
       "      <td>1.0</td>\n",
       "    </tr>\n",
       "    <tr>\n",
       "      <th>9</th>\n",
       "      <td>HA</td>\n",
       "      <td>1.0</td>\n",
       "    </tr>\n",
       "  </tbody>\n",
       "</table>\n",
       "</div>"
      ],
      "text/plain": [
       "  mkt_unique_carrier  arr_delay\n",
       "0                 B6       12.0\n",
       "1                 UA       11.0\n",
       "2                 F9        9.0\n",
       "3                 G4        9.0\n",
       "4                 AA        6.0\n",
       "5                 NK        5.0\n",
       "6                 DL        3.0\n",
       "7                 WN        2.0\n",
       "8                 AS        1.0\n",
       "9                 HA        1.0"
      ]
     },
     "execution_count": 127,
     "metadata": {},
     "output_type": "execute_result"
    }
   ],
   "source": [
    "delayed_mkt_arr"
   ]
  },
  {
   "cell_type": "code",
   "execution_count": 128,
   "id": "d4582b3d",
   "metadata": {},
   "outputs": [],
   "source": [
    "delayed_mkt_arr.columns= ['mkt_unique_carrier','mkt_arr_delay']"
   ]
  },
  {
   "cell_type": "markdown",
   "id": "71d31fa1",
   "metadata": {},
   "source": [
    "### op carrier\n",
    "__*a) op carrier with high incidence of carrier_delay*__"
   ]
  },
  {
   "cell_type": "code",
   "execution_count": 129,
   "id": "320d7751",
   "metadata": {},
   "outputs": [],
   "source": [
    "delayed_op_carrier=df_flight.groupby(['op_unique_carrier']).carrier_delay.mean().round(0).sort_values(ascending=False)\n",
    "delayed_op_carrier= delayed_op_carrier.reset_index()"
   ]
  },
  {
   "cell_type": "code",
   "execution_count": 130,
   "id": "7b70b007",
   "metadata": {},
   "outputs": [
    {
     "data": {
      "text/html": [
       "<div>\n",
       "<style scoped>\n",
       "    .dataframe tbody tr th:only-of-type {\n",
       "        vertical-align: middle;\n",
       "    }\n",
       "\n",
       "    .dataframe tbody tr th {\n",
       "        vertical-align: top;\n",
       "    }\n",
       "\n",
       "    .dataframe thead th {\n",
       "        text-align: right;\n",
       "    }\n",
       "</style>\n",
       "<table border=\"1\" class=\"dataframe\">\n",
       "  <thead>\n",
       "    <tr style=\"text-align: right;\">\n",
       "      <th></th>\n",
       "      <th>op_unique_carrier</th>\n",
       "      <th>carrier_delay</th>\n",
       "    </tr>\n",
       "  </thead>\n",
       "  <tbody>\n",
       "    <tr>\n",
       "      <th>0</th>\n",
       "      <td>OO</td>\n",
       "      <td>30.0</td>\n",
       "    </tr>\n",
       "    <tr>\n",
       "      <th>1</th>\n",
       "      <td>B6</td>\n",
       "      <td>28.0</td>\n",
       "    </tr>\n",
       "    <tr>\n",
       "      <th>2</th>\n",
       "      <td>CP</td>\n",
       "      <td>28.0</td>\n",
       "    </tr>\n",
       "    <tr>\n",
       "      <th>3</th>\n",
       "      <td>YV</td>\n",
       "      <td>27.0</td>\n",
       "    </tr>\n",
       "    <tr>\n",
       "      <th>4</th>\n",
       "      <td>EV</td>\n",
       "      <td>27.0</td>\n",
       "    </tr>\n",
       "  </tbody>\n",
       "</table>\n",
       "</div>"
      ],
      "text/plain": [
       "  op_unique_carrier  carrier_delay\n",
       "0                OO           30.0\n",
       "1                B6           28.0\n",
       "2                CP           28.0\n",
       "3                YV           27.0\n",
       "4                EV           27.0"
      ]
     },
     "execution_count": 130,
     "metadata": {},
     "output_type": "execute_result"
    }
   ],
   "source": [
    "delayed_op_carrier.head()"
   ]
  },
  {
   "cell_type": "code",
   "execution_count": 131,
   "id": "b794d93a",
   "metadata": {},
   "outputs": [],
   "source": [
    "delayed_op_carrier.columns= ['op_unique_carrier','op_carrier_delay']"
   ]
  },
  {
   "cell_type": "code",
   "execution_count": 132,
   "id": "dafcc237",
   "metadata": {},
   "outputs": [
    {
     "data": {
      "text/html": [
       "<div>\n",
       "<style scoped>\n",
       "    .dataframe tbody tr th:only-of-type {\n",
       "        vertical-align: middle;\n",
       "    }\n",
       "\n",
       "    .dataframe tbody tr th {\n",
       "        vertical-align: top;\n",
       "    }\n",
       "\n",
       "    .dataframe thead th {\n",
       "        text-align: right;\n",
       "    }\n",
       "</style>\n",
       "<table border=\"1\" class=\"dataframe\">\n",
       "  <thead>\n",
       "    <tr style=\"text-align: right;\">\n",
       "      <th></th>\n",
       "      <th>op_unique_carrier</th>\n",
       "      <th>op_carrier_delay</th>\n",
       "    </tr>\n",
       "  </thead>\n",
       "  <tbody>\n",
       "    <tr>\n",
       "      <th>0</th>\n",
       "      <td>OO</td>\n",
       "      <td>30.0</td>\n",
       "    </tr>\n",
       "    <tr>\n",
       "      <th>1</th>\n",
       "      <td>B6</td>\n",
       "      <td>28.0</td>\n",
       "    </tr>\n",
       "    <tr>\n",
       "      <th>2</th>\n",
       "      <td>CP</td>\n",
       "      <td>28.0</td>\n",
       "    </tr>\n",
       "    <tr>\n",
       "      <th>3</th>\n",
       "      <td>YV</td>\n",
       "      <td>27.0</td>\n",
       "    </tr>\n",
       "    <tr>\n",
       "      <th>4</th>\n",
       "      <td>EV</td>\n",
       "      <td>27.0</td>\n",
       "    </tr>\n",
       "  </tbody>\n",
       "</table>\n",
       "</div>"
      ],
      "text/plain": [
       "  op_unique_carrier  op_carrier_delay\n",
       "0                OO              30.0\n",
       "1                B6              28.0\n",
       "2                CP              28.0\n",
       "3                YV              27.0\n",
       "4                EV              27.0"
      ]
     },
     "execution_count": 132,
     "metadata": {},
     "output_type": "execute_result"
    }
   ],
   "source": [
    "delayed_op_carrier.head()"
   ]
  },
  {
   "cell_type": "markdown",
   "id": "fe36f068",
   "metadata": {},
   "source": [
    "__*b) op_unique_carrier with high incidence of departure delay*__"
   ]
  },
  {
   "cell_type": "code",
   "execution_count": 133,
   "id": "f761df30",
   "metadata": {},
   "outputs": [],
   "source": [
    "departure_delay_op_carrier=df_flight.groupby(['op_unique_carrier']).dep_delay.mean().round(0).sort_values(ascending=False)\n",
    "departure_delay_op_carrier= departure_delay_op_carrier.reset_index()"
   ]
  },
  {
   "cell_type": "code",
   "execution_count": 134,
   "id": "7d9a935b",
   "metadata": {},
   "outputs": [
    {
     "data": {
      "text/html": [
       "<div>\n",
       "<style scoped>\n",
       "    .dataframe tbody tr th:only-of-type {\n",
       "        vertical-align: middle;\n",
       "    }\n",
       "\n",
       "    .dataframe tbody tr th {\n",
       "        vertical-align: top;\n",
       "    }\n",
       "\n",
       "    .dataframe thead th {\n",
       "        text-align: right;\n",
       "    }\n",
       "</style>\n",
       "<table border=\"1\" class=\"dataframe\">\n",
       "  <thead>\n",
       "    <tr style=\"text-align: right;\">\n",
       "      <th></th>\n",
       "      <th>op_unique_carrier</th>\n",
       "      <th>dep_delay</th>\n",
       "    </tr>\n",
       "  </thead>\n",
       "  <tbody>\n",
       "    <tr>\n",
       "      <th>0</th>\n",
       "      <td>C5</td>\n",
       "      <td>26.0</td>\n",
       "    </tr>\n",
       "    <tr>\n",
       "      <th>1</th>\n",
       "      <td>KS</td>\n",
       "      <td>22.0</td>\n",
       "    </tr>\n",
       "    <tr>\n",
       "      <th>2</th>\n",
       "      <td>EV</td>\n",
       "      <td>20.0</td>\n",
       "    </tr>\n",
       "    <tr>\n",
       "      <th>3</th>\n",
       "      <td>B6</td>\n",
       "      <td>18.0</td>\n",
       "    </tr>\n",
       "    <tr>\n",
       "      <th>4</th>\n",
       "      <td>AX</td>\n",
       "      <td>17.0</td>\n",
       "    </tr>\n",
       "  </tbody>\n",
       "</table>\n",
       "</div>"
      ],
      "text/plain": [
       "  op_unique_carrier  dep_delay\n",
       "0                C5       26.0\n",
       "1                KS       22.0\n",
       "2                EV       20.0\n",
       "3                B6       18.0\n",
       "4                AX       17.0"
      ]
     },
     "execution_count": 134,
     "metadata": {},
     "output_type": "execute_result"
    }
   ],
   "source": [
    "departure_delay_op_carrier.head()"
   ]
  },
  {
   "cell_type": "code",
   "execution_count": 135,
   "id": "6174ffd1",
   "metadata": {},
   "outputs": [],
   "source": [
    "departure_delay_op_carrier.columns= ['op_unique_carrier','op_carrier_dep_delay']"
   ]
  },
  {
   "cell_type": "code",
   "execution_count": 136,
   "id": "1506b9ef",
   "metadata": {
    "scrolled": true
   },
   "outputs": [
    {
     "data": {
      "text/html": [
       "<div>\n",
       "<style scoped>\n",
       "    .dataframe tbody tr th:only-of-type {\n",
       "        vertical-align: middle;\n",
       "    }\n",
       "\n",
       "    .dataframe tbody tr th {\n",
       "        vertical-align: top;\n",
       "    }\n",
       "\n",
       "    .dataframe thead th {\n",
       "        text-align: right;\n",
       "    }\n",
       "</style>\n",
       "<table border=\"1\" class=\"dataframe\">\n",
       "  <thead>\n",
       "    <tr style=\"text-align: right;\">\n",
       "      <th></th>\n",
       "      <th>op_unique_carrier</th>\n",
       "      <th>op_carrier_dep_delay</th>\n",
       "    </tr>\n",
       "  </thead>\n",
       "  <tbody>\n",
       "    <tr>\n",
       "      <th>0</th>\n",
       "      <td>C5</td>\n",
       "      <td>26.0</td>\n",
       "    </tr>\n",
       "    <tr>\n",
       "      <th>1</th>\n",
       "      <td>KS</td>\n",
       "      <td>22.0</td>\n",
       "    </tr>\n",
       "    <tr>\n",
       "      <th>2</th>\n",
       "      <td>EV</td>\n",
       "      <td>20.0</td>\n",
       "    </tr>\n",
       "    <tr>\n",
       "      <th>3</th>\n",
       "      <td>B6</td>\n",
       "      <td>18.0</td>\n",
       "    </tr>\n",
       "    <tr>\n",
       "      <th>4</th>\n",
       "      <td>AX</td>\n",
       "      <td>17.0</td>\n",
       "    </tr>\n",
       "  </tbody>\n",
       "</table>\n",
       "</div>"
      ],
      "text/plain": [
       "  op_unique_carrier  op_carrier_dep_delay\n",
       "0                C5                  26.0\n",
       "1                KS                  22.0\n",
       "2                EV                  20.0\n",
       "3                B6                  18.0\n",
       "4                AX                  17.0"
      ]
     },
     "execution_count": 136,
     "metadata": {},
     "output_type": "execute_result"
    }
   ],
   "source": [
    "departure_delay_op_carrier.head()"
   ]
  },
  {
   "cell_type": "markdown",
   "id": "4fd51489",
   "metadata": {},
   "source": [
    "__*c) op carrier with high incidence of arr_delay*__"
   ]
  },
  {
   "cell_type": "code",
   "execution_count": 137,
   "id": "99d94513",
   "metadata": {},
   "outputs": [],
   "source": [
    "delayed_op_arr=df_flight.groupby(['op_unique_carrier']).arr_delay.mean().round(0).sort_values(ascending=False)\n",
    "delayed_op_arr= delayed_op_arr.reset_index()"
   ]
  },
  {
   "cell_type": "code",
   "execution_count": 138,
   "id": "20d64bb6",
   "metadata": {},
   "outputs": [
    {
     "data": {
      "text/html": [
       "<div>\n",
       "<style scoped>\n",
       "    .dataframe tbody tr th:only-of-type {\n",
       "        vertical-align: middle;\n",
       "    }\n",
       "\n",
       "    .dataframe tbody tr th {\n",
       "        vertical-align: top;\n",
       "    }\n",
       "\n",
       "    .dataframe thead th {\n",
       "        text-align: right;\n",
       "    }\n",
       "</style>\n",
       "<table border=\"1\" class=\"dataframe\">\n",
       "  <thead>\n",
       "    <tr style=\"text-align: right;\">\n",
       "      <th></th>\n",
       "      <th>op_unique_carrier</th>\n",
       "      <th>arr_delay</th>\n",
       "    </tr>\n",
       "  </thead>\n",
       "  <tbody>\n",
       "    <tr>\n",
       "      <th>0</th>\n",
       "      <td>C5</td>\n",
       "      <td>24.0</td>\n",
       "    </tr>\n",
       "    <tr>\n",
       "      <th>1</th>\n",
       "      <td>KS</td>\n",
       "      <td>21.0</td>\n",
       "    </tr>\n",
       "    <tr>\n",
       "      <th>2</th>\n",
       "      <td>EV</td>\n",
       "      <td>19.0</td>\n",
       "    </tr>\n",
       "    <tr>\n",
       "      <th>3</th>\n",
       "      <td>AX</td>\n",
       "      <td>16.0</td>\n",
       "    </tr>\n",
       "    <tr>\n",
       "      <th>4</th>\n",
       "      <td>B6</td>\n",
       "      <td>12.0</td>\n",
       "    </tr>\n",
       "  </tbody>\n",
       "</table>\n",
       "</div>"
      ],
      "text/plain": [
       "  op_unique_carrier  arr_delay\n",
       "0                C5       24.0\n",
       "1                KS       21.0\n",
       "2                EV       19.0\n",
       "3                AX       16.0\n",
       "4                B6       12.0"
      ]
     },
     "execution_count": 138,
     "metadata": {},
     "output_type": "execute_result"
    }
   ],
   "source": [
    "delayed_op_arr.head()"
   ]
  },
  {
   "cell_type": "code",
   "execution_count": 139,
   "id": "0973f041",
   "metadata": {},
   "outputs": [],
   "source": [
    "delayed_op_arr.columns= ['op_unique_carrier','op_arr_delay']"
   ]
  },
  {
   "cell_type": "code",
   "execution_count": 140,
   "id": "3854d968",
   "metadata": {},
   "outputs": [
    {
     "data": {
      "text/html": [
       "<div>\n",
       "<style scoped>\n",
       "    .dataframe tbody tr th:only-of-type {\n",
       "        vertical-align: middle;\n",
       "    }\n",
       "\n",
       "    .dataframe tbody tr th {\n",
       "        vertical-align: top;\n",
       "    }\n",
       "\n",
       "    .dataframe thead th {\n",
       "        text-align: right;\n",
       "    }\n",
       "</style>\n",
       "<table border=\"1\" class=\"dataframe\">\n",
       "  <thead>\n",
       "    <tr style=\"text-align: right;\">\n",
       "      <th></th>\n",
       "      <th>op_unique_carrier</th>\n",
       "      <th>op_arr_delay</th>\n",
       "    </tr>\n",
       "  </thead>\n",
       "  <tbody>\n",
       "    <tr>\n",
       "      <th>0</th>\n",
       "      <td>C5</td>\n",
       "      <td>24.0</td>\n",
       "    </tr>\n",
       "    <tr>\n",
       "      <th>1</th>\n",
       "      <td>KS</td>\n",
       "      <td>21.0</td>\n",
       "    </tr>\n",
       "    <tr>\n",
       "      <th>2</th>\n",
       "      <td>EV</td>\n",
       "      <td>19.0</td>\n",
       "    </tr>\n",
       "    <tr>\n",
       "      <th>3</th>\n",
       "      <td>AX</td>\n",
       "      <td>16.0</td>\n",
       "    </tr>\n",
       "    <tr>\n",
       "      <th>4</th>\n",
       "      <td>B6</td>\n",
       "      <td>12.0</td>\n",
       "    </tr>\n",
       "  </tbody>\n",
       "</table>\n",
       "</div>"
      ],
      "text/plain": [
       "  op_unique_carrier  op_arr_delay\n",
       "0                C5          24.0\n",
       "1                KS          21.0\n",
       "2                EV          19.0\n",
       "3                AX          16.0\n",
       "4                B6          12.0"
      ]
     },
     "execution_count": 140,
     "metadata": {},
     "output_type": "execute_result"
    }
   ],
   "source": [
    "delayed_op_arr.head()"
   ]
  },
  {
   "cell_type": "markdown",
   "id": "909ddc14",
   "metadata": {},
   "source": [
    "__Relation between 'mkt_carrier_fl_num' and 'op_carrier_fl_num'__"
   ]
  },
  {
   "cell_type": "code",
   "execution_count": 141,
   "id": "c3f7081e",
   "metadata": {},
   "outputs": [
    {
     "data": {
      "text/plain": [
       "mkt_carrier_fl_num    30\n",
       "op_carrier_fl_num     30\n",
       "dtype: int64"
      ]
     },
     "execution_count": 141,
     "metadata": {},
     "output_type": "execute_result"
    }
   ],
   "source": [
    "df_flight[df_flight['mkt_carrier_fl_num'] != df_flight['op_carrier_fl_num']][['mkt_carrier_fl_num', 'op_carrier_fl_num']].count()"
   ]
  },
  {
   "cell_type": "markdown",
   "id": "fd192ce1",
   "metadata": {},
   "source": [
    "- We have only 30 row that has the difference between 'mkt_carrier_fl_num' and 'op_carrier_fl_num'\n",
    "=> we can assume that 'mkt_carrier_fl_num' and 'op_carrier_fl_num' is the same thing\n",
    "=> keep the feature **'mkt_carrier_fl_num'**"
   ]
  },
  {
   "cell_type": "code",
   "execution_count": 142,
   "id": "a5cde7f9",
   "metadata": {},
   "outputs": [],
   "source": [
    "df_flight = df_flight.drop(columns=['op_carrier_fl_num'])"
   ]
  },
  {
   "cell_type": "code",
   "execution_count": 143,
   "id": "4c7c6f22",
   "metadata": {},
   "outputs": [],
   "source": [
    "df_flight_test = df_flight_test.drop(columns=['op_carrier_fl_num'])"
   ]
  },
  {
   "cell_type": "code",
   "execution_count": 144,
   "id": "9b27a8ef",
   "metadata": {},
   "outputs": [
    {
     "data": {
      "text/plain": [
       "(293446, 18)"
      ]
     },
     "execution_count": 144,
     "metadata": {},
     "output_type": "execute_result"
    }
   ],
   "source": [
    "df_flight.shape"
   ]
  },
  {
   "cell_type": "code",
   "execution_count": 145,
   "id": "32b31ff1",
   "metadata": {},
   "outputs": [
    {
     "name": "stdout",
     "output_type": "stream",
     "text": [
      "<class 'pandas.core.frame.DataFrame'>\n",
      "Int64Index: 293446 entries, 0 to 299999\n",
      "Data columns (total 18 columns):\n",
      " #   Column              Non-Null Count   Dtype         \n",
      "---  ------              --------------   -----         \n",
      " 0   fl_date             293446 non-null  datetime64[ns]\n",
      " 1   mkt_unique_carrier  293446 non-null  object        \n",
      " 2   mkt_carrier_fl_num  293446 non-null  int64         \n",
      " 3   op_unique_carrier   293446 non-null  object        \n",
      " 4   tail_num            293446 non-null  object        \n",
      " 5   origin              293446 non-null  object        \n",
      " 6   dest                293446 non-null  object        \n",
      " 7   crs_dep_time        293446 non-null  int64         \n",
      " 8   crs_arr_time        293446 non-null  int64         \n",
      " 9   crs_elapsed_time    293446 non-null  float64       \n",
      " 10  flights             293446 non-null  float64       \n",
      " 11  distance            293446 non-null  float64       \n",
      " 12  arr_delay           293446 non-null  float64       \n",
      " 13  carrier_delay       56793 non-null   float64       \n",
      " 14  weather_delay       56793 non-null   float64       \n",
      " 15  dep_delay           293446 non-null  float64       \n",
      " 16  taxi_out            293446 non-null  float64       \n",
      " 17  taxi_in             293446 non-null  float64       \n",
      "dtypes: datetime64[ns](1), float64(9), int64(3), object(5)\n",
      "memory usage: 42.5+ MB\n"
     ]
    }
   ],
   "source": [
    "df_flight.info()"
   ]
  },
  {
   "cell_type": "code",
   "execution_count": 146,
   "id": "a16efdce",
   "metadata": {},
   "outputs": [
    {
     "data": {
      "text/plain": [
       "array([1.])"
      ]
     },
     "execution_count": 146,
     "metadata": {},
     "output_type": "execute_result"
    }
   ],
   "source": [
    "# Flights has only 1 value = 1\n",
    "df_flight['flights'].unique()"
   ]
  },
  {
   "cell_type": "code",
   "execution_count": 147,
   "id": "79e4a560",
   "metadata": {},
   "outputs": [],
   "source": [
    "# Drop the flights column\n",
    "df_flight = df_flight.drop(columns=['flights'])"
   ]
  },
  {
   "cell_type": "code",
   "execution_count": 148,
   "id": "a570cc8b",
   "metadata": {},
   "outputs": [],
   "source": [
    "df_flight_test = df_flight_test.drop(columns=['flights'])"
   ]
  },
  {
   "cell_type": "code",
   "execution_count": 149,
   "id": "b413b511",
   "metadata": {},
   "outputs": [
    {
     "name": "stdout",
     "output_type": "stream",
     "text": [
      "<class 'pandas.core.frame.DataFrame'>\n",
      "Int64Index: 293446 entries, 0 to 299999\n",
      "Data columns (total 17 columns):\n",
      " #   Column              Non-Null Count   Dtype         \n",
      "---  ------              --------------   -----         \n",
      " 0   fl_date             293446 non-null  datetime64[ns]\n",
      " 1   mkt_unique_carrier  293446 non-null  object        \n",
      " 2   mkt_carrier_fl_num  293446 non-null  int64         \n",
      " 3   op_unique_carrier   293446 non-null  object        \n",
      " 4   tail_num            293446 non-null  object        \n",
      " 5   origin              293446 non-null  object        \n",
      " 6   dest                293446 non-null  object        \n",
      " 7   crs_dep_time        293446 non-null  int64         \n",
      " 8   crs_arr_time        293446 non-null  int64         \n",
      " 9   crs_elapsed_time    293446 non-null  float64       \n",
      " 10  distance            293446 non-null  float64       \n",
      " 11  arr_delay           293446 non-null  float64       \n",
      " 12  carrier_delay       56793 non-null   float64       \n",
      " 13  weather_delay       56793 non-null   float64       \n",
      " 14  dep_delay           293446 non-null  float64       \n",
      " 15  taxi_out            293446 non-null  float64       \n",
      " 16  taxi_in             293446 non-null  float64       \n",
      "dtypes: datetime64[ns](1), float64(8), int64(3), object(5)\n",
      "memory usage: 40.3+ MB\n"
     ]
    }
   ],
   "source": [
    "df_flight.info()"
   ]
  },
  {
   "cell_type": "code",
   "execution_count": 150,
   "id": "47f1dfbd",
   "metadata": {},
   "outputs": [],
   "source": [
    "# We dont use the carrier_delay, weather_delay and dep_delay anymore\n",
    "df_flight = df_flight.drop(columns=['carrier_delay','weather_delay', \n",
    "                                    'dep_delay', 'taxi_out', 'taxi_in'])"
   ]
  },
  {
   "cell_type": "code",
   "execution_count": 151,
   "id": "dee7cd85",
   "metadata": {
    "scrolled": true
   },
   "outputs": [
    {
     "name": "stdout",
     "output_type": "stream",
     "text": [
      "<class 'pandas.core.frame.DataFrame'>\n",
      "Int64Index: 293446 entries, 0 to 299999\n",
      "Data columns (total 12 columns):\n",
      " #   Column              Non-Null Count   Dtype         \n",
      "---  ------              --------------   -----         \n",
      " 0   fl_date             293446 non-null  datetime64[ns]\n",
      " 1   mkt_unique_carrier  293446 non-null  object        \n",
      " 2   mkt_carrier_fl_num  293446 non-null  int64         \n",
      " 3   op_unique_carrier   293446 non-null  object        \n",
      " 4   tail_num            293446 non-null  object        \n",
      " 5   origin              293446 non-null  object        \n",
      " 6   dest                293446 non-null  object        \n",
      " 7   crs_dep_time        293446 non-null  int64         \n",
      " 8   crs_arr_time        293446 non-null  int64         \n",
      " 9   crs_elapsed_time    293446 non-null  float64       \n",
      " 10  distance            293446 non-null  float64       \n",
      " 11  arr_delay           293446 non-null  float64       \n",
      "dtypes: datetime64[ns](1), float64(3), int64(3), object(5)\n",
      "memory usage: 29.1+ MB\n"
     ]
    }
   ],
   "source": [
    "df_flight.info()"
   ]
  },
  {
   "cell_type": "code",
   "execution_count": 152,
   "id": "3a1fd73f",
   "metadata": {
    "scrolled": true
   },
   "outputs": [
    {
     "name": "stdout",
     "output_type": "stream",
     "text": [
      "<class 'pandas.core.frame.DataFrame'>\n",
      "RangeIndex: 150623 entries, 0 to 150622\n",
      "Data columns (total 12 columns):\n",
      " #   Column              Non-Null Count   Dtype         \n",
      "---  ------              --------------   -----         \n",
      " 0   Unnamed: 0          150623 non-null  int64         \n",
      " 1   fl_date             150623 non-null  datetime64[ns]\n",
      " 2   mkt_unique_carrier  150623 non-null  object        \n",
      " 3   mkt_carrier_fl_num  150623 non-null  int64         \n",
      " 4   op_unique_carrier   150623 non-null  object        \n",
      " 5   tail_num            150499 non-null  object        \n",
      " 6   origin              150623 non-null  object        \n",
      " 7   dest                150623 non-null  object        \n",
      " 8   crs_dep_time        150623 non-null  int64         \n",
      " 9   crs_arr_time        150623 non-null  int64         \n",
      " 10  crs_elapsed_time    150623 non-null  int64         \n",
      " 11  distance            150623 non-null  int64         \n",
      "dtypes: datetime64[ns](1), int64(6), object(5)\n",
      "memory usage: 13.8+ MB\n"
     ]
    }
   ],
   "source": [
    "df_flight_test.info()"
   ]
  },
  {
   "cell_type": "code",
   "execution_count": 153,
   "id": "4c3358ef",
   "metadata": {},
   "outputs": [],
   "source": [
    "df_flight_test = df_flight_test.iloc[:,1:]"
   ]
  },
  {
   "cell_type": "code",
   "execution_count": 154,
   "id": "f0957309",
   "metadata": {},
   "outputs": [
    {
     "name": "stdout",
     "output_type": "stream",
     "text": [
      "<class 'pandas.core.frame.DataFrame'>\n",
      "RangeIndex: 150623 entries, 0 to 150622\n",
      "Data columns (total 11 columns):\n",
      " #   Column              Non-Null Count   Dtype         \n",
      "---  ------              --------------   -----         \n",
      " 0   fl_date             150623 non-null  datetime64[ns]\n",
      " 1   mkt_unique_carrier  150623 non-null  object        \n",
      " 2   mkt_carrier_fl_num  150623 non-null  int64         \n",
      " 3   op_unique_carrier   150623 non-null  object        \n",
      " 4   tail_num            150499 non-null  object        \n",
      " 5   origin              150623 non-null  object        \n",
      " 6   dest                150623 non-null  object        \n",
      " 7   crs_dep_time        150623 non-null  int64         \n",
      " 8   crs_arr_time        150623 non-null  int64         \n",
      " 9   crs_elapsed_time    150623 non-null  int64         \n",
      " 10  distance            150623 non-null  int64         \n",
      "dtypes: datetime64[ns](1), int64(5), object(5)\n",
      "memory usage: 12.6+ MB\n"
     ]
    }
   ],
   "source": [
    "df_flight_test.info()"
   ]
  },
  {
   "cell_type": "markdown",
   "id": "30845c9a",
   "metadata": {},
   "source": [
    "### Feature Engineering"
   ]
  },
  {
   "cell_type": "markdown",
   "id": "cf45f4b8",
   "metadata": {},
   "source": [
    "__1. create new features of day of week and month for fl_date__"
   ]
  },
  {
   "cell_type": "code",
   "execution_count": 155,
   "id": "dacb5ba8",
   "metadata": {},
   "outputs": [],
   "source": [
    "# extract the weekday and month from fl_date\n",
    "df_flight['fl_month'] = df_flight['fl_date'].dt.month\n",
    "df_flight['fl_wday'] = df_flight['fl_date'].dt.weekday"
   ]
  },
  {
   "cell_type": "code",
   "execution_count": 156,
   "id": "d270adfa",
   "metadata": {},
   "outputs": [],
   "source": [
    "df_flight_test['fl_month'] = df_flight_test['fl_date'].dt.month\n",
    "df_flight_test['fl_wday'] = df_flight_test['fl_date'].dt.weekday"
   ]
  },
  {
   "cell_type": "code",
   "execution_count": 157,
   "id": "73ca54a4",
   "metadata": {},
   "outputs": [
    {
     "data": {
      "text/html": [
       "<div>\n",
       "<style scoped>\n",
       "    .dataframe tbody tr th:only-of-type {\n",
       "        vertical-align: middle;\n",
       "    }\n",
       "\n",
       "    .dataframe tbody tr th {\n",
       "        vertical-align: top;\n",
       "    }\n",
       "\n",
       "    .dataframe thead th {\n",
       "        text-align: right;\n",
       "    }\n",
       "</style>\n",
       "<table border=\"1\" class=\"dataframe\">\n",
       "  <thead>\n",
       "    <tr style=\"text-align: right;\">\n",
       "      <th></th>\n",
       "      <th>fl_date</th>\n",
       "      <th>mkt_unique_carrier</th>\n",
       "      <th>mkt_carrier_fl_num</th>\n",
       "      <th>op_unique_carrier</th>\n",
       "      <th>tail_num</th>\n",
       "      <th>origin</th>\n",
       "      <th>dest</th>\n",
       "      <th>crs_dep_time</th>\n",
       "      <th>crs_arr_time</th>\n",
       "      <th>crs_elapsed_time</th>\n",
       "      <th>distance</th>\n",
       "      <th>arr_delay</th>\n",
       "      <th>fl_month</th>\n",
       "      <th>fl_wday</th>\n",
       "    </tr>\n",
       "  </thead>\n",
       "  <tbody>\n",
       "    <tr>\n",
       "      <th>0</th>\n",
       "      <td>2019-01-07</td>\n",
       "      <td>DL</td>\n",
       "      <td>2185</td>\n",
       "      <td>DL</td>\n",
       "      <td>N378DA</td>\n",
       "      <td>BOS</td>\n",
       "      <td>MSP</td>\n",
       "      <td>1629</td>\n",
       "      <td>1858</td>\n",
       "      <td>209.0</td>\n",
       "      <td>1124.0</td>\n",
       "      <td>-11.0</td>\n",
       "      <td>1</td>\n",
       "      <td>0</td>\n",
       "    </tr>\n",
       "    <tr>\n",
       "      <th>1</th>\n",
       "      <td>2019-01-27</td>\n",
       "      <td>WN</td>\n",
       "      <td>5073</td>\n",
       "      <td>WN</td>\n",
       "      <td>N8719Q</td>\n",
       "      <td>TPA</td>\n",
       "      <td>PHX</td>\n",
       "      <td>1635</td>\n",
       "      <td>1915</td>\n",
       "      <td>280.0</td>\n",
       "      <td>1788.0</td>\n",
       "      <td>12.0</td>\n",
       "      <td>1</td>\n",
       "      <td>6</td>\n",
       "    </tr>\n",
       "    <tr>\n",
       "      <th>2</th>\n",
       "      <td>2019-01-27</td>\n",
       "      <td>AA</td>\n",
       "      <td>1684</td>\n",
       "      <td>AA</td>\n",
       "      <td>N702UW</td>\n",
       "      <td>PHL</td>\n",
       "      <td>ATL</td>\n",
       "      <td>1235</td>\n",
       "      <td>1453</td>\n",
       "      <td>138.0</td>\n",
       "      <td>666.0</td>\n",
       "      <td>-15.0</td>\n",
       "      <td>1</td>\n",
       "      <td>6</td>\n",
       "    </tr>\n",
       "    <tr>\n",
       "      <th>3</th>\n",
       "      <td>2019-01-28</td>\n",
       "      <td>UA</td>\n",
       "      <td>3592</td>\n",
       "      <td>YX</td>\n",
       "      <td>N642RW</td>\n",
       "      <td>MHT</td>\n",
       "      <td>EWR</td>\n",
       "      <td>1125</td>\n",
       "      <td>1259</td>\n",
       "      <td>94.0</td>\n",
       "      <td>209.0</td>\n",
       "      <td>-17.0</td>\n",
       "      <td>1</td>\n",
       "      <td>0</td>\n",
       "    </tr>\n",
       "    <tr>\n",
       "      <th>4</th>\n",
       "      <td>2019-01-10</td>\n",
       "      <td>DL</td>\n",
       "      <td>1486</td>\n",
       "      <td>DL</td>\n",
       "      <td>N593NW</td>\n",
       "      <td>SLC</td>\n",
       "      <td>MCO</td>\n",
       "      <td>1730</td>\n",
       "      <td>2340</td>\n",
       "      <td>250.0</td>\n",
       "      <td>1931.0</td>\n",
       "      <td>-13.0</td>\n",
       "      <td>1</td>\n",
       "      <td>3</td>\n",
       "    </tr>\n",
       "  </tbody>\n",
       "</table>\n",
       "</div>"
      ],
      "text/plain": [
       "     fl_date mkt_unique_carrier  mkt_carrier_fl_num op_unique_carrier  \\\n",
       "0 2019-01-07                 DL                2185                DL   \n",
       "1 2019-01-27                 WN                5073                WN   \n",
       "2 2019-01-27                 AA                1684                AA   \n",
       "3 2019-01-28                 UA                3592                YX   \n",
       "4 2019-01-10                 DL                1486                DL   \n",
       "\n",
       "  tail_num origin dest  crs_dep_time  crs_arr_time  crs_elapsed_time  \\\n",
       "0   N378DA    BOS  MSP          1629          1858             209.0   \n",
       "1   N8719Q    TPA  PHX          1635          1915             280.0   \n",
       "2   N702UW    PHL  ATL          1235          1453             138.0   \n",
       "3   N642RW    MHT  EWR          1125          1259              94.0   \n",
       "4   N593NW    SLC  MCO          1730          2340             250.0   \n",
       "\n",
       "   distance  arr_delay  fl_month  fl_wday  \n",
       "0    1124.0      -11.0         1        0  \n",
       "1    1788.0       12.0         1        6  \n",
       "2     666.0      -15.0         1        6  \n",
       "3     209.0      -17.0         1        0  \n",
       "4    1931.0      -13.0         1        3  "
      ]
     },
     "execution_count": 157,
     "metadata": {},
     "output_type": "execute_result"
    }
   ],
   "source": [
    "df_flight.head()"
   ]
  },
  {
   "cell_type": "markdown",
   "id": "b7111fd6",
   "metadata": {},
   "source": [
    "__2. mkt_unique_carrier >> feature: mkt_carrier_delay, mkt_carrier_dep_delay, mkt_arr_delay (Ordinal encoder)__"
   ]
  },
  {
   "cell_type": "code",
   "execution_count": 158,
   "id": "0ad7b305",
   "metadata": {},
   "outputs": [],
   "source": [
    "#carrier_delay, carrier with high incidence of carrier delay\n",
    "df_flight = df_flight.merge(delayed_mkt_carrier,how='left')"
   ]
  },
  {
   "cell_type": "code",
   "execution_count": 159,
   "id": "918f3622",
   "metadata": {},
   "outputs": [],
   "source": [
    "df_flight_test = df_flight_test.merge(delayed_mkt_carrier,how='left')"
   ]
  },
  {
   "cell_type": "code",
   "execution_count": 160,
   "id": "64291eba",
   "metadata": {},
   "outputs": [
    {
     "data": {
      "text/html": [
       "<div>\n",
       "<style scoped>\n",
       "    .dataframe tbody tr th:only-of-type {\n",
       "        vertical-align: middle;\n",
       "    }\n",
       "\n",
       "    .dataframe tbody tr th {\n",
       "        vertical-align: top;\n",
       "    }\n",
       "\n",
       "    .dataframe thead th {\n",
       "        text-align: right;\n",
       "    }\n",
       "</style>\n",
       "<table border=\"1\" class=\"dataframe\">\n",
       "  <thead>\n",
       "    <tr style=\"text-align: right;\">\n",
       "      <th></th>\n",
       "      <th>fl_date</th>\n",
       "      <th>mkt_unique_carrier</th>\n",
       "      <th>mkt_carrier_fl_num</th>\n",
       "      <th>op_unique_carrier</th>\n",
       "      <th>tail_num</th>\n",
       "      <th>origin</th>\n",
       "      <th>dest</th>\n",
       "      <th>crs_dep_time</th>\n",
       "      <th>crs_arr_time</th>\n",
       "      <th>crs_elapsed_time</th>\n",
       "      <th>distance</th>\n",
       "      <th>arr_delay</th>\n",
       "      <th>fl_month</th>\n",
       "      <th>fl_wday</th>\n",
       "      <th>mkt_carrier_delay</th>\n",
       "    </tr>\n",
       "  </thead>\n",
       "  <tbody>\n",
       "    <tr>\n",
       "      <th>0</th>\n",
       "      <td>2019-01-07</td>\n",
       "      <td>DL</td>\n",
       "      <td>2185</td>\n",
       "      <td>DL</td>\n",
       "      <td>N378DA</td>\n",
       "      <td>BOS</td>\n",
       "      <td>MSP</td>\n",
       "      <td>1629</td>\n",
       "      <td>1858</td>\n",
       "      <td>209.0</td>\n",
       "      <td>1124.0</td>\n",
       "      <td>-11.0</td>\n",
       "      <td>1</td>\n",
       "      <td>0</td>\n",
       "      <td>25.0</td>\n",
       "    </tr>\n",
       "    <tr>\n",
       "      <th>1</th>\n",
       "      <td>2019-01-27</td>\n",
       "      <td>WN</td>\n",
       "      <td>5073</td>\n",
       "      <td>WN</td>\n",
       "      <td>N8719Q</td>\n",
       "      <td>TPA</td>\n",
       "      <td>PHX</td>\n",
       "      <td>1635</td>\n",
       "      <td>1915</td>\n",
       "      <td>280.0</td>\n",
       "      <td>1788.0</td>\n",
       "      <td>12.0</td>\n",
       "      <td>1</td>\n",
       "      <td>6</td>\n",
       "      <td>17.0</td>\n",
       "    </tr>\n",
       "    <tr>\n",
       "      <th>2</th>\n",
       "      <td>2019-01-27</td>\n",
       "      <td>AA</td>\n",
       "      <td>1684</td>\n",
       "      <td>AA</td>\n",
       "      <td>N702UW</td>\n",
       "      <td>PHL</td>\n",
       "      <td>ATL</td>\n",
       "      <td>1235</td>\n",
       "      <td>1453</td>\n",
       "      <td>138.0</td>\n",
       "      <td>666.0</td>\n",
       "      <td>-15.0</td>\n",
       "      <td>1</td>\n",
       "      <td>6</td>\n",
       "      <td>21.0</td>\n",
       "    </tr>\n",
       "    <tr>\n",
       "      <th>3</th>\n",
       "      <td>2019-01-28</td>\n",
       "      <td>UA</td>\n",
       "      <td>3592</td>\n",
       "      <td>YX</td>\n",
       "      <td>N642RW</td>\n",
       "      <td>MHT</td>\n",
       "      <td>EWR</td>\n",
       "      <td>1125</td>\n",
       "      <td>1259</td>\n",
       "      <td>94.0</td>\n",
       "      <td>209.0</td>\n",
       "      <td>-17.0</td>\n",
       "      <td>1</td>\n",
       "      <td>0</td>\n",
       "      <td>22.0</td>\n",
       "    </tr>\n",
       "    <tr>\n",
       "      <th>4</th>\n",
       "      <td>2019-01-10</td>\n",
       "      <td>DL</td>\n",
       "      <td>1486</td>\n",
       "      <td>DL</td>\n",
       "      <td>N593NW</td>\n",
       "      <td>SLC</td>\n",
       "      <td>MCO</td>\n",
       "      <td>1730</td>\n",
       "      <td>2340</td>\n",
       "      <td>250.0</td>\n",
       "      <td>1931.0</td>\n",
       "      <td>-13.0</td>\n",
       "      <td>1</td>\n",
       "      <td>3</td>\n",
       "      <td>25.0</td>\n",
       "    </tr>\n",
       "  </tbody>\n",
       "</table>\n",
       "</div>"
      ],
      "text/plain": [
       "     fl_date mkt_unique_carrier  mkt_carrier_fl_num op_unique_carrier  \\\n",
       "0 2019-01-07                 DL                2185                DL   \n",
       "1 2019-01-27                 WN                5073                WN   \n",
       "2 2019-01-27                 AA                1684                AA   \n",
       "3 2019-01-28                 UA                3592                YX   \n",
       "4 2019-01-10                 DL                1486                DL   \n",
       "\n",
       "  tail_num origin dest  crs_dep_time  crs_arr_time  crs_elapsed_time  \\\n",
       "0   N378DA    BOS  MSP          1629          1858             209.0   \n",
       "1   N8719Q    TPA  PHX          1635          1915             280.0   \n",
       "2   N702UW    PHL  ATL          1235          1453             138.0   \n",
       "3   N642RW    MHT  EWR          1125          1259              94.0   \n",
       "4   N593NW    SLC  MCO          1730          2340             250.0   \n",
       "\n",
       "   distance  arr_delay  fl_month  fl_wday  mkt_carrier_delay  \n",
       "0    1124.0      -11.0         1        0               25.0  \n",
       "1    1788.0       12.0         1        6               17.0  \n",
       "2     666.0      -15.0         1        6               21.0  \n",
       "3     209.0      -17.0         1        0               22.0  \n",
       "4    1931.0      -13.0         1        3               25.0  "
      ]
     },
     "execution_count": 160,
     "metadata": {},
     "output_type": "execute_result"
    }
   ],
   "source": [
    "df_flight.head()"
   ]
  },
  {
   "cell_type": "code",
   "execution_count": 161,
   "id": "28474d6b",
   "metadata": {},
   "outputs": [],
   "source": [
    "#dep_delay, carrier with high incidence of dep_delay\n",
    "df_flight= df_flight.merge(departure_delay_mkt_carrier,how='left')"
   ]
  },
  {
   "cell_type": "code",
   "execution_count": 162,
   "id": "85ee9175",
   "metadata": {},
   "outputs": [],
   "source": [
    "df_flight_test= df_flight_test.merge(departure_delay_mkt_carrier,how='left')"
   ]
  },
  {
   "cell_type": "code",
   "execution_count": 163,
   "id": "e7416288",
   "metadata": {
    "scrolled": true
   },
   "outputs": [
    {
     "data": {
      "text/html": [
       "<div>\n",
       "<style scoped>\n",
       "    .dataframe tbody tr th:only-of-type {\n",
       "        vertical-align: middle;\n",
       "    }\n",
       "\n",
       "    .dataframe tbody tr th {\n",
       "        vertical-align: top;\n",
       "    }\n",
       "\n",
       "    .dataframe thead th {\n",
       "        text-align: right;\n",
       "    }\n",
       "</style>\n",
       "<table border=\"1\" class=\"dataframe\">\n",
       "  <thead>\n",
       "    <tr style=\"text-align: right;\">\n",
       "      <th></th>\n",
       "      <th>fl_date</th>\n",
       "      <th>mkt_unique_carrier</th>\n",
       "      <th>mkt_carrier_fl_num</th>\n",
       "      <th>op_unique_carrier</th>\n",
       "      <th>tail_num</th>\n",
       "      <th>origin</th>\n",
       "      <th>dest</th>\n",
       "      <th>crs_dep_time</th>\n",
       "      <th>crs_arr_time</th>\n",
       "      <th>crs_elapsed_time</th>\n",
       "      <th>distance</th>\n",
       "      <th>arr_delay</th>\n",
       "      <th>fl_month</th>\n",
       "      <th>fl_wday</th>\n",
       "      <th>mkt_carrier_delay</th>\n",
       "      <th>mkt_carrier_dep_delay</th>\n",
       "    </tr>\n",
       "  </thead>\n",
       "  <tbody>\n",
       "    <tr>\n",
       "      <th>0</th>\n",
       "      <td>2019-01-07</td>\n",
       "      <td>DL</td>\n",
       "      <td>2185</td>\n",
       "      <td>DL</td>\n",
       "      <td>N378DA</td>\n",
       "      <td>BOS</td>\n",
       "      <td>MSP</td>\n",
       "      <td>1629</td>\n",
       "      <td>1858</td>\n",
       "      <td>209.0</td>\n",
       "      <td>1124.0</td>\n",
       "      <td>-11.0</td>\n",
       "      <td>1</td>\n",
       "      <td>0</td>\n",
       "      <td>25.0</td>\n",
       "      <td>10.0</td>\n",
       "    </tr>\n",
       "    <tr>\n",
       "      <th>1</th>\n",
       "      <td>2019-01-27</td>\n",
       "      <td>WN</td>\n",
       "      <td>5073</td>\n",
       "      <td>WN</td>\n",
       "      <td>N8719Q</td>\n",
       "      <td>TPA</td>\n",
       "      <td>PHX</td>\n",
       "      <td>1635</td>\n",
       "      <td>1915</td>\n",
       "      <td>280.0</td>\n",
       "      <td>1788.0</td>\n",
       "      <td>12.0</td>\n",
       "      <td>1</td>\n",
       "      <td>6</td>\n",
       "      <td>17.0</td>\n",
       "      <td>10.0</td>\n",
       "    </tr>\n",
       "    <tr>\n",
       "      <th>2</th>\n",
       "      <td>2019-01-27</td>\n",
       "      <td>AA</td>\n",
       "      <td>1684</td>\n",
       "      <td>AA</td>\n",
       "      <td>N702UW</td>\n",
       "      <td>PHL</td>\n",
       "      <td>ATL</td>\n",
       "      <td>1235</td>\n",
       "      <td>1453</td>\n",
       "      <td>138.0</td>\n",
       "      <td>666.0</td>\n",
       "      <td>-15.0</td>\n",
       "      <td>1</td>\n",
       "      <td>6</td>\n",
       "      <td>21.0</td>\n",
       "      <td>10.0</td>\n",
       "    </tr>\n",
       "    <tr>\n",
       "      <th>3</th>\n",
       "      <td>2019-01-28</td>\n",
       "      <td>UA</td>\n",
       "      <td>3592</td>\n",
       "      <td>YX</td>\n",
       "      <td>N642RW</td>\n",
       "      <td>MHT</td>\n",
       "      <td>EWR</td>\n",
       "      <td>1125</td>\n",
       "      <td>1259</td>\n",
       "      <td>94.0</td>\n",
       "      <td>209.0</td>\n",
       "      <td>-17.0</td>\n",
       "      <td>1</td>\n",
       "      <td>0</td>\n",
       "      <td>22.0</td>\n",
       "      <td>15.0</td>\n",
       "    </tr>\n",
       "    <tr>\n",
       "      <th>4</th>\n",
       "      <td>2019-01-10</td>\n",
       "      <td>DL</td>\n",
       "      <td>1486</td>\n",
       "      <td>DL</td>\n",
       "      <td>N593NW</td>\n",
       "      <td>SLC</td>\n",
       "      <td>MCO</td>\n",
       "      <td>1730</td>\n",
       "      <td>2340</td>\n",
       "      <td>250.0</td>\n",
       "      <td>1931.0</td>\n",
       "      <td>-13.0</td>\n",
       "      <td>1</td>\n",
       "      <td>3</td>\n",
       "      <td>25.0</td>\n",
       "      <td>10.0</td>\n",
       "    </tr>\n",
       "  </tbody>\n",
       "</table>\n",
       "</div>"
      ],
      "text/plain": [
       "     fl_date mkt_unique_carrier  mkt_carrier_fl_num op_unique_carrier  \\\n",
       "0 2019-01-07                 DL                2185                DL   \n",
       "1 2019-01-27                 WN                5073                WN   \n",
       "2 2019-01-27                 AA                1684                AA   \n",
       "3 2019-01-28                 UA                3592                YX   \n",
       "4 2019-01-10                 DL                1486                DL   \n",
       "\n",
       "  tail_num origin dest  crs_dep_time  crs_arr_time  crs_elapsed_time  \\\n",
       "0   N378DA    BOS  MSP          1629          1858             209.0   \n",
       "1   N8719Q    TPA  PHX          1635          1915             280.0   \n",
       "2   N702UW    PHL  ATL          1235          1453             138.0   \n",
       "3   N642RW    MHT  EWR          1125          1259              94.0   \n",
       "4   N593NW    SLC  MCO          1730          2340             250.0   \n",
       "\n",
       "   distance  arr_delay  fl_month  fl_wday  mkt_carrier_delay  \\\n",
       "0    1124.0      -11.0         1        0               25.0   \n",
       "1    1788.0       12.0         1        6               17.0   \n",
       "2     666.0      -15.0         1        6               21.0   \n",
       "3     209.0      -17.0         1        0               22.0   \n",
       "4    1931.0      -13.0         1        3               25.0   \n",
       "\n",
       "   mkt_carrier_dep_delay  \n",
       "0                   10.0  \n",
       "1                   10.0  \n",
       "2                   10.0  \n",
       "3                   15.0  \n",
       "4                   10.0  "
      ]
     },
     "execution_count": 163,
     "metadata": {},
     "output_type": "execute_result"
    }
   ],
   "source": [
    "df_flight.head()"
   ]
  },
  {
   "cell_type": "code",
   "execution_count": 164,
   "id": "4f747300",
   "metadata": {},
   "outputs": [],
   "source": [
    "df_flight = df_flight.merge(delayed_mkt_arr,how='left')"
   ]
  },
  {
   "cell_type": "code",
   "execution_count": 165,
   "id": "5daa769e",
   "metadata": {},
   "outputs": [],
   "source": [
    "df_flight_test = df_flight_test.merge(delayed_mkt_arr,how='left')"
   ]
  },
  {
   "cell_type": "code",
   "execution_count": 166,
   "id": "d5c8b45a",
   "metadata": {},
   "outputs": [
    {
     "data": {
      "text/plain": [
       "mkt_carrier_delay        0\n",
       "mkt_carrier_dep_delay    0\n",
       "mkt_arr_delay            0\n",
       "dtype: int64"
      ]
     },
     "execution_count": 166,
     "metadata": {},
     "output_type": "execute_result"
    }
   ],
   "source": [
    "df_flight[['mkt_carrier_delay','mkt_carrier_dep_delay', 'mkt_arr_delay']].isna().sum()"
   ]
  },
  {
   "cell_type": "markdown",
   "id": "0bad0dce",
   "metadata": {},
   "source": [
    "__4. op_unique_carrier >> feature: op_carrier_delay, op_carrier_dep_delay (Ordinal encoder)__"
   ]
  },
  {
   "cell_type": "code",
   "execution_count": 167,
   "id": "eb068c30",
   "metadata": {},
   "outputs": [],
   "source": [
    "#op_carrier_delay, op_carrier with high incidence of carrier delay\n",
    "df_flight = df_flight.merge(delayed_op_carrier,how='left')"
   ]
  },
  {
   "cell_type": "code",
   "execution_count": 168,
   "id": "0a8dcf31",
   "metadata": {},
   "outputs": [],
   "source": [
    "df_flight_test = df_flight_test.merge(delayed_op_carrier,how='left')"
   ]
  },
  {
   "cell_type": "code",
   "execution_count": 169,
   "id": "600b5f35",
   "metadata": {},
   "outputs": [
    {
     "data": {
      "text/html": [
       "<div>\n",
       "<style scoped>\n",
       "    .dataframe tbody tr th:only-of-type {\n",
       "        vertical-align: middle;\n",
       "    }\n",
       "\n",
       "    .dataframe tbody tr th {\n",
       "        vertical-align: top;\n",
       "    }\n",
       "\n",
       "    .dataframe thead th {\n",
       "        text-align: right;\n",
       "    }\n",
       "</style>\n",
       "<table border=\"1\" class=\"dataframe\">\n",
       "  <thead>\n",
       "    <tr style=\"text-align: right;\">\n",
       "      <th></th>\n",
       "      <th>fl_date</th>\n",
       "      <th>mkt_unique_carrier</th>\n",
       "      <th>mkt_carrier_fl_num</th>\n",
       "      <th>op_unique_carrier</th>\n",
       "      <th>tail_num</th>\n",
       "      <th>origin</th>\n",
       "      <th>dest</th>\n",
       "      <th>crs_dep_time</th>\n",
       "      <th>crs_arr_time</th>\n",
       "      <th>crs_elapsed_time</th>\n",
       "      <th>distance</th>\n",
       "      <th>arr_delay</th>\n",
       "      <th>fl_month</th>\n",
       "      <th>fl_wday</th>\n",
       "      <th>mkt_carrier_delay</th>\n",
       "      <th>mkt_carrier_dep_delay</th>\n",
       "      <th>mkt_arr_delay</th>\n",
       "      <th>op_carrier_delay</th>\n",
       "    </tr>\n",
       "  </thead>\n",
       "  <tbody>\n",
       "    <tr>\n",
       "      <th>0</th>\n",
       "      <td>2019-01-07</td>\n",
       "      <td>DL</td>\n",
       "      <td>2185</td>\n",
       "      <td>DL</td>\n",
       "      <td>N378DA</td>\n",
       "      <td>BOS</td>\n",
       "      <td>MSP</td>\n",
       "      <td>1629</td>\n",
       "      <td>1858</td>\n",
       "      <td>209.0</td>\n",
       "      <td>1124.0</td>\n",
       "      <td>-11.0</td>\n",
       "      <td>1</td>\n",
       "      <td>0</td>\n",
       "      <td>25.0</td>\n",
       "      <td>10.0</td>\n",
       "      <td>3.0</td>\n",
       "      <td>24.0</td>\n",
       "    </tr>\n",
       "    <tr>\n",
       "      <th>1</th>\n",
       "      <td>2019-01-27</td>\n",
       "      <td>WN</td>\n",
       "      <td>5073</td>\n",
       "      <td>WN</td>\n",
       "      <td>N8719Q</td>\n",
       "      <td>TPA</td>\n",
       "      <td>PHX</td>\n",
       "      <td>1635</td>\n",
       "      <td>1915</td>\n",
       "      <td>280.0</td>\n",
       "      <td>1788.0</td>\n",
       "      <td>12.0</td>\n",
       "      <td>1</td>\n",
       "      <td>6</td>\n",
       "      <td>17.0</td>\n",
       "      <td>10.0</td>\n",
       "      <td>2.0</td>\n",
       "      <td>17.0</td>\n",
       "    </tr>\n",
       "    <tr>\n",
       "      <th>2</th>\n",
       "      <td>2019-01-27</td>\n",
       "      <td>AA</td>\n",
       "      <td>1684</td>\n",
       "      <td>AA</td>\n",
       "      <td>N702UW</td>\n",
       "      <td>PHL</td>\n",
       "      <td>ATL</td>\n",
       "      <td>1235</td>\n",
       "      <td>1453</td>\n",
       "      <td>138.0</td>\n",
       "      <td>666.0</td>\n",
       "      <td>-15.0</td>\n",
       "      <td>1</td>\n",
       "      <td>6</td>\n",
       "      <td>21.0</td>\n",
       "      <td>10.0</td>\n",
       "      <td>6.0</td>\n",
       "      <td>24.0</td>\n",
       "    </tr>\n",
       "    <tr>\n",
       "      <th>3</th>\n",
       "      <td>2019-01-28</td>\n",
       "      <td>UA</td>\n",
       "      <td>3592</td>\n",
       "      <td>YX</td>\n",
       "      <td>N642RW</td>\n",
       "      <td>MHT</td>\n",
       "      <td>EWR</td>\n",
       "      <td>1125</td>\n",
       "      <td>1259</td>\n",
       "      <td>94.0</td>\n",
       "      <td>209.0</td>\n",
       "      <td>-17.0</td>\n",
       "      <td>1</td>\n",
       "      <td>0</td>\n",
       "      <td>22.0</td>\n",
       "      <td>15.0</td>\n",
       "      <td>11.0</td>\n",
       "      <td>14.0</td>\n",
       "    </tr>\n",
       "    <tr>\n",
       "      <th>4</th>\n",
       "      <td>2019-01-10</td>\n",
       "      <td>DL</td>\n",
       "      <td>1486</td>\n",
       "      <td>DL</td>\n",
       "      <td>N593NW</td>\n",
       "      <td>SLC</td>\n",
       "      <td>MCO</td>\n",
       "      <td>1730</td>\n",
       "      <td>2340</td>\n",
       "      <td>250.0</td>\n",
       "      <td>1931.0</td>\n",
       "      <td>-13.0</td>\n",
       "      <td>1</td>\n",
       "      <td>3</td>\n",
       "      <td>25.0</td>\n",
       "      <td>10.0</td>\n",
       "      <td>3.0</td>\n",
       "      <td>24.0</td>\n",
       "    </tr>\n",
       "  </tbody>\n",
       "</table>\n",
       "</div>"
      ],
      "text/plain": [
       "     fl_date mkt_unique_carrier  mkt_carrier_fl_num op_unique_carrier  \\\n",
       "0 2019-01-07                 DL                2185                DL   \n",
       "1 2019-01-27                 WN                5073                WN   \n",
       "2 2019-01-27                 AA                1684                AA   \n",
       "3 2019-01-28                 UA                3592                YX   \n",
       "4 2019-01-10                 DL                1486                DL   \n",
       "\n",
       "  tail_num origin dest  crs_dep_time  crs_arr_time  crs_elapsed_time  \\\n",
       "0   N378DA    BOS  MSP          1629          1858             209.0   \n",
       "1   N8719Q    TPA  PHX          1635          1915             280.0   \n",
       "2   N702UW    PHL  ATL          1235          1453             138.0   \n",
       "3   N642RW    MHT  EWR          1125          1259              94.0   \n",
       "4   N593NW    SLC  MCO          1730          2340             250.0   \n",
       "\n",
       "   distance  arr_delay  fl_month  fl_wday  mkt_carrier_delay  \\\n",
       "0    1124.0      -11.0         1        0               25.0   \n",
       "1    1788.0       12.0         1        6               17.0   \n",
       "2     666.0      -15.0         1        6               21.0   \n",
       "3     209.0      -17.0         1        0               22.0   \n",
       "4    1931.0      -13.0         1        3               25.0   \n",
       "\n",
       "   mkt_carrier_dep_delay  mkt_arr_delay  op_carrier_delay  \n",
       "0                   10.0            3.0              24.0  \n",
       "1                   10.0            2.0              17.0  \n",
       "2                   10.0            6.0              24.0  \n",
       "3                   15.0           11.0              14.0  \n",
       "4                   10.0            3.0              24.0  "
      ]
     },
     "execution_count": 169,
     "metadata": {},
     "output_type": "execute_result"
    }
   ],
   "source": [
    "df_flight.head()"
   ]
  },
  {
   "cell_type": "code",
   "execution_count": 170,
   "id": "f4c93fbc",
   "metadata": {},
   "outputs": [],
   "source": [
    "#op_carrier_delay, op_carrier with high incidence of carrier delay\n",
    "df_flight = df_flight.merge(delayed_op_carrier,how='left')"
   ]
  },
  {
   "cell_type": "code",
   "execution_count": 171,
   "id": "7e9a7dab",
   "metadata": {},
   "outputs": [],
   "source": [
    "df_flight_test = df_flight_test.merge(delayed_op_carrier,how='left')"
   ]
  },
  {
   "cell_type": "code",
   "execution_count": 172,
   "id": "66c7e7c8",
   "metadata": {},
   "outputs": [
    {
     "data": {
      "text/html": [
       "<div>\n",
       "<style scoped>\n",
       "    .dataframe tbody tr th:only-of-type {\n",
       "        vertical-align: middle;\n",
       "    }\n",
       "\n",
       "    .dataframe tbody tr th {\n",
       "        vertical-align: top;\n",
       "    }\n",
       "\n",
       "    .dataframe thead th {\n",
       "        text-align: right;\n",
       "    }\n",
       "</style>\n",
       "<table border=\"1\" class=\"dataframe\">\n",
       "  <thead>\n",
       "    <tr style=\"text-align: right;\">\n",
       "      <th></th>\n",
       "      <th>fl_date</th>\n",
       "      <th>mkt_unique_carrier</th>\n",
       "      <th>mkt_carrier_fl_num</th>\n",
       "      <th>op_unique_carrier</th>\n",
       "      <th>tail_num</th>\n",
       "      <th>origin</th>\n",
       "      <th>dest</th>\n",
       "      <th>crs_dep_time</th>\n",
       "      <th>crs_arr_time</th>\n",
       "      <th>crs_elapsed_time</th>\n",
       "      <th>distance</th>\n",
       "      <th>arr_delay</th>\n",
       "      <th>fl_month</th>\n",
       "      <th>fl_wday</th>\n",
       "      <th>mkt_carrier_delay</th>\n",
       "      <th>mkt_carrier_dep_delay</th>\n",
       "      <th>mkt_arr_delay</th>\n",
       "      <th>op_carrier_delay</th>\n",
       "    </tr>\n",
       "  </thead>\n",
       "  <tbody>\n",
       "    <tr>\n",
       "      <th>0</th>\n",
       "      <td>2019-01-07</td>\n",
       "      <td>DL</td>\n",
       "      <td>2185</td>\n",
       "      <td>DL</td>\n",
       "      <td>N378DA</td>\n",
       "      <td>BOS</td>\n",
       "      <td>MSP</td>\n",
       "      <td>1629</td>\n",
       "      <td>1858</td>\n",
       "      <td>209.0</td>\n",
       "      <td>1124.0</td>\n",
       "      <td>-11.0</td>\n",
       "      <td>1</td>\n",
       "      <td>0</td>\n",
       "      <td>25.0</td>\n",
       "      <td>10.0</td>\n",
       "      <td>3.0</td>\n",
       "      <td>24.0</td>\n",
       "    </tr>\n",
       "    <tr>\n",
       "      <th>1</th>\n",
       "      <td>2019-01-27</td>\n",
       "      <td>WN</td>\n",
       "      <td>5073</td>\n",
       "      <td>WN</td>\n",
       "      <td>N8719Q</td>\n",
       "      <td>TPA</td>\n",
       "      <td>PHX</td>\n",
       "      <td>1635</td>\n",
       "      <td>1915</td>\n",
       "      <td>280.0</td>\n",
       "      <td>1788.0</td>\n",
       "      <td>12.0</td>\n",
       "      <td>1</td>\n",
       "      <td>6</td>\n",
       "      <td>17.0</td>\n",
       "      <td>10.0</td>\n",
       "      <td>2.0</td>\n",
       "      <td>17.0</td>\n",
       "    </tr>\n",
       "    <tr>\n",
       "      <th>2</th>\n",
       "      <td>2019-01-27</td>\n",
       "      <td>AA</td>\n",
       "      <td>1684</td>\n",
       "      <td>AA</td>\n",
       "      <td>N702UW</td>\n",
       "      <td>PHL</td>\n",
       "      <td>ATL</td>\n",
       "      <td>1235</td>\n",
       "      <td>1453</td>\n",
       "      <td>138.0</td>\n",
       "      <td>666.0</td>\n",
       "      <td>-15.0</td>\n",
       "      <td>1</td>\n",
       "      <td>6</td>\n",
       "      <td>21.0</td>\n",
       "      <td>10.0</td>\n",
       "      <td>6.0</td>\n",
       "      <td>24.0</td>\n",
       "    </tr>\n",
       "    <tr>\n",
       "      <th>3</th>\n",
       "      <td>2019-01-28</td>\n",
       "      <td>UA</td>\n",
       "      <td>3592</td>\n",
       "      <td>YX</td>\n",
       "      <td>N642RW</td>\n",
       "      <td>MHT</td>\n",
       "      <td>EWR</td>\n",
       "      <td>1125</td>\n",
       "      <td>1259</td>\n",
       "      <td>94.0</td>\n",
       "      <td>209.0</td>\n",
       "      <td>-17.0</td>\n",
       "      <td>1</td>\n",
       "      <td>0</td>\n",
       "      <td>22.0</td>\n",
       "      <td>15.0</td>\n",
       "      <td>11.0</td>\n",
       "      <td>14.0</td>\n",
       "    </tr>\n",
       "    <tr>\n",
       "      <th>4</th>\n",
       "      <td>2019-01-10</td>\n",
       "      <td>DL</td>\n",
       "      <td>1486</td>\n",
       "      <td>DL</td>\n",
       "      <td>N593NW</td>\n",
       "      <td>SLC</td>\n",
       "      <td>MCO</td>\n",
       "      <td>1730</td>\n",
       "      <td>2340</td>\n",
       "      <td>250.0</td>\n",
       "      <td>1931.0</td>\n",
       "      <td>-13.0</td>\n",
       "      <td>1</td>\n",
       "      <td>3</td>\n",
       "      <td>25.0</td>\n",
       "      <td>10.0</td>\n",
       "      <td>3.0</td>\n",
       "      <td>24.0</td>\n",
       "    </tr>\n",
       "  </tbody>\n",
       "</table>\n",
       "</div>"
      ],
      "text/plain": [
       "     fl_date mkt_unique_carrier  mkt_carrier_fl_num op_unique_carrier  \\\n",
       "0 2019-01-07                 DL                2185                DL   \n",
       "1 2019-01-27                 WN                5073                WN   \n",
       "2 2019-01-27                 AA                1684                AA   \n",
       "3 2019-01-28                 UA                3592                YX   \n",
       "4 2019-01-10                 DL                1486                DL   \n",
       "\n",
       "  tail_num origin dest  crs_dep_time  crs_arr_time  crs_elapsed_time  \\\n",
       "0   N378DA    BOS  MSP          1629          1858             209.0   \n",
       "1   N8719Q    TPA  PHX          1635          1915             280.0   \n",
       "2   N702UW    PHL  ATL          1235          1453             138.0   \n",
       "3   N642RW    MHT  EWR          1125          1259              94.0   \n",
       "4   N593NW    SLC  MCO          1730          2340             250.0   \n",
       "\n",
       "   distance  arr_delay  fl_month  fl_wday  mkt_carrier_delay  \\\n",
       "0    1124.0      -11.0         1        0               25.0   \n",
       "1    1788.0       12.0         1        6               17.0   \n",
       "2     666.0      -15.0         1        6               21.0   \n",
       "3     209.0      -17.0         1        0               22.0   \n",
       "4    1931.0      -13.0         1        3               25.0   \n",
       "\n",
       "   mkt_carrier_dep_delay  mkt_arr_delay  op_carrier_delay  \n",
       "0                   10.0            3.0              24.0  \n",
       "1                   10.0            2.0              17.0  \n",
       "2                   10.0            6.0              24.0  \n",
       "3                   15.0           11.0              14.0  \n",
       "4                   10.0            3.0              24.0  "
      ]
     },
     "execution_count": 172,
     "metadata": {},
     "output_type": "execute_result"
    }
   ],
   "source": [
    "df_flight.head()"
   ]
  },
  {
   "cell_type": "code",
   "execution_count": 173,
   "id": "be44b763",
   "metadata": {},
   "outputs": [],
   "source": [
    "#op_carrier_delay, op_carrier with high incidence of departure delay\n",
    "df_flight = df_flight.merge(departure_delay_op_carrier,how='left')"
   ]
  },
  {
   "cell_type": "code",
   "execution_count": 174,
   "id": "13bce972",
   "metadata": {},
   "outputs": [],
   "source": [
    "df_flight_test = df_flight_test.merge(departure_delay_op_carrier,how='left')"
   ]
  },
  {
   "cell_type": "code",
   "execution_count": 175,
   "id": "5037b66f",
   "metadata": {},
   "outputs": [
    {
     "data": {
      "text/html": [
       "<div>\n",
       "<style scoped>\n",
       "    .dataframe tbody tr th:only-of-type {\n",
       "        vertical-align: middle;\n",
       "    }\n",
       "\n",
       "    .dataframe tbody tr th {\n",
       "        vertical-align: top;\n",
       "    }\n",
       "\n",
       "    .dataframe thead th {\n",
       "        text-align: right;\n",
       "    }\n",
       "</style>\n",
       "<table border=\"1\" class=\"dataframe\">\n",
       "  <thead>\n",
       "    <tr style=\"text-align: right;\">\n",
       "      <th></th>\n",
       "      <th>fl_date</th>\n",
       "      <th>mkt_unique_carrier</th>\n",
       "      <th>mkt_carrier_fl_num</th>\n",
       "      <th>op_unique_carrier</th>\n",
       "      <th>tail_num</th>\n",
       "      <th>origin</th>\n",
       "      <th>dest</th>\n",
       "      <th>crs_dep_time</th>\n",
       "      <th>crs_arr_time</th>\n",
       "      <th>crs_elapsed_time</th>\n",
       "      <th>distance</th>\n",
       "      <th>arr_delay</th>\n",
       "      <th>fl_month</th>\n",
       "      <th>fl_wday</th>\n",
       "      <th>mkt_carrier_delay</th>\n",
       "      <th>mkt_carrier_dep_delay</th>\n",
       "      <th>mkt_arr_delay</th>\n",
       "      <th>op_carrier_delay</th>\n",
       "      <th>op_carrier_dep_delay</th>\n",
       "    </tr>\n",
       "  </thead>\n",
       "  <tbody>\n",
       "    <tr>\n",
       "      <th>0</th>\n",
       "      <td>2019-01-07</td>\n",
       "      <td>DL</td>\n",
       "      <td>2185</td>\n",
       "      <td>DL</td>\n",
       "      <td>N378DA</td>\n",
       "      <td>BOS</td>\n",
       "      <td>MSP</td>\n",
       "      <td>1629</td>\n",
       "      <td>1858</td>\n",
       "      <td>209.0</td>\n",
       "      <td>1124.0</td>\n",
       "      <td>-11.0</td>\n",
       "      <td>1</td>\n",
       "      <td>0</td>\n",
       "      <td>25.0</td>\n",
       "      <td>10.0</td>\n",
       "      <td>3.0</td>\n",
       "      <td>24.0</td>\n",
       "      <td>8.0</td>\n",
       "    </tr>\n",
       "    <tr>\n",
       "      <th>1</th>\n",
       "      <td>2019-01-27</td>\n",
       "      <td>WN</td>\n",
       "      <td>5073</td>\n",
       "      <td>WN</td>\n",
       "      <td>N8719Q</td>\n",
       "      <td>TPA</td>\n",
       "      <td>PHX</td>\n",
       "      <td>1635</td>\n",
       "      <td>1915</td>\n",
       "      <td>280.0</td>\n",
       "      <td>1788.0</td>\n",
       "      <td>12.0</td>\n",
       "      <td>1</td>\n",
       "      <td>6</td>\n",
       "      <td>17.0</td>\n",
       "      <td>10.0</td>\n",
       "      <td>2.0</td>\n",
       "      <td>17.0</td>\n",
       "      <td>10.0</td>\n",
       "    </tr>\n",
       "    <tr>\n",
       "      <th>2</th>\n",
       "      <td>2019-01-27</td>\n",
       "      <td>AA</td>\n",
       "      <td>1684</td>\n",
       "      <td>AA</td>\n",
       "      <td>N702UW</td>\n",
       "      <td>PHL</td>\n",
       "      <td>ATL</td>\n",
       "      <td>1235</td>\n",
       "      <td>1453</td>\n",
       "      <td>138.0</td>\n",
       "      <td>666.0</td>\n",
       "      <td>-15.0</td>\n",
       "      <td>1</td>\n",
       "      <td>6</td>\n",
       "      <td>21.0</td>\n",
       "      <td>10.0</td>\n",
       "      <td>6.0</td>\n",
       "      <td>24.0</td>\n",
       "      <td>12.0</td>\n",
       "    </tr>\n",
       "    <tr>\n",
       "      <th>3</th>\n",
       "      <td>2019-01-28</td>\n",
       "      <td>UA</td>\n",
       "      <td>3592</td>\n",
       "      <td>YX</td>\n",
       "      <td>N642RW</td>\n",
       "      <td>MHT</td>\n",
       "      <td>EWR</td>\n",
       "      <td>1125</td>\n",
       "      <td>1259</td>\n",
       "      <td>94.0</td>\n",
       "      <td>209.0</td>\n",
       "      <td>-17.0</td>\n",
       "      <td>1</td>\n",
       "      <td>0</td>\n",
       "      <td>22.0</td>\n",
       "      <td>15.0</td>\n",
       "      <td>11.0</td>\n",
       "      <td>14.0</td>\n",
       "      <td>8.0</td>\n",
       "    </tr>\n",
       "    <tr>\n",
       "      <th>4</th>\n",
       "      <td>2019-01-10</td>\n",
       "      <td>DL</td>\n",
       "      <td>1486</td>\n",
       "      <td>DL</td>\n",
       "      <td>N593NW</td>\n",
       "      <td>SLC</td>\n",
       "      <td>MCO</td>\n",
       "      <td>1730</td>\n",
       "      <td>2340</td>\n",
       "      <td>250.0</td>\n",
       "      <td>1931.0</td>\n",
       "      <td>-13.0</td>\n",
       "      <td>1</td>\n",
       "      <td>3</td>\n",
       "      <td>25.0</td>\n",
       "      <td>10.0</td>\n",
       "      <td>3.0</td>\n",
       "      <td>24.0</td>\n",
       "      <td>8.0</td>\n",
       "    </tr>\n",
       "  </tbody>\n",
       "</table>\n",
       "</div>"
      ],
      "text/plain": [
       "     fl_date mkt_unique_carrier  mkt_carrier_fl_num op_unique_carrier  \\\n",
       "0 2019-01-07                 DL                2185                DL   \n",
       "1 2019-01-27                 WN                5073                WN   \n",
       "2 2019-01-27                 AA                1684                AA   \n",
       "3 2019-01-28                 UA                3592                YX   \n",
       "4 2019-01-10                 DL                1486                DL   \n",
       "\n",
       "  tail_num origin dest  crs_dep_time  crs_arr_time  crs_elapsed_time  \\\n",
       "0   N378DA    BOS  MSP          1629          1858             209.0   \n",
       "1   N8719Q    TPA  PHX          1635          1915             280.0   \n",
       "2   N702UW    PHL  ATL          1235          1453             138.0   \n",
       "3   N642RW    MHT  EWR          1125          1259              94.0   \n",
       "4   N593NW    SLC  MCO          1730          2340             250.0   \n",
       "\n",
       "   distance  arr_delay  fl_month  fl_wday  mkt_carrier_delay  \\\n",
       "0    1124.0      -11.0         1        0               25.0   \n",
       "1    1788.0       12.0         1        6               17.0   \n",
       "2     666.0      -15.0         1        6               21.0   \n",
       "3     209.0      -17.0         1        0               22.0   \n",
       "4    1931.0      -13.0         1        3               25.0   \n",
       "\n",
       "   mkt_carrier_dep_delay  mkt_arr_delay  op_carrier_delay  \\\n",
       "0                   10.0            3.0              24.0   \n",
       "1                   10.0            2.0              17.0   \n",
       "2                   10.0            6.0              24.0   \n",
       "3                   15.0           11.0              14.0   \n",
       "4                   10.0            3.0              24.0   \n",
       "\n",
       "   op_carrier_dep_delay  \n",
       "0                   8.0  \n",
       "1                  10.0  \n",
       "2                  12.0  \n",
       "3                   8.0  \n",
       "4                   8.0  "
      ]
     },
     "execution_count": 175,
     "metadata": {},
     "output_type": "execute_result"
    }
   ],
   "source": [
    "df_flight.head()"
   ]
  },
  {
   "cell_type": "code",
   "execution_count": 176,
   "id": "98397cda",
   "metadata": {},
   "outputs": [
    {
     "data": {
      "text/plain": [
       "op_carrier_delay        0\n",
       "op_carrier_dep_delay    0\n",
       "dtype: int64"
      ]
     },
     "execution_count": 176,
     "metadata": {},
     "output_type": "execute_result"
    }
   ],
   "source": [
    "df_flight[['op_carrier_delay','op_carrier_dep_delay']].isna().sum()"
   ]
  },
  {
   "cell_type": "markdown",
   "id": "8708a7dc",
   "metadata": {},
   "source": [
    "**5. mkt_carrier_fl_num >> Feature: mkt_carrier_fl_num_weather_delay, mkt_carrier_fl_num_dep_delay**"
   ]
  },
  {
   "cell_type": "code",
   "execution_count": 177,
   "id": "077ef038",
   "metadata": {},
   "outputs": [
    {
     "data": {
      "text/html": [
       "<div>\n",
       "<style scoped>\n",
       "    .dataframe tbody tr th:only-of-type {\n",
       "        vertical-align: middle;\n",
       "    }\n",
       "\n",
       "    .dataframe tbody tr th {\n",
       "        vertical-align: top;\n",
       "    }\n",
       "\n",
       "    .dataframe thead th {\n",
       "        text-align: right;\n",
       "    }\n",
       "</style>\n",
       "<table border=\"1\" class=\"dataframe\">\n",
       "  <thead>\n",
       "    <tr style=\"text-align: right;\">\n",
       "      <th></th>\n",
       "      <th>fl_date</th>\n",
       "      <th>mkt_unique_carrier</th>\n",
       "      <th>mkt_carrier_fl_num</th>\n",
       "      <th>op_unique_carrier</th>\n",
       "      <th>tail_num</th>\n",
       "      <th>origin</th>\n",
       "      <th>dest</th>\n",
       "      <th>crs_dep_time</th>\n",
       "      <th>crs_arr_time</th>\n",
       "      <th>crs_elapsed_time</th>\n",
       "      <th>distance</th>\n",
       "      <th>arr_delay</th>\n",
       "      <th>fl_month</th>\n",
       "      <th>fl_wday</th>\n",
       "      <th>mkt_carrier_delay</th>\n",
       "      <th>mkt_carrier_dep_delay</th>\n",
       "      <th>mkt_arr_delay</th>\n",
       "      <th>op_carrier_delay</th>\n",
       "      <th>op_carrier_dep_delay</th>\n",
       "      <th>mkt_carrier_fl_num_arr_delay</th>\n",
       "    </tr>\n",
       "  </thead>\n",
       "  <tbody>\n",
       "    <tr>\n",
       "      <th>0</th>\n",
       "      <td>2019-01-07</td>\n",
       "      <td>DL</td>\n",
       "      <td>2185</td>\n",
       "      <td>DL</td>\n",
       "      <td>N378DA</td>\n",
       "      <td>BOS</td>\n",
       "      <td>MSP</td>\n",
       "      <td>1629</td>\n",
       "      <td>1858</td>\n",
       "      <td>209.0</td>\n",
       "      <td>1124.0</td>\n",
       "      <td>-11.0</td>\n",
       "      <td>1</td>\n",
       "      <td>0</td>\n",
       "      <td>25.0</td>\n",
       "      <td>10.0</td>\n",
       "      <td>3.0</td>\n",
       "      <td>24.0</td>\n",
       "      <td>8.0</td>\n",
       "      <td>2.0</td>\n",
       "    </tr>\n",
       "    <tr>\n",
       "      <th>1</th>\n",
       "      <td>2019-01-27</td>\n",
       "      <td>WN</td>\n",
       "      <td>5073</td>\n",
       "      <td>WN</td>\n",
       "      <td>N8719Q</td>\n",
       "      <td>TPA</td>\n",
       "      <td>PHX</td>\n",
       "      <td>1635</td>\n",
       "      <td>1915</td>\n",
       "      <td>280.0</td>\n",
       "      <td>1788.0</td>\n",
       "      <td>12.0</td>\n",
       "      <td>1</td>\n",
       "      <td>6</td>\n",
       "      <td>17.0</td>\n",
       "      <td>10.0</td>\n",
       "      <td>2.0</td>\n",
       "      <td>17.0</td>\n",
       "      <td>10.0</td>\n",
       "      <td>9.0</td>\n",
       "    </tr>\n",
       "    <tr>\n",
       "      <th>2</th>\n",
       "      <td>2019-01-27</td>\n",
       "      <td>AA</td>\n",
       "      <td>1684</td>\n",
       "      <td>AA</td>\n",
       "      <td>N702UW</td>\n",
       "      <td>PHL</td>\n",
       "      <td>ATL</td>\n",
       "      <td>1235</td>\n",
       "      <td>1453</td>\n",
       "      <td>138.0</td>\n",
       "      <td>666.0</td>\n",
       "      <td>-15.0</td>\n",
       "      <td>1</td>\n",
       "      <td>6</td>\n",
       "      <td>21.0</td>\n",
       "      <td>10.0</td>\n",
       "      <td>6.0</td>\n",
       "      <td>24.0</td>\n",
       "      <td>12.0</td>\n",
       "      <td>-3.0</td>\n",
       "    </tr>\n",
       "    <tr>\n",
       "      <th>3</th>\n",
       "      <td>2019-01-28</td>\n",
       "      <td>UA</td>\n",
       "      <td>3592</td>\n",
       "      <td>YX</td>\n",
       "      <td>N642RW</td>\n",
       "      <td>MHT</td>\n",
       "      <td>EWR</td>\n",
       "      <td>1125</td>\n",
       "      <td>1259</td>\n",
       "      <td>94.0</td>\n",
       "      <td>209.0</td>\n",
       "      <td>-17.0</td>\n",
       "      <td>1</td>\n",
       "      <td>0</td>\n",
       "      <td>22.0</td>\n",
       "      <td>15.0</td>\n",
       "      <td>11.0</td>\n",
       "      <td>14.0</td>\n",
       "      <td>8.0</td>\n",
       "      <td>5.0</td>\n",
       "    </tr>\n",
       "    <tr>\n",
       "      <th>4</th>\n",
       "      <td>2019-01-10</td>\n",
       "      <td>DL</td>\n",
       "      <td>1486</td>\n",
       "      <td>DL</td>\n",
       "      <td>N593NW</td>\n",
       "      <td>SLC</td>\n",
       "      <td>MCO</td>\n",
       "      <td>1730</td>\n",
       "      <td>2340</td>\n",
       "      <td>250.0</td>\n",
       "      <td>1931.0</td>\n",
       "      <td>-13.0</td>\n",
       "      <td>1</td>\n",
       "      <td>3</td>\n",
       "      <td>25.0</td>\n",
       "      <td>10.0</td>\n",
       "      <td>3.0</td>\n",
       "      <td>24.0</td>\n",
       "      <td>8.0</td>\n",
       "      <td>2.0</td>\n",
       "    </tr>\n",
       "  </tbody>\n",
       "</table>\n",
       "</div>"
      ],
      "text/plain": [
       "     fl_date mkt_unique_carrier  mkt_carrier_fl_num op_unique_carrier  \\\n",
       "0 2019-01-07                 DL                2185                DL   \n",
       "1 2019-01-27                 WN                5073                WN   \n",
       "2 2019-01-27                 AA                1684                AA   \n",
       "3 2019-01-28                 UA                3592                YX   \n",
       "4 2019-01-10                 DL                1486                DL   \n",
       "\n",
       "  tail_num origin dest  crs_dep_time  crs_arr_time  crs_elapsed_time  \\\n",
       "0   N378DA    BOS  MSP          1629          1858             209.0   \n",
       "1   N8719Q    TPA  PHX          1635          1915             280.0   \n",
       "2   N702UW    PHL  ATL          1235          1453             138.0   \n",
       "3   N642RW    MHT  EWR          1125          1259              94.0   \n",
       "4   N593NW    SLC  MCO          1730          2340             250.0   \n",
       "\n",
       "   distance  arr_delay  fl_month  fl_wday  mkt_carrier_delay  \\\n",
       "0    1124.0      -11.0         1        0               25.0   \n",
       "1    1788.0       12.0         1        6               17.0   \n",
       "2     666.0      -15.0         1        6               21.0   \n",
       "3     209.0      -17.0         1        0               22.0   \n",
       "4    1931.0      -13.0         1        3               25.0   \n",
       "\n",
       "   mkt_carrier_dep_delay  mkt_arr_delay  op_carrier_delay  \\\n",
       "0                   10.0            3.0              24.0   \n",
       "1                   10.0            2.0              17.0   \n",
       "2                   10.0            6.0              24.0   \n",
       "3                   15.0           11.0              14.0   \n",
       "4                   10.0            3.0              24.0   \n",
       "\n",
       "   op_carrier_dep_delay  mkt_carrier_fl_num_arr_delay  \n",
       "0                   8.0                           2.0  \n",
       "1                  10.0                           9.0  \n",
       "2                  12.0                          -3.0  \n",
       "3                   8.0                           5.0  \n",
       "4                   8.0                           2.0  "
      ]
     },
     "execution_count": 177,
     "metadata": {},
     "output_type": "execute_result"
    }
   ],
   "source": [
    "df_flight= df_flight.merge(bad_delay_airport,how='left')\n",
    "df_flight.head()"
   ]
  },
  {
   "cell_type": "code",
   "execution_count": 178,
   "id": "ab05f931",
   "metadata": {},
   "outputs": [],
   "source": [
    "df_flight= df_flight.merge(bad_delay_dest,how='left')"
   ]
  },
  {
   "cell_type": "code",
   "execution_count": 179,
   "id": "26a751df",
   "metadata": {},
   "outputs": [],
   "source": [
    "df_flight_test= df_flight_test.merge(bad_delay_airport,how='left')"
   ]
  },
  {
   "cell_type": "code",
   "execution_count": 180,
   "id": "fab66246",
   "metadata": {},
   "outputs": [],
   "source": [
    "df_flight_test= df_flight_test.merge(bad_delay_dest,how='left')"
   ]
  },
  {
   "cell_type": "code",
   "execution_count": 181,
   "id": "56932cff",
   "metadata": {},
   "outputs": [
    {
     "data": {
      "text/html": [
       "<div>\n",
       "<style scoped>\n",
       "    .dataframe tbody tr th:only-of-type {\n",
       "        vertical-align: middle;\n",
       "    }\n",
       "\n",
       "    .dataframe tbody tr th {\n",
       "        vertical-align: top;\n",
       "    }\n",
       "\n",
       "    .dataframe thead th {\n",
       "        text-align: right;\n",
       "    }\n",
       "</style>\n",
       "<table border=\"1\" class=\"dataframe\">\n",
       "  <thead>\n",
       "    <tr style=\"text-align: right;\">\n",
       "      <th></th>\n",
       "      <th>fl_date</th>\n",
       "      <th>mkt_unique_carrier</th>\n",
       "      <th>mkt_carrier_fl_num</th>\n",
       "      <th>op_unique_carrier</th>\n",
       "      <th>tail_num</th>\n",
       "      <th>origin</th>\n",
       "      <th>dest</th>\n",
       "      <th>crs_dep_time</th>\n",
       "      <th>crs_arr_time</th>\n",
       "      <th>crs_elapsed_time</th>\n",
       "      <th>...</th>\n",
       "      <th>fl_month</th>\n",
       "      <th>fl_wday</th>\n",
       "      <th>mkt_carrier_delay</th>\n",
       "      <th>mkt_carrier_dep_delay</th>\n",
       "      <th>mkt_arr_delay</th>\n",
       "      <th>op_carrier_delay</th>\n",
       "      <th>op_carrier_dep_delay</th>\n",
       "      <th>mkt_carrier_fl_num_arr_delay</th>\n",
       "      <th>dest_arr_delay</th>\n",
       "      <th>mkt_carrier_fl_num_taxi_out</th>\n",
       "    </tr>\n",
       "  </thead>\n",
       "  <tbody>\n",
       "    <tr>\n",
       "      <th>0</th>\n",
       "      <td>2019-01-07</td>\n",
       "      <td>DL</td>\n",
       "      <td>2185</td>\n",
       "      <td>DL</td>\n",
       "      <td>N378DA</td>\n",
       "      <td>BOS</td>\n",
       "      <td>MSP</td>\n",
       "      <td>1629</td>\n",
       "      <td>1858</td>\n",
       "      <td>209.0</td>\n",
       "      <td>...</td>\n",
       "      <td>1</td>\n",
       "      <td>0</td>\n",
       "      <td>25.0</td>\n",
       "      <td>10.0</td>\n",
       "      <td>3.0</td>\n",
       "      <td>24.0</td>\n",
       "      <td>8.0</td>\n",
       "      <td>2.0</td>\n",
       "      <td>1.0</td>\n",
       "      <td>16.0</td>\n",
       "    </tr>\n",
       "    <tr>\n",
       "      <th>1</th>\n",
       "      <td>2019-01-27</td>\n",
       "      <td>WN</td>\n",
       "      <td>5073</td>\n",
       "      <td>WN</td>\n",
       "      <td>N8719Q</td>\n",
       "      <td>TPA</td>\n",
       "      <td>PHX</td>\n",
       "      <td>1635</td>\n",
       "      <td>1915</td>\n",
       "      <td>280.0</td>\n",
       "      <td>...</td>\n",
       "      <td>1</td>\n",
       "      <td>6</td>\n",
       "      <td>17.0</td>\n",
       "      <td>10.0</td>\n",
       "      <td>2.0</td>\n",
       "      <td>17.0</td>\n",
       "      <td>10.0</td>\n",
       "      <td>9.0</td>\n",
       "      <td>5.0</td>\n",
       "      <td>20.0</td>\n",
       "    </tr>\n",
       "    <tr>\n",
       "      <th>2</th>\n",
       "      <td>2019-01-27</td>\n",
       "      <td>AA</td>\n",
       "      <td>1684</td>\n",
       "      <td>AA</td>\n",
       "      <td>N702UW</td>\n",
       "      <td>PHL</td>\n",
       "      <td>ATL</td>\n",
       "      <td>1235</td>\n",
       "      <td>1453</td>\n",
       "      <td>138.0</td>\n",
       "      <td>...</td>\n",
       "      <td>1</td>\n",
       "      <td>6</td>\n",
       "      <td>21.0</td>\n",
       "      <td>10.0</td>\n",
       "      <td>6.0</td>\n",
       "      <td>24.0</td>\n",
       "      <td>12.0</td>\n",
       "      <td>-3.0</td>\n",
       "      <td>1.0</td>\n",
       "      <td>15.0</td>\n",
       "    </tr>\n",
       "    <tr>\n",
       "      <th>3</th>\n",
       "      <td>2019-01-28</td>\n",
       "      <td>UA</td>\n",
       "      <td>3592</td>\n",
       "      <td>YX</td>\n",
       "      <td>N642RW</td>\n",
       "      <td>MHT</td>\n",
       "      <td>EWR</td>\n",
       "      <td>1125</td>\n",
       "      <td>1259</td>\n",
       "      <td>94.0</td>\n",
       "      <td>...</td>\n",
       "      <td>1</td>\n",
       "      <td>0</td>\n",
       "      <td>22.0</td>\n",
       "      <td>15.0</td>\n",
       "      <td>11.0</td>\n",
       "      <td>14.0</td>\n",
       "      <td>8.0</td>\n",
       "      <td>5.0</td>\n",
       "      <td>21.0</td>\n",
       "      <td>18.0</td>\n",
       "    </tr>\n",
       "    <tr>\n",
       "      <th>4</th>\n",
       "      <td>2019-01-10</td>\n",
       "      <td>DL</td>\n",
       "      <td>1486</td>\n",
       "      <td>DL</td>\n",
       "      <td>N593NW</td>\n",
       "      <td>SLC</td>\n",
       "      <td>MCO</td>\n",
       "      <td>1730</td>\n",
       "      <td>2340</td>\n",
       "      <td>250.0</td>\n",
       "      <td>...</td>\n",
       "      <td>1</td>\n",
       "      <td>3</td>\n",
       "      <td>25.0</td>\n",
       "      <td>10.0</td>\n",
       "      <td>3.0</td>\n",
       "      <td>24.0</td>\n",
       "      <td>8.0</td>\n",
       "      <td>2.0</td>\n",
       "      <td>6.0</td>\n",
       "      <td>18.0</td>\n",
       "    </tr>\n",
       "  </tbody>\n",
       "</table>\n",
       "<p>5 rows × 22 columns</p>\n",
       "</div>"
      ],
      "text/plain": [
       "     fl_date mkt_unique_carrier  mkt_carrier_fl_num op_unique_carrier  \\\n",
       "0 2019-01-07                 DL                2185                DL   \n",
       "1 2019-01-27                 WN                5073                WN   \n",
       "2 2019-01-27                 AA                1684                AA   \n",
       "3 2019-01-28                 UA                3592                YX   \n",
       "4 2019-01-10                 DL                1486                DL   \n",
       "\n",
       "  tail_num origin dest  crs_dep_time  crs_arr_time  crs_elapsed_time  ...  \\\n",
       "0   N378DA    BOS  MSP          1629          1858             209.0  ...   \n",
       "1   N8719Q    TPA  PHX          1635          1915             280.0  ...   \n",
       "2   N702UW    PHL  ATL          1235          1453             138.0  ...   \n",
       "3   N642RW    MHT  EWR          1125          1259              94.0  ...   \n",
       "4   N593NW    SLC  MCO          1730          2340             250.0  ...   \n",
       "\n",
       "   fl_month  fl_wday  mkt_carrier_delay  mkt_carrier_dep_delay  mkt_arr_delay  \\\n",
       "0         1        0               25.0                   10.0            3.0   \n",
       "1         1        6               17.0                   10.0            2.0   \n",
       "2         1        6               21.0                   10.0            6.0   \n",
       "3         1        0               22.0                   15.0           11.0   \n",
       "4         1        3               25.0                   10.0            3.0   \n",
       "\n",
       "   op_carrier_delay  op_carrier_dep_delay  mkt_carrier_fl_num_arr_delay  \\\n",
       "0              24.0                   8.0                           2.0   \n",
       "1              17.0                  10.0                           9.0   \n",
       "2              24.0                  12.0                          -3.0   \n",
       "3              14.0                   8.0                           5.0   \n",
       "4              24.0                   8.0                           2.0   \n",
       "\n",
       "   dest_arr_delay  mkt_carrier_fl_num_taxi_out  \n",
       "0             1.0                         16.0  \n",
       "1             5.0                         20.0  \n",
       "2             1.0                         15.0  \n",
       "3            21.0                         18.0  \n",
       "4             6.0                         18.0  \n",
       "\n",
       "[5 rows x 22 columns]"
      ]
     },
     "execution_count": 181,
     "metadata": {},
     "output_type": "execute_result"
    }
   ],
   "source": [
    "df_flight= df_flight.merge(taxi_out_airport,how='left')\n",
    "df_flight.head()"
   ]
  },
  {
   "cell_type": "code",
   "execution_count": 182,
   "id": "51e7e50c",
   "metadata": {},
   "outputs": [],
   "source": [
    "df_flight_test= df_flight_test.merge(taxi_out_airport,how='left')"
   ]
  },
  {
   "cell_type": "code",
   "execution_count": 183,
   "id": "f72d06d9",
   "metadata": {},
   "outputs": [
    {
     "data": {
      "text/html": [
       "<div>\n",
       "<style scoped>\n",
       "    .dataframe tbody tr th:only-of-type {\n",
       "        vertical-align: middle;\n",
       "    }\n",
       "\n",
       "    .dataframe tbody tr th {\n",
       "        vertical-align: top;\n",
       "    }\n",
       "\n",
       "    .dataframe thead th {\n",
       "        text-align: right;\n",
       "    }\n",
       "</style>\n",
       "<table border=\"1\" class=\"dataframe\">\n",
       "  <thead>\n",
       "    <tr style=\"text-align: right;\">\n",
       "      <th></th>\n",
       "      <th>fl_date</th>\n",
       "      <th>mkt_unique_carrier</th>\n",
       "      <th>mkt_carrier_fl_num</th>\n",
       "      <th>op_unique_carrier</th>\n",
       "      <th>tail_num</th>\n",
       "      <th>origin</th>\n",
       "      <th>dest</th>\n",
       "      <th>crs_dep_time</th>\n",
       "      <th>crs_arr_time</th>\n",
       "      <th>crs_elapsed_time</th>\n",
       "      <th>...</th>\n",
       "      <th>fl_wday</th>\n",
       "      <th>mkt_carrier_delay</th>\n",
       "      <th>mkt_carrier_dep_delay</th>\n",
       "      <th>mkt_arr_delay</th>\n",
       "      <th>op_carrier_delay</th>\n",
       "      <th>op_carrier_dep_delay</th>\n",
       "      <th>mkt_carrier_fl_num_arr_delay</th>\n",
       "      <th>dest_arr_delay</th>\n",
       "      <th>mkt_carrier_fl_num_taxi_out</th>\n",
       "      <th>mkt_carrier_fl_num_taxi_in</th>\n",
       "    </tr>\n",
       "  </thead>\n",
       "  <tbody>\n",
       "    <tr>\n",
       "      <th>0</th>\n",
       "      <td>2019-01-07</td>\n",
       "      <td>DL</td>\n",
       "      <td>2185</td>\n",
       "      <td>DL</td>\n",
       "      <td>N378DA</td>\n",
       "      <td>BOS</td>\n",
       "      <td>MSP</td>\n",
       "      <td>1629</td>\n",
       "      <td>1858</td>\n",
       "      <td>209.0</td>\n",
       "      <td>...</td>\n",
       "      <td>0</td>\n",
       "      <td>25.0</td>\n",
       "      <td>10.0</td>\n",
       "      <td>3.0</td>\n",
       "      <td>24.0</td>\n",
       "      <td>8.0</td>\n",
       "      <td>2.0</td>\n",
       "      <td>1.0</td>\n",
       "      <td>16.0</td>\n",
       "      <td>8.0</td>\n",
       "    </tr>\n",
       "    <tr>\n",
       "      <th>1</th>\n",
       "      <td>2019-01-27</td>\n",
       "      <td>WN</td>\n",
       "      <td>5073</td>\n",
       "      <td>WN</td>\n",
       "      <td>N8719Q</td>\n",
       "      <td>TPA</td>\n",
       "      <td>PHX</td>\n",
       "      <td>1635</td>\n",
       "      <td>1915</td>\n",
       "      <td>280.0</td>\n",
       "      <td>...</td>\n",
       "      <td>6</td>\n",
       "      <td>17.0</td>\n",
       "      <td>10.0</td>\n",
       "      <td>2.0</td>\n",
       "      <td>17.0</td>\n",
       "      <td>10.0</td>\n",
       "      <td>9.0</td>\n",
       "      <td>5.0</td>\n",
       "      <td>20.0</td>\n",
       "      <td>12.0</td>\n",
       "    </tr>\n",
       "    <tr>\n",
       "      <th>2</th>\n",
       "      <td>2019-01-27</td>\n",
       "      <td>AA</td>\n",
       "      <td>1684</td>\n",
       "      <td>AA</td>\n",
       "      <td>N702UW</td>\n",
       "      <td>PHL</td>\n",
       "      <td>ATL</td>\n",
       "      <td>1235</td>\n",
       "      <td>1453</td>\n",
       "      <td>138.0</td>\n",
       "      <td>...</td>\n",
       "      <td>6</td>\n",
       "      <td>21.0</td>\n",
       "      <td>10.0</td>\n",
       "      <td>6.0</td>\n",
       "      <td>24.0</td>\n",
       "      <td>12.0</td>\n",
       "      <td>-3.0</td>\n",
       "      <td>1.0</td>\n",
       "      <td>15.0</td>\n",
       "      <td>6.0</td>\n",
       "    </tr>\n",
       "    <tr>\n",
       "      <th>3</th>\n",
       "      <td>2019-01-28</td>\n",
       "      <td>UA</td>\n",
       "      <td>3592</td>\n",
       "      <td>YX</td>\n",
       "      <td>N642RW</td>\n",
       "      <td>MHT</td>\n",
       "      <td>EWR</td>\n",
       "      <td>1125</td>\n",
       "      <td>1259</td>\n",
       "      <td>94.0</td>\n",
       "      <td>...</td>\n",
       "      <td>0</td>\n",
       "      <td>22.0</td>\n",
       "      <td>15.0</td>\n",
       "      <td>11.0</td>\n",
       "      <td>14.0</td>\n",
       "      <td>8.0</td>\n",
       "      <td>5.0</td>\n",
       "      <td>21.0</td>\n",
       "      <td>18.0</td>\n",
       "      <td>7.0</td>\n",
       "    </tr>\n",
       "    <tr>\n",
       "      <th>4</th>\n",
       "      <td>2019-01-10</td>\n",
       "      <td>DL</td>\n",
       "      <td>1486</td>\n",
       "      <td>DL</td>\n",
       "      <td>N593NW</td>\n",
       "      <td>SLC</td>\n",
       "      <td>MCO</td>\n",
       "      <td>1730</td>\n",
       "      <td>2340</td>\n",
       "      <td>250.0</td>\n",
       "      <td>...</td>\n",
       "      <td>3</td>\n",
       "      <td>25.0</td>\n",
       "      <td>10.0</td>\n",
       "      <td>3.0</td>\n",
       "      <td>24.0</td>\n",
       "      <td>8.0</td>\n",
       "      <td>2.0</td>\n",
       "      <td>6.0</td>\n",
       "      <td>18.0</td>\n",
       "      <td>8.0</td>\n",
       "    </tr>\n",
       "  </tbody>\n",
       "</table>\n",
       "<p>5 rows × 23 columns</p>\n",
       "</div>"
      ],
      "text/plain": [
       "     fl_date mkt_unique_carrier  mkt_carrier_fl_num op_unique_carrier  \\\n",
       "0 2019-01-07                 DL                2185                DL   \n",
       "1 2019-01-27                 WN                5073                WN   \n",
       "2 2019-01-27                 AA                1684                AA   \n",
       "3 2019-01-28                 UA                3592                YX   \n",
       "4 2019-01-10                 DL                1486                DL   \n",
       "\n",
       "  tail_num origin dest  crs_dep_time  crs_arr_time  crs_elapsed_time  ...  \\\n",
       "0   N378DA    BOS  MSP          1629          1858             209.0  ...   \n",
       "1   N8719Q    TPA  PHX          1635          1915             280.0  ...   \n",
       "2   N702UW    PHL  ATL          1235          1453             138.0  ...   \n",
       "3   N642RW    MHT  EWR          1125          1259              94.0  ...   \n",
       "4   N593NW    SLC  MCO          1730          2340             250.0  ...   \n",
       "\n",
       "   fl_wday  mkt_carrier_delay  mkt_carrier_dep_delay  mkt_arr_delay  \\\n",
       "0        0               25.0                   10.0            3.0   \n",
       "1        6               17.0                   10.0            2.0   \n",
       "2        6               21.0                   10.0            6.0   \n",
       "3        0               22.0                   15.0           11.0   \n",
       "4        3               25.0                   10.0            3.0   \n",
       "\n",
       "   op_carrier_delay  op_carrier_dep_delay  mkt_carrier_fl_num_arr_delay  \\\n",
       "0              24.0                   8.0                           2.0   \n",
       "1              17.0                  10.0                           9.0   \n",
       "2              24.0                  12.0                          -3.0   \n",
       "3              14.0                   8.0                           5.0   \n",
       "4              24.0                   8.0                           2.0   \n",
       "\n",
       "   dest_arr_delay  mkt_carrier_fl_num_taxi_out  mkt_carrier_fl_num_taxi_in  \n",
       "0             1.0                         16.0                         8.0  \n",
       "1             5.0                         20.0                        12.0  \n",
       "2             1.0                         15.0                         6.0  \n",
       "3            21.0                         18.0                         7.0  \n",
       "4             6.0                         18.0                         8.0  \n",
       "\n",
       "[5 rows x 23 columns]"
      ]
     },
     "execution_count": 183,
     "metadata": {},
     "output_type": "execute_result"
    }
   ],
   "source": [
    "df_flight= df_flight.merge(taxi_in_airport,how='left')\n",
    "df_flight.head()"
   ]
  },
  {
   "cell_type": "code",
   "execution_count": 184,
   "id": "e5efae71",
   "metadata": {},
   "outputs": [],
   "source": [
    "df_flight= df_flight.merge(taxi_in_dest,how='left')"
   ]
  },
  {
   "cell_type": "code",
   "execution_count": 185,
   "id": "39a47ca1",
   "metadata": {},
   "outputs": [],
   "source": [
    "df_flight_test = df_flight_test.merge(taxi_in_airport,how='left')"
   ]
  },
  {
   "cell_type": "code",
   "execution_count": 186,
   "id": "6906013c",
   "metadata": {},
   "outputs": [],
   "source": [
    "df_flight_test = df_flight_test.merge(taxi_in_dest,how='left')"
   ]
  },
  {
   "cell_type": "code",
   "execution_count": 187,
   "id": "9e0f4718",
   "metadata": {
    "scrolled": true
   },
   "outputs": [
    {
     "data": {
      "text/html": [
       "<div>\n",
       "<style scoped>\n",
       "    .dataframe tbody tr th:only-of-type {\n",
       "        vertical-align: middle;\n",
       "    }\n",
       "\n",
       "    .dataframe tbody tr th {\n",
       "        vertical-align: top;\n",
       "    }\n",
       "\n",
       "    .dataframe thead th {\n",
       "        text-align: right;\n",
       "    }\n",
       "</style>\n",
       "<table border=\"1\" class=\"dataframe\">\n",
       "  <thead>\n",
       "    <tr style=\"text-align: right;\">\n",
       "      <th></th>\n",
       "      <th>fl_date</th>\n",
       "      <th>mkt_unique_carrier</th>\n",
       "      <th>mkt_carrier_fl_num</th>\n",
       "      <th>op_unique_carrier</th>\n",
       "      <th>tail_num</th>\n",
       "      <th>origin</th>\n",
       "      <th>dest</th>\n",
       "      <th>crs_dep_time</th>\n",
       "      <th>crs_arr_time</th>\n",
       "      <th>crs_elapsed_time</th>\n",
       "      <th>...</th>\n",
       "      <th>mkt_carrier_dep_delay</th>\n",
       "      <th>mkt_arr_delay</th>\n",
       "      <th>op_carrier_delay</th>\n",
       "      <th>op_carrier_dep_delay</th>\n",
       "      <th>mkt_carrier_fl_num_arr_delay</th>\n",
       "      <th>dest_arr_delay</th>\n",
       "      <th>mkt_carrier_fl_num_taxi_out</th>\n",
       "      <th>mkt_carrier_fl_num_taxi_in</th>\n",
       "      <th>dest_taxi_in</th>\n",
       "      <th>mkt_carrier_fl_num_weather_delay</th>\n",
       "    </tr>\n",
       "  </thead>\n",
       "  <tbody>\n",
       "    <tr>\n",
       "      <th>0</th>\n",
       "      <td>2019-01-07</td>\n",
       "      <td>DL</td>\n",
       "      <td>2185</td>\n",
       "      <td>DL</td>\n",
       "      <td>N378DA</td>\n",
       "      <td>BOS</td>\n",
       "      <td>MSP</td>\n",
       "      <td>1629</td>\n",
       "      <td>1858</td>\n",
       "      <td>209.0</td>\n",
       "      <td>...</td>\n",
       "      <td>10.0</td>\n",
       "      <td>3.0</td>\n",
       "      <td>24.0</td>\n",
       "      <td>8.0</td>\n",
       "      <td>2.0</td>\n",
       "      <td>1.0</td>\n",
       "      <td>16.0</td>\n",
       "      <td>8.0</td>\n",
       "      <td>6.0</td>\n",
       "      <td>1.0</td>\n",
       "    </tr>\n",
       "    <tr>\n",
       "      <th>1</th>\n",
       "      <td>2019-01-27</td>\n",
       "      <td>WN</td>\n",
       "      <td>5073</td>\n",
       "      <td>WN</td>\n",
       "      <td>N8719Q</td>\n",
       "      <td>TPA</td>\n",
       "      <td>PHX</td>\n",
       "      <td>1635</td>\n",
       "      <td>1915</td>\n",
       "      <td>280.0</td>\n",
       "      <td>...</td>\n",
       "      <td>10.0</td>\n",
       "      <td>2.0</td>\n",
       "      <td>17.0</td>\n",
       "      <td>10.0</td>\n",
       "      <td>9.0</td>\n",
       "      <td>5.0</td>\n",
       "      <td>20.0</td>\n",
       "      <td>12.0</td>\n",
       "      <td>8.0</td>\n",
       "      <td>0.0</td>\n",
       "    </tr>\n",
       "    <tr>\n",
       "      <th>2</th>\n",
       "      <td>2019-01-27</td>\n",
       "      <td>AA</td>\n",
       "      <td>1684</td>\n",
       "      <td>AA</td>\n",
       "      <td>N702UW</td>\n",
       "      <td>PHL</td>\n",
       "      <td>ATL</td>\n",
       "      <td>1235</td>\n",
       "      <td>1453</td>\n",
       "      <td>138.0</td>\n",
       "      <td>...</td>\n",
       "      <td>10.0</td>\n",
       "      <td>6.0</td>\n",
       "      <td>24.0</td>\n",
       "      <td>12.0</td>\n",
       "      <td>-3.0</td>\n",
       "      <td>1.0</td>\n",
       "      <td>15.0</td>\n",
       "      <td>6.0</td>\n",
       "      <td>9.0</td>\n",
       "      <td>0.0</td>\n",
       "    </tr>\n",
       "    <tr>\n",
       "      <th>3</th>\n",
       "      <td>2019-01-28</td>\n",
       "      <td>UA</td>\n",
       "      <td>3592</td>\n",
       "      <td>YX</td>\n",
       "      <td>N642RW</td>\n",
       "      <td>MHT</td>\n",
       "      <td>EWR</td>\n",
       "      <td>1125</td>\n",
       "      <td>1259</td>\n",
       "      <td>94.0</td>\n",
       "      <td>...</td>\n",
       "      <td>15.0</td>\n",
       "      <td>11.0</td>\n",
       "      <td>14.0</td>\n",
       "      <td>8.0</td>\n",
       "      <td>5.0</td>\n",
       "      <td>21.0</td>\n",
       "      <td>18.0</td>\n",
       "      <td>7.0</td>\n",
       "      <td>11.0</td>\n",
       "      <td>0.0</td>\n",
       "    </tr>\n",
       "    <tr>\n",
       "      <th>4</th>\n",
       "      <td>2019-01-10</td>\n",
       "      <td>DL</td>\n",
       "      <td>1486</td>\n",
       "      <td>DL</td>\n",
       "      <td>N593NW</td>\n",
       "      <td>SLC</td>\n",
       "      <td>MCO</td>\n",
       "      <td>1730</td>\n",
       "      <td>2340</td>\n",
       "      <td>250.0</td>\n",
       "      <td>...</td>\n",
       "      <td>10.0</td>\n",
       "      <td>3.0</td>\n",
       "      <td>24.0</td>\n",
       "      <td>8.0</td>\n",
       "      <td>2.0</td>\n",
       "      <td>6.0</td>\n",
       "      <td>18.0</td>\n",
       "      <td>8.0</td>\n",
       "      <td>9.0</td>\n",
       "      <td>0.0</td>\n",
       "    </tr>\n",
       "  </tbody>\n",
       "</table>\n",
       "<p>5 rows × 25 columns</p>\n",
       "</div>"
      ],
      "text/plain": [
       "     fl_date mkt_unique_carrier  mkt_carrier_fl_num op_unique_carrier  \\\n",
       "0 2019-01-07                 DL                2185                DL   \n",
       "1 2019-01-27                 WN                5073                WN   \n",
       "2 2019-01-27                 AA                1684                AA   \n",
       "3 2019-01-28                 UA                3592                YX   \n",
       "4 2019-01-10                 DL                1486                DL   \n",
       "\n",
       "  tail_num origin dest  crs_dep_time  crs_arr_time  crs_elapsed_time  ...  \\\n",
       "0   N378DA    BOS  MSP          1629          1858             209.0  ...   \n",
       "1   N8719Q    TPA  PHX          1635          1915             280.0  ...   \n",
       "2   N702UW    PHL  ATL          1235          1453             138.0  ...   \n",
       "3   N642RW    MHT  EWR          1125          1259              94.0  ...   \n",
       "4   N593NW    SLC  MCO          1730          2340             250.0  ...   \n",
       "\n",
       "   mkt_carrier_dep_delay  mkt_arr_delay  op_carrier_delay  \\\n",
       "0                   10.0            3.0              24.0   \n",
       "1                   10.0            2.0              17.0   \n",
       "2                   10.0            6.0              24.0   \n",
       "3                   15.0           11.0              14.0   \n",
       "4                   10.0            3.0              24.0   \n",
       "\n",
       "   op_carrier_dep_delay  mkt_carrier_fl_num_arr_delay  dest_arr_delay  \\\n",
       "0                   8.0                           2.0             1.0   \n",
       "1                  10.0                           9.0             5.0   \n",
       "2                  12.0                          -3.0             1.0   \n",
       "3                   8.0                           5.0            21.0   \n",
       "4                   8.0                           2.0             6.0   \n",
       "\n",
       "   mkt_carrier_fl_num_taxi_out  mkt_carrier_fl_num_taxi_in  dest_taxi_in  \\\n",
       "0                         16.0                         8.0           6.0   \n",
       "1                         20.0                        12.0           8.0   \n",
       "2                         15.0                         6.0           9.0   \n",
       "3                         18.0                         7.0          11.0   \n",
       "4                         18.0                         8.0           9.0   \n",
       "\n",
       "   mkt_carrier_fl_num_weather_delay  \n",
       "0                               1.0  \n",
       "1                               0.0  \n",
       "2                               0.0  \n",
       "3                               0.0  \n",
       "4                               0.0  \n",
       "\n",
       "[5 rows x 25 columns]"
      ]
     },
     "execution_count": 187,
     "metadata": {},
     "output_type": "execute_result"
    }
   ],
   "source": [
    "# Ordinal encoder by weather_delay (origin airport with high incidence of weather delay)\n",
    "df_flight= df_flight.merge(bad_weather_airport,how='left')\n",
    "df_flight.head()"
   ]
  },
  {
   "cell_type": "code",
   "execution_count": 188,
   "id": "661ec3f5",
   "metadata": {},
   "outputs": [],
   "source": [
    "df_flight= df_flight.merge(bad_weather_dest,how='left')"
   ]
  },
  {
   "cell_type": "code",
   "execution_count": 189,
   "id": "039790b8",
   "metadata": {},
   "outputs": [],
   "source": [
    "df_flight_test= df_flight_test.merge(bad_weather_airport,how='left')"
   ]
  },
  {
   "cell_type": "code",
   "execution_count": 190,
   "id": "6f32d9e8",
   "metadata": {},
   "outputs": [],
   "source": [
    "df_flight_test= df_flight_test.merge(bad_weather_dest,how='left')"
   ]
  },
  {
   "cell_type": "code",
   "execution_count": 191,
   "id": "d1076d86",
   "metadata": {},
   "outputs": [
    {
     "data": {
      "text/html": [
       "<div>\n",
       "<style scoped>\n",
       "    .dataframe tbody tr th:only-of-type {\n",
       "        vertical-align: middle;\n",
       "    }\n",
       "\n",
       "    .dataframe tbody tr th {\n",
       "        vertical-align: top;\n",
       "    }\n",
       "\n",
       "    .dataframe thead th {\n",
       "        text-align: right;\n",
       "    }\n",
       "</style>\n",
       "<table border=\"1\" class=\"dataframe\">\n",
       "  <thead>\n",
       "    <tr style=\"text-align: right;\">\n",
       "      <th></th>\n",
       "      <th>fl_date</th>\n",
       "      <th>mkt_unique_carrier</th>\n",
       "      <th>mkt_carrier_fl_num</th>\n",
       "      <th>op_unique_carrier</th>\n",
       "      <th>tail_num</th>\n",
       "      <th>origin</th>\n",
       "      <th>dest</th>\n",
       "      <th>crs_dep_time</th>\n",
       "      <th>crs_arr_time</th>\n",
       "      <th>crs_elapsed_time</th>\n",
       "      <th>...</th>\n",
       "      <th>op_carrier_delay</th>\n",
       "      <th>op_carrier_dep_delay</th>\n",
       "      <th>mkt_carrier_fl_num_arr_delay</th>\n",
       "      <th>dest_arr_delay</th>\n",
       "      <th>mkt_carrier_fl_num_taxi_out</th>\n",
       "      <th>mkt_carrier_fl_num_taxi_in</th>\n",
       "      <th>dest_taxi_in</th>\n",
       "      <th>mkt_carrier_fl_num_weather_delay</th>\n",
       "      <th>dest_weather_delay</th>\n",
       "      <th>mkt_carrier_fl_num_dep_delay</th>\n",
       "    </tr>\n",
       "  </thead>\n",
       "  <tbody>\n",
       "    <tr>\n",
       "      <th>0</th>\n",
       "      <td>2019-01-07</td>\n",
       "      <td>DL</td>\n",
       "      <td>2185</td>\n",
       "      <td>DL</td>\n",
       "      <td>N378DA</td>\n",
       "      <td>BOS</td>\n",
       "      <td>MSP</td>\n",
       "      <td>1629</td>\n",
       "      <td>1858</td>\n",
       "      <td>209.0</td>\n",
       "      <td>...</td>\n",
       "      <td>24.0</td>\n",
       "      <td>8.0</td>\n",
       "      <td>2.0</td>\n",
       "      <td>1.0</td>\n",
       "      <td>16.0</td>\n",
       "      <td>8.0</td>\n",
       "      <td>6.0</td>\n",
       "      <td>1.0</td>\n",
       "      <td>10.0</td>\n",
       "      <td>7.0</td>\n",
       "    </tr>\n",
       "    <tr>\n",
       "      <th>1</th>\n",
       "      <td>2019-01-27</td>\n",
       "      <td>WN</td>\n",
       "      <td>5073</td>\n",
       "      <td>WN</td>\n",
       "      <td>N8719Q</td>\n",
       "      <td>TPA</td>\n",
       "      <td>PHX</td>\n",
       "      <td>1635</td>\n",
       "      <td>1915</td>\n",
       "      <td>280.0</td>\n",
       "      <td>...</td>\n",
       "      <td>17.0</td>\n",
       "      <td>10.0</td>\n",
       "      <td>9.0</td>\n",
       "      <td>5.0</td>\n",
       "      <td>20.0</td>\n",
       "      <td>12.0</td>\n",
       "      <td>8.0</td>\n",
       "      <td>0.0</td>\n",
       "      <td>2.0</td>\n",
       "      <td>14.0</td>\n",
       "    </tr>\n",
       "    <tr>\n",
       "      <th>2</th>\n",
       "      <td>2019-01-27</td>\n",
       "      <td>AA</td>\n",
       "      <td>1684</td>\n",
       "      <td>AA</td>\n",
       "      <td>N702UW</td>\n",
       "      <td>PHL</td>\n",
       "      <td>ATL</td>\n",
       "      <td>1235</td>\n",
       "      <td>1453</td>\n",
       "      <td>138.0</td>\n",
       "      <td>...</td>\n",
       "      <td>24.0</td>\n",
       "      <td>12.0</td>\n",
       "      <td>-3.0</td>\n",
       "      <td>1.0</td>\n",
       "      <td>15.0</td>\n",
       "      <td>6.0</td>\n",
       "      <td>9.0</td>\n",
       "      <td>0.0</td>\n",
       "      <td>4.0</td>\n",
       "      <td>5.0</td>\n",
       "    </tr>\n",
       "    <tr>\n",
       "      <th>3</th>\n",
       "      <td>2019-01-28</td>\n",
       "      <td>UA</td>\n",
       "      <td>3592</td>\n",
       "      <td>YX</td>\n",
       "      <td>N642RW</td>\n",
       "      <td>MHT</td>\n",
       "      <td>EWR</td>\n",
       "      <td>1125</td>\n",
       "      <td>1259</td>\n",
       "      <td>94.0</td>\n",
       "      <td>...</td>\n",
       "      <td>14.0</td>\n",
       "      <td>8.0</td>\n",
       "      <td>5.0</td>\n",
       "      <td>21.0</td>\n",
       "      <td>18.0</td>\n",
       "      <td>7.0</td>\n",
       "      <td>11.0</td>\n",
       "      <td>0.0</td>\n",
       "      <td>4.0</td>\n",
       "      <td>9.0</td>\n",
       "    </tr>\n",
       "    <tr>\n",
       "      <th>4</th>\n",
       "      <td>2019-01-10</td>\n",
       "      <td>DL</td>\n",
       "      <td>1486</td>\n",
       "      <td>DL</td>\n",
       "      <td>N593NW</td>\n",
       "      <td>SLC</td>\n",
       "      <td>MCO</td>\n",
       "      <td>1730</td>\n",
       "      <td>2340</td>\n",
       "      <td>250.0</td>\n",
       "      <td>...</td>\n",
       "      <td>24.0</td>\n",
       "      <td>8.0</td>\n",
       "      <td>2.0</td>\n",
       "      <td>6.0</td>\n",
       "      <td>18.0</td>\n",
       "      <td>8.0</td>\n",
       "      <td>9.0</td>\n",
       "      <td>0.0</td>\n",
       "      <td>2.0</td>\n",
       "      <td>6.0</td>\n",
       "    </tr>\n",
       "  </tbody>\n",
       "</table>\n",
       "<p>5 rows × 27 columns</p>\n",
       "</div>"
      ],
      "text/plain": [
       "     fl_date mkt_unique_carrier  mkt_carrier_fl_num op_unique_carrier  \\\n",
       "0 2019-01-07                 DL                2185                DL   \n",
       "1 2019-01-27                 WN                5073                WN   \n",
       "2 2019-01-27                 AA                1684                AA   \n",
       "3 2019-01-28                 UA                3592                YX   \n",
       "4 2019-01-10                 DL                1486                DL   \n",
       "\n",
       "  tail_num origin dest  crs_dep_time  crs_arr_time  crs_elapsed_time  ...  \\\n",
       "0   N378DA    BOS  MSP          1629          1858             209.0  ...   \n",
       "1   N8719Q    TPA  PHX          1635          1915             280.0  ...   \n",
       "2   N702UW    PHL  ATL          1235          1453             138.0  ...   \n",
       "3   N642RW    MHT  EWR          1125          1259              94.0  ...   \n",
       "4   N593NW    SLC  MCO          1730          2340             250.0  ...   \n",
       "\n",
       "   op_carrier_delay  op_carrier_dep_delay  mkt_carrier_fl_num_arr_delay  \\\n",
       "0              24.0                   8.0                           2.0   \n",
       "1              17.0                  10.0                           9.0   \n",
       "2              24.0                  12.0                          -3.0   \n",
       "3              14.0                   8.0                           5.0   \n",
       "4              24.0                   8.0                           2.0   \n",
       "\n",
       "   dest_arr_delay  mkt_carrier_fl_num_taxi_out  mkt_carrier_fl_num_taxi_in  \\\n",
       "0             1.0                         16.0                         8.0   \n",
       "1             5.0                         20.0                        12.0   \n",
       "2             1.0                         15.0                         6.0   \n",
       "3            21.0                         18.0                         7.0   \n",
       "4             6.0                         18.0                         8.0   \n",
       "\n",
       "   dest_taxi_in  mkt_carrier_fl_num_weather_delay  dest_weather_delay  \\\n",
       "0           6.0                               1.0                10.0   \n",
       "1           8.0                               0.0                 2.0   \n",
       "2           9.0                               0.0                 4.0   \n",
       "3          11.0                               0.0                 4.0   \n",
       "4           9.0                               0.0                 2.0   \n",
       "\n",
       "   mkt_carrier_fl_num_dep_delay  \n",
       "0                           7.0  \n",
       "1                          14.0  \n",
       "2                           5.0  \n",
       "3                           9.0  \n",
       "4                           6.0  \n",
       "\n",
       "[5 rows x 27 columns]"
      ]
     },
     "execution_count": 191,
     "metadata": {},
     "output_type": "execute_result"
    }
   ],
   "source": [
    "# Ordinal encoder by departure_delay (origin airport with high incidence of departure delay)\n",
    "df_flight= df_flight.merge(departure_delay_airport,how='left')\n",
    "df_flight.head()"
   ]
  },
  {
   "cell_type": "code",
   "execution_count": 192,
   "id": "1d6440a7",
   "metadata": {},
   "outputs": [],
   "source": [
    "df_flight= df_flight.merge(departure_delay_dest,how='left')"
   ]
  },
  {
   "cell_type": "code",
   "execution_count": 193,
   "id": "a4885bb3",
   "metadata": {},
   "outputs": [],
   "source": [
    "df_flight_test= df_flight_test.merge(departure_delay_airport,how='left')"
   ]
  },
  {
   "cell_type": "code",
   "execution_count": 194,
   "id": "42de23e7",
   "metadata": {},
   "outputs": [],
   "source": [
    "df_flight_test= df_flight_test.merge(departure_delay_dest,how='left')"
   ]
  },
  {
   "cell_type": "markdown",
   "id": "01803170",
   "metadata": {},
   "source": [
    "**6. traffic by airport by hour**"
   ]
  },
  {
   "cell_type": "code",
   "execution_count": 195,
   "id": "e057d9ad",
   "metadata": {},
   "outputs": [
    {
     "data": {
      "text/html": [
       "<div>\n",
       "<style scoped>\n",
       "    .dataframe tbody tr th:only-of-type {\n",
       "        vertical-align: middle;\n",
       "    }\n",
       "\n",
       "    .dataframe tbody tr th {\n",
       "        vertical-align: top;\n",
       "    }\n",
       "\n",
       "    .dataframe thead th {\n",
       "        text-align: right;\n",
       "    }\n",
       "</style>\n",
       "<table border=\"1\" class=\"dataframe\">\n",
       "  <thead>\n",
       "    <tr style=\"text-align: right;\">\n",
       "      <th></th>\n",
       "      <th>fl_date</th>\n",
       "      <th>mkt_unique_carrier</th>\n",
       "      <th>mkt_carrier_fl_num</th>\n",
       "      <th>op_unique_carrier</th>\n",
       "      <th>tail_num</th>\n",
       "      <th>origin</th>\n",
       "      <th>dest</th>\n",
       "      <th>crs_dep_time</th>\n",
       "      <th>crs_arr_time</th>\n",
       "      <th>crs_elapsed_time</th>\n",
       "      <th>...</th>\n",
       "      <th>mkt_carrier_fl_num_arr_delay</th>\n",
       "      <th>dest_arr_delay</th>\n",
       "      <th>mkt_carrier_fl_num_taxi_out</th>\n",
       "      <th>mkt_carrier_fl_num_taxi_in</th>\n",
       "      <th>dest_taxi_in</th>\n",
       "      <th>mkt_carrier_fl_num_weather_delay</th>\n",
       "      <th>dest_weather_delay</th>\n",
       "      <th>mkt_carrier_fl_num_dep_delay</th>\n",
       "      <th>dest_dep_delay</th>\n",
       "      <th>crs_dep_hour</th>\n",
       "    </tr>\n",
       "  </thead>\n",
       "  <tbody>\n",
       "    <tr>\n",
       "      <th>0</th>\n",
       "      <td>2019-01-07</td>\n",
       "      <td>DL</td>\n",
       "      <td>2185</td>\n",
       "      <td>DL</td>\n",
       "      <td>N378DA</td>\n",
       "      <td>BOS</td>\n",
       "      <td>MSP</td>\n",
       "      <td>1629</td>\n",
       "      <td>1858</td>\n",
       "      <td>209.0</td>\n",
       "      <td>...</td>\n",
       "      <td>2.0</td>\n",
       "      <td>1.0</td>\n",
       "      <td>16.0</td>\n",
       "      <td>8.0</td>\n",
       "      <td>6.0</td>\n",
       "      <td>1.0</td>\n",
       "      <td>10.0</td>\n",
       "      <td>7.0</td>\n",
       "      <td>8.0</td>\n",
       "      <td>16.0</td>\n",
       "    </tr>\n",
       "    <tr>\n",
       "      <th>1</th>\n",
       "      <td>2019-01-27</td>\n",
       "      <td>WN</td>\n",
       "      <td>5073</td>\n",
       "      <td>WN</td>\n",
       "      <td>N8719Q</td>\n",
       "      <td>TPA</td>\n",
       "      <td>PHX</td>\n",
       "      <td>1635</td>\n",
       "      <td>1915</td>\n",
       "      <td>280.0</td>\n",
       "      <td>...</td>\n",
       "      <td>9.0</td>\n",
       "      <td>5.0</td>\n",
       "      <td>20.0</td>\n",
       "      <td>12.0</td>\n",
       "      <td>8.0</td>\n",
       "      <td>0.0</td>\n",
       "      <td>2.0</td>\n",
       "      <td>14.0</td>\n",
       "      <td>10.0</td>\n",
       "      <td>16.0</td>\n",
       "    </tr>\n",
       "    <tr>\n",
       "      <th>2</th>\n",
       "      <td>2019-01-27</td>\n",
       "      <td>AA</td>\n",
       "      <td>1684</td>\n",
       "      <td>AA</td>\n",
       "      <td>N702UW</td>\n",
       "      <td>PHL</td>\n",
       "      <td>ATL</td>\n",
       "      <td>1235</td>\n",
       "      <td>1453</td>\n",
       "      <td>138.0</td>\n",
       "      <td>...</td>\n",
       "      <td>-3.0</td>\n",
       "      <td>1.0</td>\n",
       "      <td>15.0</td>\n",
       "      <td>6.0</td>\n",
       "      <td>9.0</td>\n",
       "      <td>0.0</td>\n",
       "      <td>4.0</td>\n",
       "      <td>5.0</td>\n",
       "      <td>7.0</td>\n",
       "      <td>12.0</td>\n",
       "    </tr>\n",
       "    <tr>\n",
       "      <th>3</th>\n",
       "      <td>2019-01-28</td>\n",
       "      <td>UA</td>\n",
       "      <td>3592</td>\n",
       "      <td>YX</td>\n",
       "      <td>N642RW</td>\n",
       "      <td>MHT</td>\n",
       "      <td>EWR</td>\n",
       "      <td>1125</td>\n",
       "      <td>1259</td>\n",
       "      <td>94.0</td>\n",
       "      <td>...</td>\n",
       "      <td>5.0</td>\n",
       "      <td>21.0</td>\n",
       "      <td>18.0</td>\n",
       "      <td>7.0</td>\n",
       "      <td>11.0</td>\n",
       "      <td>0.0</td>\n",
       "      <td>4.0</td>\n",
       "      <td>9.0</td>\n",
       "      <td>25.0</td>\n",
       "      <td>11.0</td>\n",
       "    </tr>\n",
       "    <tr>\n",
       "      <th>4</th>\n",
       "      <td>2019-01-10</td>\n",
       "      <td>DL</td>\n",
       "      <td>1486</td>\n",
       "      <td>DL</td>\n",
       "      <td>N593NW</td>\n",
       "      <td>SLC</td>\n",
       "      <td>MCO</td>\n",
       "      <td>1730</td>\n",
       "      <td>2340</td>\n",
       "      <td>250.0</td>\n",
       "      <td>...</td>\n",
       "      <td>2.0</td>\n",
       "      <td>6.0</td>\n",
       "      <td>18.0</td>\n",
       "      <td>8.0</td>\n",
       "      <td>9.0</td>\n",
       "      <td>0.0</td>\n",
       "      <td>2.0</td>\n",
       "      <td>6.0</td>\n",
       "      <td>12.0</td>\n",
       "      <td>17.0</td>\n",
       "    </tr>\n",
       "  </tbody>\n",
       "</table>\n",
       "<p>5 rows × 29 columns</p>\n",
       "</div>"
      ],
      "text/plain": [
       "     fl_date mkt_unique_carrier  mkt_carrier_fl_num op_unique_carrier  \\\n",
       "0 2019-01-07                 DL                2185                DL   \n",
       "1 2019-01-27                 WN                5073                WN   \n",
       "2 2019-01-27                 AA                1684                AA   \n",
       "3 2019-01-28                 UA                3592                YX   \n",
       "4 2019-01-10                 DL                1486                DL   \n",
       "\n",
       "  tail_num origin dest  crs_dep_time  crs_arr_time  crs_elapsed_time  ...  \\\n",
       "0   N378DA    BOS  MSP          1629          1858             209.0  ...   \n",
       "1   N8719Q    TPA  PHX          1635          1915             280.0  ...   \n",
       "2   N702UW    PHL  ATL          1235          1453             138.0  ...   \n",
       "3   N642RW    MHT  EWR          1125          1259              94.0  ...   \n",
       "4   N593NW    SLC  MCO          1730          2340             250.0  ...   \n",
       "\n",
       "   mkt_carrier_fl_num_arr_delay  dest_arr_delay  mkt_carrier_fl_num_taxi_out  \\\n",
       "0                           2.0             1.0                         16.0   \n",
       "1                           9.0             5.0                         20.0   \n",
       "2                          -3.0             1.0                         15.0   \n",
       "3                           5.0            21.0                         18.0   \n",
       "4                           2.0             6.0                         18.0   \n",
       "\n",
       "   mkt_carrier_fl_num_taxi_in  dest_taxi_in  mkt_carrier_fl_num_weather_delay  \\\n",
       "0                         8.0           6.0                               1.0   \n",
       "1                        12.0           8.0                               0.0   \n",
       "2                         6.0           9.0                               0.0   \n",
       "3                         7.0          11.0                               0.0   \n",
       "4                         8.0           9.0                               0.0   \n",
       "\n",
       "   dest_weather_delay  mkt_carrier_fl_num_dep_delay  dest_dep_delay  \\\n",
       "0                10.0                           7.0             8.0   \n",
       "1                 2.0                          14.0            10.0   \n",
       "2                 4.0                           5.0             7.0   \n",
       "3                 4.0                           9.0            25.0   \n",
       "4                 2.0                           6.0            12.0   \n",
       "\n",
       "   crs_dep_hour  \n",
       "0          16.0  \n",
       "1          16.0  \n",
       "2          12.0  \n",
       "3          11.0  \n",
       "4          17.0  \n",
       "\n",
       "[5 rows x 29 columns]"
      ]
     },
     "execution_count": 195,
     "metadata": {},
     "output_type": "execute_result"
    }
   ],
   "source": [
    "# round up dep_time to hour\n",
    "df_flight['crs_dep_hour']= np.floor(df_flight.crs_dep_time/100)\n",
    "df_flight.head()"
   ]
  },
  {
   "cell_type": "code",
   "execution_count": 196,
   "id": "797dc15e",
   "metadata": {},
   "outputs": [],
   "source": [
    "df_flight_test['crs_dep_hour']= np.floor(df_flight_test.crs_dep_time/100)"
   ]
  },
  {
   "cell_type": "code",
   "execution_count": 197,
   "id": "fb7051cf",
   "metadata": {},
   "outputs": [
    {
     "data": {
      "text/plain": [
       "origin  fl_date     crs_dep_hour\n",
       "ORD     2019-09-30  8.0             11\n",
       "        2019-02-05  11.0            11\n",
       "ATL     2019-09-22  9.0             10\n",
       "CLT     2019-11-22  16.0            10\n",
       "DEN     2019-09-30  19.0            10\n",
       "                                    ..\n",
       "HOU     2019-08-19  6.0              1\n",
       "                    11.0             1\n",
       "        2019-08-20  6.0              1\n",
       "                    9.0              1\n",
       "YUM     2019-12-29  21.0             1\n",
       "Name: mkt_unique_carrier, Length: 205222, dtype: int64"
      ]
     },
     "execution_count": 197,
     "metadata": {},
     "output_type": "execute_result"
    }
   ],
   "source": [
    "# at the departure time, how many flights are schedule to departure within the same timeslot (hrs) at the origin airport\n",
    "df_flight.groupby(['origin','fl_date','crs_dep_hour'])['mkt_unique_carrier'].count().sort_values(ascending=False)"
   ]
  },
  {
   "cell_type": "code",
   "execution_count": 198,
   "id": "6b359cc4",
   "metadata": {},
   "outputs": [],
   "source": [
    "df_flight['departure_traffic']=df_flight.groupby(['origin','fl_date','crs_dep_hour'])['mkt_unique_carrier'].transform('count')"
   ]
  },
  {
   "cell_type": "code",
   "execution_count": 199,
   "id": "19952e00",
   "metadata": {},
   "outputs": [],
   "source": [
    "df_flight_test['departure_traffic']=df_flight_test.groupby(['origin','fl_date','crs_dep_hour'])['mkt_unique_carrier'].transform('count')"
   ]
  },
  {
   "cell_type": "code",
   "execution_count": 200,
   "id": "d827a748",
   "metadata": {},
   "outputs": [
    {
     "data": {
      "text/html": [
       "<div>\n",
       "<style scoped>\n",
       "    .dataframe tbody tr th:only-of-type {\n",
       "        vertical-align: middle;\n",
       "    }\n",
       "\n",
       "    .dataframe tbody tr th {\n",
       "        vertical-align: top;\n",
       "    }\n",
       "\n",
       "    .dataframe thead th {\n",
       "        text-align: right;\n",
       "    }\n",
       "</style>\n",
       "<table border=\"1\" class=\"dataframe\">\n",
       "  <thead>\n",
       "    <tr style=\"text-align: right;\">\n",
       "      <th></th>\n",
       "      <th>fl_date</th>\n",
       "      <th>mkt_unique_carrier</th>\n",
       "      <th>mkt_carrier_fl_num</th>\n",
       "      <th>op_unique_carrier</th>\n",
       "      <th>tail_num</th>\n",
       "      <th>origin</th>\n",
       "      <th>dest</th>\n",
       "      <th>crs_dep_time</th>\n",
       "      <th>crs_arr_time</th>\n",
       "      <th>crs_elapsed_time</th>\n",
       "      <th>...</th>\n",
       "      <th>dest_arr_delay</th>\n",
       "      <th>mkt_carrier_fl_num_taxi_out</th>\n",
       "      <th>mkt_carrier_fl_num_taxi_in</th>\n",
       "      <th>dest_taxi_in</th>\n",
       "      <th>mkt_carrier_fl_num_weather_delay</th>\n",
       "      <th>dest_weather_delay</th>\n",
       "      <th>mkt_carrier_fl_num_dep_delay</th>\n",
       "      <th>dest_dep_delay</th>\n",
       "      <th>crs_dep_hour</th>\n",
       "      <th>departure_traffic</th>\n",
       "    </tr>\n",
       "  </thead>\n",
       "  <tbody>\n",
       "    <tr>\n",
       "      <th>0</th>\n",
       "      <td>2019-01-07</td>\n",
       "      <td>DL</td>\n",
       "      <td>2185</td>\n",
       "      <td>DL</td>\n",
       "      <td>N378DA</td>\n",
       "      <td>BOS</td>\n",
       "      <td>MSP</td>\n",
       "      <td>1629</td>\n",
       "      <td>1858</td>\n",
       "      <td>209.0</td>\n",
       "      <td>...</td>\n",
       "      <td>1.0</td>\n",
       "      <td>16.0</td>\n",
       "      <td>8.0</td>\n",
       "      <td>6.0</td>\n",
       "      <td>1.0</td>\n",
       "      <td>10.0</td>\n",
       "      <td>7.0</td>\n",
       "      <td>8.0</td>\n",
       "      <td>16.0</td>\n",
       "      <td>4</td>\n",
       "    </tr>\n",
       "    <tr>\n",
       "      <th>1</th>\n",
       "      <td>2019-01-27</td>\n",
       "      <td>WN</td>\n",
       "      <td>5073</td>\n",
       "      <td>WN</td>\n",
       "      <td>N8719Q</td>\n",
       "      <td>TPA</td>\n",
       "      <td>PHX</td>\n",
       "      <td>1635</td>\n",
       "      <td>1915</td>\n",
       "      <td>280.0</td>\n",
       "      <td>...</td>\n",
       "      <td>5.0</td>\n",
       "      <td>20.0</td>\n",
       "      <td>12.0</td>\n",
       "      <td>8.0</td>\n",
       "      <td>0.0</td>\n",
       "      <td>2.0</td>\n",
       "      <td>14.0</td>\n",
       "      <td>10.0</td>\n",
       "      <td>16.0</td>\n",
       "      <td>1</td>\n",
       "    </tr>\n",
       "    <tr>\n",
       "      <th>2</th>\n",
       "      <td>2019-01-27</td>\n",
       "      <td>AA</td>\n",
       "      <td>1684</td>\n",
       "      <td>AA</td>\n",
       "      <td>N702UW</td>\n",
       "      <td>PHL</td>\n",
       "      <td>ATL</td>\n",
       "      <td>1235</td>\n",
       "      <td>1453</td>\n",
       "      <td>138.0</td>\n",
       "      <td>...</td>\n",
       "      <td>1.0</td>\n",
       "      <td>15.0</td>\n",
       "      <td>6.0</td>\n",
       "      <td>9.0</td>\n",
       "      <td>0.0</td>\n",
       "      <td>4.0</td>\n",
       "      <td>5.0</td>\n",
       "      <td>7.0</td>\n",
       "      <td>12.0</td>\n",
       "      <td>3</td>\n",
       "    </tr>\n",
       "    <tr>\n",
       "      <th>3</th>\n",
       "      <td>2019-01-28</td>\n",
       "      <td>UA</td>\n",
       "      <td>3592</td>\n",
       "      <td>YX</td>\n",
       "      <td>N642RW</td>\n",
       "      <td>MHT</td>\n",
       "      <td>EWR</td>\n",
       "      <td>1125</td>\n",
       "      <td>1259</td>\n",
       "      <td>94.0</td>\n",
       "      <td>...</td>\n",
       "      <td>21.0</td>\n",
       "      <td>18.0</td>\n",
       "      <td>7.0</td>\n",
       "      <td>11.0</td>\n",
       "      <td>0.0</td>\n",
       "      <td>4.0</td>\n",
       "      <td>9.0</td>\n",
       "      <td>25.0</td>\n",
       "      <td>11.0</td>\n",
       "      <td>1</td>\n",
       "    </tr>\n",
       "    <tr>\n",
       "      <th>4</th>\n",
       "      <td>2019-01-10</td>\n",
       "      <td>DL</td>\n",
       "      <td>1486</td>\n",
       "      <td>DL</td>\n",
       "      <td>N593NW</td>\n",
       "      <td>SLC</td>\n",
       "      <td>MCO</td>\n",
       "      <td>1730</td>\n",
       "      <td>2340</td>\n",
       "      <td>250.0</td>\n",
       "      <td>...</td>\n",
       "      <td>6.0</td>\n",
       "      <td>18.0</td>\n",
       "      <td>8.0</td>\n",
       "      <td>9.0</td>\n",
       "      <td>0.0</td>\n",
       "      <td>2.0</td>\n",
       "      <td>6.0</td>\n",
       "      <td>12.0</td>\n",
       "      <td>17.0</td>\n",
       "      <td>1</td>\n",
       "    </tr>\n",
       "  </tbody>\n",
       "</table>\n",
       "<p>5 rows × 30 columns</p>\n",
       "</div>"
      ],
      "text/plain": [
       "     fl_date mkt_unique_carrier  mkt_carrier_fl_num op_unique_carrier  \\\n",
       "0 2019-01-07                 DL                2185                DL   \n",
       "1 2019-01-27                 WN                5073                WN   \n",
       "2 2019-01-27                 AA                1684                AA   \n",
       "3 2019-01-28                 UA                3592                YX   \n",
       "4 2019-01-10                 DL                1486                DL   \n",
       "\n",
       "  tail_num origin dest  crs_dep_time  crs_arr_time  crs_elapsed_time  ...  \\\n",
       "0   N378DA    BOS  MSP          1629          1858             209.0  ...   \n",
       "1   N8719Q    TPA  PHX          1635          1915             280.0  ...   \n",
       "2   N702UW    PHL  ATL          1235          1453             138.0  ...   \n",
       "3   N642RW    MHT  EWR          1125          1259              94.0  ...   \n",
       "4   N593NW    SLC  MCO          1730          2340             250.0  ...   \n",
       "\n",
       "   dest_arr_delay  mkt_carrier_fl_num_taxi_out  mkt_carrier_fl_num_taxi_in  \\\n",
       "0             1.0                         16.0                         8.0   \n",
       "1             5.0                         20.0                        12.0   \n",
       "2             1.0                         15.0                         6.0   \n",
       "3            21.0                         18.0                         7.0   \n",
       "4             6.0                         18.0                         8.0   \n",
       "\n",
       "   dest_taxi_in  mkt_carrier_fl_num_weather_delay  dest_weather_delay  \\\n",
       "0           6.0                               1.0                10.0   \n",
       "1           8.0                               0.0                 2.0   \n",
       "2           9.0                               0.0                 4.0   \n",
       "3          11.0                               0.0                 4.0   \n",
       "4           9.0                               0.0                 2.0   \n",
       "\n",
       "   mkt_carrier_fl_num_dep_delay  dest_dep_delay  crs_dep_hour  \\\n",
       "0                           7.0             8.0          16.0   \n",
       "1                          14.0            10.0          16.0   \n",
       "2                           5.0             7.0          12.0   \n",
       "3                           9.0            25.0          11.0   \n",
       "4                           6.0            12.0          17.0   \n",
       "\n",
       "   departure_traffic  \n",
       "0                  4  \n",
       "1                  1  \n",
       "2                  3  \n",
       "3                  1  \n",
       "4                  1  \n",
       "\n",
       "[5 rows x 30 columns]"
      ]
     },
     "execution_count": 200,
     "metadata": {},
     "output_type": "execute_result"
    }
   ],
   "source": [
    "df_flight.head()"
   ]
  },
  {
   "cell_type": "markdown",
   "id": "0d086580",
   "metadata": {},
   "source": [
    "## Modeling"
   ]
  },
  {
   "cell_type": "code",
   "execution_count": 201,
   "id": "70658bc5",
   "metadata": {},
   "outputs": [],
   "source": [
    "from sklearn.model_selection import train_test_split"
   ]
  },
  {
   "cell_type": "code",
   "execution_count": 202,
   "id": "e4226d6f",
   "metadata": {},
   "outputs": [],
   "source": [
    "X = df_flight.drop(columns=['arr_delay'])"
   ]
  },
  {
   "cell_type": "code",
   "execution_count": 203,
   "id": "014a3a2c",
   "metadata": {},
   "outputs": [],
   "source": [
    "Y = df_flight['arr_delay']"
   ]
  },
  {
   "cell_type": "code",
   "execution_count": 204,
   "id": "17af7bca",
   "metadata": {},
   "outputs": [
    {
     "name": "stdout",
     "output_type": "stream",
     "text": [
      "<class 'pandas.core.frame.DataFrame'>\n",
      "Int64Index: 293446 entries, 0 to 293445\n",
      "Data columns (total 29 columns):\n",
      " #   Column                            Non-Null Count   Dtype         \n",
      "---  ------                            --------------   -----         \n",
      " 0   fl_date                           293446 non-null  datetime64[ns]\n",
      " 1   mkt_unique_carrier                293446 non-null  object        \n",
      " 2   mkt_carrier_fl_num                293446 non-null  int64         \n",
      " 3   op_unique_carrier                 293446 non-null  object        \n",
      " 4   tail_num                          293446 non-null  object        \n",
      " 5   origin                            293446 non-null  object        \n",
      " 6   dest                              293446 non-null  object        \n",
      " 7   crs_dep_time                      293446 non-null  int64         \n",
      " 8   crs_arr_time                      293446 non-null  int64         \n",
      " 9   crs_elapsed_time                  293446 non-null  float64       \n",
      " 10  distance                          293446 non-null  float64       \n",
      " 11  fl_month                          293446 non-null  int64         \n",
      " 12  fl_wday                           293446 non-null  int64         \n",
      " 13  mkt_carrier_delay                 293446 non-null  float64       \n",
      " 14  mkt_carrier_dep_delay             293446 non-null  float64       \n",
      " 15  mkt_arr_delay                     293446 non-null  float64       \n",
      " 16  op_carrier_delay                  293446 non-null  float64       \n",
      " 17  op_carrier_dep_delay              293446 non-null  float64       \n",
      " 18  mkt_carrier_fl_num_arr_delay      293446 non-null  float64       \n",
      " 19  dest_arr_delay                    293446 non-null  float64       \n",
      " 20  mkt_carrier_fl_num_taxi_out       293446 non-null  float64       \n",
      " 21  mkt_carrier_fl_num_taxi_in        293446 non-null  float64       \n",
      " 22  dest_taxi_in                      293446 non-null  float64       \n",
      " 23  mkt_carrier_fl_num_weather_delay  293446 non-null  float64       \n",
      " 24  dest_weather_delay                293446 non-null  float64       \n",
      " 25  mkt_carrier_fl_num_dep_delay      293446 non-null  float64       \n",
      " 26  dest_dep_delay                    293446 non-null  float64       \n",
      " 27  crs_dep_hour                      293446 non-null  float64       \n",
      " 28  departure_traffic                 293446 non-null  int64         \n",
      "dtypes: datetime64[ns](1), float64(17), int64(6), object(5)\n",
      "memory usage: 67.2+ MB\n"
     ]
    }
   ],
   "source": [
    "X.info()"
   ]
  },
  {
   "cell_type": "code",
   "execution_count": 205,
   "id": "d6a730a3",
   "metadata": {},
   "outputs": [],
   "source": [
    "X = X.drop(columns=['fl_date', 'mkt_unique_carrier', 'op_unique_carrier',\n",
    "                    'tail_num', 'mkt_carrier_fl_num', 'origin', 'dest',\n",
    "                    'departure_traffic'])"
   ]
  },
  {
   "cell_type": "code",
   "execution_count": 142,
   "id": "cc295b87",
   "metadata": {},
   "outputs": [],
   "source": [
    "# day = pd.get_dummies(X['fl_wday'], drop_first=True)\n",
    "# month = pd.get_dummies(X['fl_month'], prefix='M', drop_first=True)"
   ]
  },
  {
   "cell_type": "code",
   "execution_count": 143,
   "id": "6f9bc6e8",
   "metadata": {},
   "outputs": [],
   "source": [
    "# X = X.merge(day, left_index=True, right_index=True)\n",
    "# X = X.merge(month, left_index=True, right_index=True)"
   ]
  },
  {
   "cell_type": "code",
   "execution_count": 144,
   "id": "27cdae78",
   "metadata": {},
   "outputs": [],
   "source": [
    "# X = X.drop(columns=['fl_wday', 'fl_month'])"
   ]
  },
  {
   "cell_type": "code",
   "execution_count": 206,
   "id": "79e799b8",
   "metadata": {},
   "outputs": [],
   "source": [
    "X_train, X_test, y_train, y_test = train_test_split(X,Y,\n",
    "                                                   test_size=0.2,\n",
    "                                                   random_state=42)"
   ]
  },
  {
   "cell_type": "markdown",
   "id": "e3f7f128",
   "metadata": {},
   "source": [
    "### Linear Regression"
   ]
  },
  {
   "cell_type": "code",
   "execution_count": 207,
   "id": "db889462",
   "metadata": {},
   "outputs": [
    {
     "name": "stdout",
     "output_type": "stream",
     "text": [
      "<class 'pandas.core.frame.DataFrame'>\n",
      "Int64Index: 234756 entries, 78882 to 121958\n",
      "Data columns (total 21 columns):\n",
      " #   Column                            Non-Null Count   Dtype  \n",
      "---  ------                            --------------   -----  \n",
      " 0   crs_dep_time                      234756 non-null  int64  \n",
      " 1   crs_arr_time                      234756 non-null  int64  \n",
      " 2   crs_elapsed_time                  234756 non-null  float64\n",
      " 3   distance                          234756 non-null  float64\n",
      " 4   fl_month                          234756 non-null  int64  \n",
      " 5   fl_wday                           234756 non-null  int64  \n",
      " 6   mkt_carrier_delay                 234756 non-null  float64\n",
      " 7   mkt_carrier_dep_delay             234756 non-null  float64\n",
      " 8   mkt_arr_delay                     234756 non-null  float64\n",
      " 9   op_carrier_delay                  234756 non-null  float64\n",
      " 10  op_carrier_dep_delay              234756 non-null  float64\n",
      " 11  mkt_carrier_fl_num_arr_delay      234756 non-null  float64\n",
      " 12  dest_arr_delay                    234756 non-null  float64\n",
      " 13  mkt_carrier_fl_num_taxi_out       234756 non-null  float64\n",
      " 14  mkt_carrier_fl_num_taxi_in        234756 non-null  float64\n",
      " 15  dest_taxi_in                      234756 non-null  float64\n",
      " 16  mkt_carrier_fl_num_weather_delay  234756 non-null  float64\n",
      " 17  dest_weather_delay                234756 non-null  float64\n",
      " 18  mkt_carrier_fl_num_dep_delay      234756 non-null  float64\n",
      " 19  dest_dep_delay                    234756 non-null  float64\n",
      " 20  crs_dep_hour                      234756 non-null  float64\n",
      "dtypes: float64(17), int64(4)\n",
      "memory usage: 39.4 MB\n"
     ]
    }
   ],
   "source": [
    "X_train.info()"
   ]
  },
  {
   "cell_type": "code",
   "execution_count": 208,
   "id": "85ff5d81",
   "metadata": {},
   "outputs": [],
   "source": [
    "from sklearn.linear_model import LinearRegression"
   ]
  },
  {
   "cell_type": "code",
   "execution_count": 209,
   "id": "68f5a0cb",
   "metadata": {},
   "outputs": [
    {
     "data": {
      "text/plain": [
       "LinearRegression()"
      ]
     },
     "execution_count": 209,
     "metadata": {},
     "output_type": "execute_result"
    }
   ],
   "source": [
    "model_lr = LinearRegression()\n",
    "model_lr.fit(X_train, y_train)"
   ]
  },
  {
   "cell_type": "code",
   "execution_count": 210,
   "id": "2f1b4bfa",
   "metadata": {},
   "outputs": [
    {
     "data": {
      "text/plain": [
       "0.04414721474680716"
      ]
     },
     "execution_count": 210,
     "metadata": {},
     "output_type": "execute_result"
    }
   ],
   "source": [
    "model_lr.score(X_train, y_train)"
   ]
  },
  {
   "cell_type": "code",
   "execution_count": 211,
   "id": "f17ba5af",
   "metadata": {},
   "outputs": [
    {
     "data": {
      "text/plain": [
       "0.03832635531238027"
      ]
     },
     "execution_count": 211,
     "metadata": {},
     "output_type": "execute_result"
    }
   ],
   "source": [
    "model_lr.score(X_test, y_test)"
   ]
  },
  {
   "cell_type": "markdown",
   "id": "449c5749",
   "metadata": {},
   "source": [
    "### Decision Tree"
   ]
  },
  {
   "cell_type": "code",
   "execution_count": 212,
   "id": "6da7f34c",
   "metadata": {},
   "outputs": [],
   "source": [
    "from sklearn.tree import DecisionTreeRegressor"
   ]
  },
  {
   "cell_type": "code",
   "execution_count": 213,
   "id": "5ddb1c77",
   "metadata": {},
   "outputs": [
    {
     "data": {
      "text/plain": [
       "DecisionTreeRegressor(min_samples_leaf=5)"
      ]
     },
     "execution_count": 213,
     "metadata": {},
     "output_type": "execute_result"
    }
   ],
   "source": [
    "model_tree = DecisionTreeRegressor(min_samples_leaf=5)\n",
    "model_tree.fit(X_train, y_train)"
   ]
  },
  {
   "cell_type": "code",
   "execution_count": 214,
   "id": "1aafe9d9",
   "metadata": {},
   "outputs": [
    {
     "data": {
      "text/plain": [
       "0.3926040142157057"
      ]
     },
     "execution_count": 214,
     "metadata": {},
     "output_type": "execute_result"
    }
   ],
   "source": [
    "model_tree.score(X_train, y_train)"
   ]
  },
  {
   "cell_type": "code",
   "execution_count": 215,
   "id": "62b3b94a",
   "metadata": {},
   "outputs": [
    {
     "data": {
      "text/plain": [
       "-0.3431869867945616"
      ]
     },
     "execution_count": 215,
     "metadata": {},
     "output_type": "execute_result"
    }
   ],
   "source": [
    "model_tree.score(X_test, y_test)"
   ]
  },
  {
   "cell_type": "markdown",
   "id": "18201d1a",
   "metadata": {},
   "source": [
    "### Random Forest"
   ]
  },
  {
   "cell_type": "code",
   "execution_count": 216,
   "id": "b2cbaa26",
   "metadata": {},
   "outputs": [
    {
     "data": {
      "text/plain": [
       "(234756, 21)"
      ]
     },
     "execution_count": 216,
     "metadata": {},
     "output_type": "execute_result"
    }
   ],
   "source": [
    "X_train.shape"
   ]
  },
  {
   "cell_type": "code",
   "execution_count": 217,
   "id": "8b484f5d",
   "metadata": {},
   "outputs": [],
   "source": [
    "from sklearn.ensemble import RandomForestRegressor"
   ]
  },
  {
   "cell_type": "markdown",
   "id": "818af117",
   "metadata": {},
   "source": [
    "__Model 1__"
   ]
  },
  {
   "cell_type": "code",
   "execution_count": 218,
   "id": "07cc6756",
   "metadata": {},
   "outputs": [
    {
     "data": {
      "text/plain": [
       "RandomForestRegressor(max_features=10, min_samples_leaf=5, n_estimators=300)"
      ]
     },
     "execution_count": 218,
     "metadata": {},
     "output_type": "execute_result"
    }
   ],
   "source": [
    "model = RandomForestRegressor(n_estimators=300, max_features=10, min_samples_leaf=5,)\n",
    "model.fit(X_train, y_train)"
   ]
  },
  {
   "cell_type": "code",
   "execution_count": 219,
   "id": "72f539fa",
   "metadata": {},
   "outputs": [
    {
     "data": {
      "text/plain": [
       "0.3733989019110572"
      ]
     },
     "execution_count": 219,
     "metadata": {},
     "output_type": "execute_result"
    }
   ],
   "source": [
    "model.score(X_train,y_train)"
   ]
  },
  {
   "cell_type": "code",
   "execution_count": 220,
   "id": "dcb58d71",
   "metadata": {},
   "outputs": [
    {
     "data": {
      "text/plain": [
       "0.007466014346393046"
      ]
     },
     "execution_count": 220,
     "metadata": {},
     "output_type": "execute_result"
    }
   ],
   "source": [
    "model.score(X_test,y_test)"
   ]
  },
  {
   "cell_type": "code",
   "execution_count": 221,
   "id": "efdd1e3c",
   "metadata": {},
   "outputs": [
    {
     "name": "stdout",
     "output_type": "stream",
     "text": [
      "<class 'pandas.core.frame.DataFrame'>\n",
      "Int64Index: 234756 entries, 78882 to 121958\n",
      "Data columns (total 21 columns):\n",
      " #   Column                            Non-Null Count   Dtype  \n",
      "---  ------                            --------------   -----  \n",
      " 0   crs_dep_time                      234756 non-null  int64  \n",
      " 1   crs_arr_time                      234756 non-null  int64  \n",
      " 2   crs_elapsed_time                  234756 non-null  float64\n",
      " 3   distance                          234756 non-null  float64\n",
      " 4   fl_month                          234756 non-null  int64  \n",
      " 5   fl_wday                           234756 non-null  int64  \n",
      " 6   mkt_carrier_delay                 234756 non-null  float64\n",
      " 7   mkt_carrier_dep_delay             234756 non-null  float64\n",
      " 8   mkt_arr_delay                     234756 non-null  float64\n",
      " 9   op_carrier_delay                  234756 non-null  float64\n",
      " 10  op_carrier_dep_delay              234756 non-null  float64\n",
      " 11  mkt_carrier_fl_num_arr_delay      234756 non-null  float64\n",
      " 12  dest_arr_delay                    234756 non-null  float64\n",
      " 13  mkt_carrier_fl_num_taxi_out       234756 non-null  float64\n",
      " 14  mkt_carrier_fl_num_taxi_in        234756 non-null  float64\n",
      " 15  dest_taxi_in                      234756 non-null  float64\n",
      " 16  mkt_carrier_fl_num_weather_delay  234756 non-null  float64\n",
      " 17  dest_weather_delay                234756 non-null  float64\n",
      " 18  mkt_carrier_fl_num_dep_delay      234756 non-null  float64\n",
      " 19  dest_dep_delay                    234756 non-null  float64\n",
      " 20  crs_dep_hour                      234756 non-null  float64\n",
      "dtypes: float64(17), int64(4)\n",
      "memory usage: 39.4 MB\n"
     ]
    }
   ],
   "source": [
    "X_train.info()"
   ]
  },
  {
   "cell_type": "markdown",
   "id": "1666a25c",
   "metadata": {},
   "source": [
    "__Model 2__"
   ]
  },
  {
   "cell_type": "code",
   "execution_count": 222,
   "id": "a1c22045",
   "metadata": {},
   "outputs": [
    {
     "data": {
      "text/plain": [
       "RandomForestRegressor(max_features=10, min_samples_leaf=5, n_estimators=500)"
      ]
     },
     "execution_count": 222,
     "metadata": {},
     "output_type": "execute_result"
    }
   ],
   "source": [
    "model_2 = RandomForestRegressor(n_estimators=500, max_features=10, min_samples_leaf=5,)\n",
    "model_2.fit(X_train, y_train)"
   ]
  },
  {
   "cell_type": "code",
   "execution_count": 223,
   "id": "02b443b6",
   "metadata": {},
   "outputs": [
    {
     "data": {
      "text/plain": [
       "0.374331538676957"
      ]
     },
     "execution_count": 223,
     "metadata": {},
     "output_type": "execute_result"
    }
   ],
   "source": [
    "model_2.score(X_train,y_train)"
   ]
  },
  {
   "cell_type": "code",
   "execution_count": 224,
   "id": "fdb534ef",
   "metadata": {},
   "outputs": [
    {
     "data": {
      "text/plain": [
       "0.007837079392609025"
      ]
     },
     "execution_count": 224,
     "metadata": {},
     "output_type": "execute_result"
    }
   ],
   "source": [
    "model_2.score(X_test,y_test)"
   ]
  },
  {
   "cell_type": "markdown",
   "id": "4a0d9f27",
   "metadata": {},
   "source": [
    "__Model 3__"
   ]
  },
  {
   "cell_type": "code",
   "execution_count": 225,
   "id": "a9126126",
   "metadata": {},
   "outputs": [
    {
     "data": {
      "text/plain": [
       "RandomForestRegressor(min_samples_leaf=10, n_estimators=500)"
      ]
     },
     "execution_count": 225,
     "metadata": {},
     "output_type": "execute_result"
    }
   ],
   "source": [
    "model_3 = RandomForestRegressor(n_estimators=500, min_samples_leaf=10,)\n",
    "model_3.fit(X_train, y_train)"
   ]
  },
  {
   "cell_type": "code",
   "execution_count": 226,
   "id": "4d201f82",
   "metadata": {},
   "outputs": [
    {
     "data": {
      "text/plain": [
       "0.28084786973915377"
      ]
     },
     "execution_count": 226,
     "metadata": {},
     "output_type": "execute_result"
    }
   ],
   "source": [
    "model_3.score(X_train,y_train)"
   ]
  },
  {
   "cell_type": "code",
   "execution_count": 227,
   "id": "b814e823",
   "metadata": {},
   "outputs": [
    {
     "data": {
      "text/plain": [
       "0.027613354389047995"
      ]
     },
     "execution_count": 227,
     "metadata": {},
     "output_type": "execute_result"
    }
   ],
   "source": [
    "model_3.score(X_test,y_test)"
   ]
  },
  {
   "cell_type": "markdown",
   "id": "9ddf0ff4",
   "metadata": {},
   "source": [
    "### Test set"
   ]
  },
  {
   "cell_type": "code",
   "execution_count": 228,
   "id": "10446fe3",
   "metadata": {},
   "outputs": [],
   "source": [
    "X_test_2020 = df_flight_test.drop(columns=['fl_date', 'mkt_unique_carrier', 'op_unique_carrier',\n",
    "                               'tail_num', 'mkt_carrier_fl_num', 'origin', 'dest',\n",
    "                               'departure_traffic'])"
   ]
  },
  {
   "cell_type": "code",
   "execution_count": 229,
   "id": "e25e0764",
   "metadata": {},
   "outputs": [
    {
     "name": "stdout",
     "output_type": "stream",
     "text": [
      "<class 'pandas.core.frame.DataFrame'>\n",
      "Int64Index: 150623 entries, 0 to 150622\n",
      "Data columns (total 21 columns):\n",
      " #   Column                            Non-Null Count   Dtype  \n",
      "---  ------                            --------------   -----  \n",
      " 0   crs_dep_time                      150623 non-null  int64  \n",
      " 1   crs_arr_time                      150623 non-null  int64  \n",
      " 2   crs_elapsed_time                  150623 non-null  int64  \n",
      " 3   distance                          150623 non-null  int64  \n",
      " 4   fl_month                          150623 non-null  int64  \n",
      " 5   fl_wday                           150623 non-null  int64  \n",
      " 6   mkt_carrier_delay                 150623 non-null  float64\n",
      " 7   mkt_carrier_dep_delay             150623 non-null  float64\n",
      " 8   mkt_arr_delay                     150623 non-null  float64\n",
      " 9   op_carrier_delay                  150623 non-null  float64\n",
      " 10  op_carrier_dep_delay              150623 non-null  float64\n",
      " 11  mkt_carrier_fl_num_arr_delay      150212 non-null  float64\n",
      " 12  dest_arr_delay                    150623 non-null  float64\n",
      " 13  mkt_carrier_fl_num_taxi_out       150212 non-null  float64\n",
      " 14  mkt_carrier_fl_num_taxi_in        150212 non-null  float64\n",
      " 15  dest_taxi_in                      150623 non-null  float64\n",
      " 16  mkt_carrier_fl_num_weather_delay  150212 non-null  float64\n",
      " 17  dest_weather_delay                150623 non-null  float64\n",
      " 18  mkt_carrier_fl_num_dep_delay      150212 non-null  float64\n",
      " 19  dest_dep_delay                    150623 non-null  float64\n",
      " 20  crs_dep_hour                      150623 non-null  float64\n",
      "dtypes: float64(15), int64(6)\n",
      "memory usage: 25.3 MB\n"
     ]
    }
   ],
   "source": [
    "X_test_2020.info()"
   ]
  },
  {
   "cell_type": "code",
   "execution_count": 231,
   "id": "e6e85bb1",
   "metadata": {},
   "outputs": [],
   "source": [
    "X_test_2020['mkt_carrier_fl_num_arr_delay'].fillna(X_test_2020['mkt_carrier_fl_num_arr_delay'].mean(), inplace=True)\n",
    "X_test_2020['mkt_carrier_fl_num_taxi_out'].fillna(X_test_2020['mkt_carrier_fl_num_taxi_out'].mean(), inplace=True)\n",
    "X_test_2020['mkt_carrier_fl_num_taxi_in'].fillna(X_test_2020['mkt_carrier_fl_num_taxi_in'].mean(), inplace=True)\n",
    "X_test_2020['mkt_carrier_fl_num_weather_delay'].fillna(X_test_2020['mkt_carrier_fl_num_weather_delay'].mean(), inplace=True)\n",
    "X_test_2020['mkt_carrier_fl_num_dep_delay'].fillna(X_test_2020['mkt_carrier_fl_num_dep_delay'].mean(), inplace=True)"
   ]
  },
  {
   "cell_type": "code",
   "execution_count": 232,
   "id": "546b6465",
   "metadata": {},
   "outputs": [],
   "source": [
    "y_predict_2020 = model_3.predict(X_test_2020)"
   ]
  },
  {
   "cell_type": "code",
   "execution_count": 233,
   "id": "fd1e6770",
   "metadata": {},
   "outputs": [
    {
     "data": {
      "text/plain": [
       "(150623,)"
      ]
     },
     "execution_count": 233,
     "metadata": {},
     "output_type": "execute_result"
    }
   ],
   "source": [
    "y_predict_2020.shape"
   ]
  },
  {
   "cell_type": "code",
   "execution_count": 234,
   "id": "2cba993f",
   "metadata": {},
   "outputs": [],
   "source": [
    "result = pd.read_csv('data/flights_test.csv',\n",
    "                    usecols=['fl_date', 'mkt_carrier', 'mkt_carrier_fl_num',\n",
    "                            'origin', 'dest'])"
   ]
  },
  {
   "cell_type": "code",
   "execution_count": 235,
   "id": "ce0b63d4",
   "metadata": {},
   "outputs": [],
   "source": [
    "result['predicted_delay'] = y_predict_2020"
   ]
  },
  {
   "cell_type": "code",
   "execution_count": 236,
   "id": "0eecc4c5",
   "metadata": {},
   "outputs": [
    {
     "name": "stdout",
     "output_type": "stream",
     "text": [
      "<class 'pandas.core.frame.DataFrame'>\n",
      "RangeIndex: 150623 entries, 0 to 150622\n",
      "Data columns (total 6 columns):\n",
      " #   Column              Non-Null Count   Dtype  \n",
      "---  ------              --------------   -----  \n",
      " 0   fl_date             150623 non-null  object \n",
      " 1   mkt_carrier         150623 non-null  object \n",
      " 2   mkt_carrier_fl_num  150623 non-null  int64  \n",
      " 3   origin              150623 non-null  object \n",
      " 4   dest                150623 non-null  object \n",
      " 5   predicted_delay     150623 non-null  float64\n",
      "dtypes: float64(1), int64(1), object(4)\n",
      "memory usage: 6.9+ MB\n"
     ]
    }
   ],
   "source": [
    "result.info()"
   ]
  },
  {
   "cell_type": "code",
   "execution_count": 237,
   "id": "34a844bc",
   "metadata": {},
   "outputs": [],
   "source": [
    "result.to_csv('data/result_submission_3.csv', index=False)"
   ]
  },
  {
   "cell_type": "code",
   "execution_count": null,
   "id": "f100046d",
   "metadata": {},
   "outputs": [],
   "source": []
  }
 ],
 "metadata": {
  "kernelspec": {
   "display_name": "Python 3 (ipykernel)",
   "language": "python",
   "name": "python3"
  },
  "language_info": {
   "codemirror_mode": {
    "name": "ipython",
    "version": 3
   },
   "file_extension": ".py",
   "mimetype": "text/x-python",
   "name": "python",
   "nbconvert_exporter": "python",
   "pygments_lexer": "ipython3",
   "version": "3.8.6"
  }
 },
 "nbformat": 4,
 "nbformat_minor": 5
}
